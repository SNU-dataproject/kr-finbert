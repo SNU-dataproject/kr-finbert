{
 "cells": [
  {
   "cell_type": "code",
   "execution_count": 56,
   "metadata": {},
   "outputs": [],
   "source": [
    "import pandas as pd\n",
    "import numpy as np\n",
    "import re"
   ]
  },
  {
   "cell_type": "code",
   "execution_count": 20,
   "metadata": {},
   "outputs": [],
   "source": [
    "def preprocess(row):\n",
    "    row = re.sub('ㅁ', \"\", row)\n",
    "    row = re.sub(r\"\\n\", \",\", row)\n",
    "    \n",
    "    # 용어\n",
    "    row = re.sub(\"YoY|yoy|YOY\", \"전년 대비 증감율\", row)\n",
    "    row = re.sub(\"QoQ|qoq|QOQ\", \"전분기 대비 증감율\", row)\n",
    "    row = re.sub(\"MoM|mom|MOM\", \"전월 대비 증감율\", row)\n",
    "    row = re.sub(\"YTD\", \"연초 누계\", row)\n",
    "    row = re.sub(\"MTD\", \"월초 누계\", row)\n",
    "    \n",
    "    # 분기 표현 1Q21->21년도 1분기\n",
    "    quarter_rule = re.compile(r'([1-4]Q[\\d]{2})')\n",
    "    quarter_text = quarter_rule.finditer(row)\n",
    "    startIdxList = []\n",
    "    for text in quarter_text :\n",
    "        startIdxList.append(text.start())\n",
    "    for i in range(len(startIdxList)-1, -1, -1) :\n",
    "        idx = startIdxList[i]\n",
    "        quar = row[idx:idx+4]\n",
    "        new_quar_text = row[idx+2:idx+4]+\"년도 \"+row[idx]+\"분기 \"\n",
    "        row = row.replace(quar, new_quar_text)\n",
    "        \n",
    "    # [내용] 제거\n",
    "    row = re.sub(r'\\[[^)]*\\]', '', row)\n",
    "        \n",
    "    # 다중 띄어쓰기\n",
    "    row = re.sub(' +', ' ', row)\n",
    "    \n",
    "    # 앞뒤 공백\n",
    "    row = re.sub(r\"^\\s+\", \"\", row, flags=re.UNICODE)\n",
    "    row = re.sub(r\"\\s+$\", \"\", row, flags=re.UNICODE)\n",
    "    \n",
    "    return row"
   ]
  },
  {
   "cell_type": "code",
   "execution_count": 62,
   "metadata": {},
   "outputs": [
    {
     "name": "stderr",
     "output_type": "stream",
     "text": [
      "C:\\Users\\user\\AppData\\Local\\Temp/ipykernel_10020/3842574801.py:18: SettingWithCopyWarning: \n",
      "A value is trying to be set on a copy of a slice from a DataFrame\n",
      "\n",
      "See the caveats in the documentation: https://pandas.pydata.org/pandas-docs/stable/user_guide/indexing.html#returning-a-view-versus-a-copy\n",
      "  df['title'][i] = preprocess(df['title'][i])\n"
     ]
    },
    {
     "name": "stdout",
     "output_type": "stream",
     "text": [
      "1000\n",
      "2000\n",
      "3000\n",
      "4000\n",
      "5000\n",
      "6000\n",
      "7000\n",
      "8000\n",
      "9000\n",
      "10000\n",
      "11000\n",
      "12000\n",
      "13000\n",
      "14000\n",
      "15000\n",
      "16000\n",
      "17000\n",
      "date     0\n",
      "title    0\n",
      "dtype: int64\n",
      "date     0\n",
      "title    3\n",
      "dtype: int64\n",
      "Done!\n",
      "          date                                              title\n",
      "250 2021-11-18  \"알리페이 지분에\" 코스피200 편입 제동 걸린 카카오페이…'국민주' 등극한 카카오...\n",
      "251 2021-11-19              ‘7만 전자’ 박스권 갇힌 삼성, 미·중 반도체 패권 전쟁 수혜보나\n",
      "252 2021-11-21                 ‘국민주’ 삼전·카카오 부침에 매도하는 개미들, 사들이는 기관\n",
      "253 2021-11-22                   삼전 급반등에 반도체 부품株 동반 강세…원익IPS 12%↑\n",
      "254 2021-11-22                반도체 '투톱' 5~7%대 급등하니... 코스피 3000선 탈환\n",
      "255 2021-11-22                           반도체 '투톱' 쌍끌이…코스피 3010 회복\n",
      "256 2021-11-22                                삼전·하이닉스 개미 간만에 ‘활짝’\n",
      "257 2021-11-22                    외국인 국내주식 망한 이유…계란을 삼전 바구니에만 담아서\n",
      "258 2021-11-22                    삼성전자·SK하이닉스 주가 고공행진…D램시장 바닥 찍었나\n",
      "259 2021-11-22                       반도체 겨울 끝났나…삼전 5%↑ SK하이닉스 7%↑\n"
     ]
    }
   ],
   "source": [
    "filename = \"./combined_dataset.xlsx\"\n",
    "# filename = \"./report.xlsx\"\n",
    "df = pd.read_excel(filename)\n",
    "\n",
    "# print(df.isnull().sum())\n",
    "# print(df)\n",
    "\n",
    "logCnt = 1000\n",
    "plusCnt = 1000\n",
    "for i in range(len(df)) :\n",
    "    if(i == logCnt) :\n",
    "        print(i)\n",
    "        logCnt += plusCnt\n",
    "#     print(i, df['title'][i])\n",
    "    \n",
    "    # 영어로만 구성된 row는 drop\n",
    "    if(len(re.findall(u'[가-힣]+', df['title'][i]))>0) :\n",
    "        df['title'][i] = preprocess(df['title'][i])\n",
    "    else :\n",
    "        df = df.drop(i)\n",
    "\n",
    "df['title'].replace('', np.nan, inplace=True)\n",
    "df = df.dropna(subset=['title'])\n",
    "df = df.reset_index(drop=True)\n",
    "print(\"Done!\")\n",
    "# print(df[250:260])"
   ]
  },
  {
   "cell_type": "code",
   "execution_count": 63,
   "metadata": {},
   "outputs": [],
   "source": [
    "df.to_excel(\"./combined_dataset_cleaned.xlsx\", index = False)"
   ]
  },
  {
   "cell_type": "code",
   "execution_count": null,
   "metadata": {},
   "outputs": [],
   "source": []
  }
 ],
 "metadata": {
  "kernelspec": {
   "display_name": "Python 3",
   "language": "python",
   "name": "python3"
  },
  "language_info": {
   "codemirror_mode": {
    "name": "ipython",
    "version": 3
   },
   "file_extension": ".py",
   "mimetype": "text/x-python",
   "name": "python",
   "nbconvert_exporter": "python",
   "pygments_lexer": "ipython3",
   "version": "3.8.5"
  }
 },
 "nbformat": 4,
 "nbformat_minor": 5
}
