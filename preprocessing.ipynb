{
 "cells": [
  {
   "cell_type": "code",
   "execution_count": 1,
   "metadata": {},
   "outputs": [],
   "source": [
    "import pandas as pd\n",
    "import numpy as np\n",
    "import re"
   ]
  },
  {
   "cell_type": "code",
   "execution_count": 2,
   "metadata": {},
   "outputs": [],
   "source": [
    "def preprocess(row):\n",
    "    row = re.sub('ㅁ', \"\", row)\n",
    "    row = re.sub(r\"\\n\", \",\", row)\n",
    "    \n",
    "    # 용어\n",
    "    row = re.sub(\"YoY|yoy|YOY\", \"전년 대비 증감율\", row)\n",
    "    row = re.sub(\"QoQ|qoq|QOQ\", \"전분기 대비 증감율\", row)\n",
    "    row = re.sub(\"MoM|mom|MOM\", \"전월 대비 증감율\", row)\n",
    "    row = re.sub(\"YTD\", \"연초 누계\", row)\n",
    "    row = re.sub(\"MTD\", \"월초 누계\", row)\n",
    "    \n",
    "    # 분기 표현 1Q21->21년도 1분기\n",
    "    quarter_rule = re.compile(r'([1-4]Q[\\d]{2})')\n",
    "    quarter_text = quarter_rule.finditer(row)\n",
    "    startIdxList = []\n",
    "    for text in quarter_text :\n",
    "        startIdxList.append(text.start())\n",
    "    for i in range(len(startIdxList)-1, -1, -1) :\n",
    "        idx = startIdxList[i]\n",
    "        quar = row[idx:idx+4]\n",
    "        new_quar_text = row[idx+2:idx+4]+\"년도 \"+row[idx]+\"분기 \"\n",
    "        row = row.replace(quar, new_quar_text)\n",
    "        \n",
    "    # [내용] 제거\n",
    "    row = re.sub(r'\\[[^)]*\\]', '', row)\n",
    "        \n",
    "    # 다중 띄어쓰기\n",
    "    row = re.sub(' +', ' ', row)\n",
    "    \n",
    "    # 앞뒤 공백\n",
    "    row = re.sub(r\"^\\s+\", \"\", row, flags=re.UNICODE)\n",
    "    row = re.sub(r\"\\s+$\", \"\", row, flags=re.UNICODE)\n",
    "    \n",
    "    return row"
   ]
  },
  {
   "cell_type": "code",
   "execution_count": 3,
   "metadata": {},
   "outputs": [
    {
     "data": {
      "text/html": [
       "<div>\n",
       "<style scoped>\n",
       "    .dataframe tbody tr th:only-of-type {\n",
       "        vertical-align: middle;\n",
       "    }\n",
       "\n",
       "    .dataframe tbody tr th {\n",
       "        vertical-align: top;\n",
       "    }\n",
       "\n",
       "    .dataframe thead th {\n",
       "        text-align: right;\n",
       "    }\n",
       "</style>\n",
       "<table border=\"1\" class=\"dataframe\">\n",
       "  <thead>\n",
       "    <tr style=\"text-align: right;\">\n",
       "      <th></th>\n",
       "      <th>Unnamed: 0</th>\n",
       "      <th>date</th>\n",
       "      <th>title</th>\n",
       "      <th>press</th>\n",
       "      <th>link</th>\n",
       "    </tr>\n",
       "  </thead>\n",
       "  <tbody>\n",
       "    <tr>\n",
       "      <th>0</th>\n",
       "      <td>0</td>\n",
       "      <td>20210601</td>\n",
       "      <td>삼성전자-반도체가 핵심, 투자의견 Buy, 목표주가 95,000원 제시, 3Q21까...</td>\n",
       "      <td>NaN</td>\n",
       "      <td>NaN</td>\n",
       "    </tr>\n",
       "    <tr>\n",
       "      <th>1</th>\n",
       "      <td>1</td>\n",
       "      <td>20210601</td>\n",
       "      <td>삼성전자-PC?모바일 to 서버로의 수요 성장의 축 이동, 2Q21 영업이익 10....</td>\n",
       "      <td>NaN</td>\n",
       "      <td>NaN</td>\n",
       "    </tr>\n",
       "    <tr>\n",
       "      <th>2</th>\n",
       "      <td>2</td>\n",
       "      <td>20210601</td>\n",
       "      <td>삼성전자-DRAM 공급 증가, DRAM 공급 증가로 2022년 수급 부담 예상, 2...</td>\n",
       "      <td>NaN</td>\n",
       "      <td>NaN</td>\n",
       "    </tr>\n",
       "    <tr>\n",
       "      <th>3</th>\n",
       "      <td>3</td>\n",
       "      <td>20210601</td>\n",
       "      <td>삼성전자-수익성 위주의 신중한 공급증가, 공급 경쟁 재점화를 차단하는 선두업체의 보...</td>\n",
       "      <td>NaN</td>\n",
       "      <td>NaN</td>\n",
       "    </tr>\n",
       "    <tr>\n",
       "      <th>4</th>\n",
       "      <td>4</td>\n",
       "      <td>20210603</td>\n",
       "      <td>결국 ‘4번 타자’는 삼성전자?… 삼전 급반등, 코스피 다시 3250선 눈앞</td>\n",
       "      <td>NaN</td>\n",
       "      <td>NaN</td>\n",
       "    </tr>\n",
       "  </tbody>\n",
       "</table>\n",
       "</div>"
      ],
      "text/plain": [
       "   Unnamed: 0      date                                              title  \\\n",
       "0           0  20210601  삼성전자-반도체가 핵심, 투자의견 Buy, 목표주가 95,000원 제시, 3Q21까...   \n",
       "1           1  20210601  삼성전자-PC?모바일 to 서버로의 수요 성장의 축 이동, 2Q21 영업이익 10....   \n",
       "2           2  20210601  삼성전자-DRAM 공급 증가, DRAM 공급 증가로 2022년 수급 부담 예상, 2...   \n",
       "3           3  20210601  삼성전자-수익성 위주의 신중한 공급증가, 공급 경쟁 재점화를 차단하는 선두업체의 보...   \n",
       "4           4  20210603         결국 ‘4번 타자’는 삼성전자?… 삼전 급반등, 코스피 다시 3250선 눈앞   \n",
       "\n",
       "  press link  \n",
       "0   NaN  NaN  \n",
       "1   NaN  NaN  \n",
       "2   NaN  NaN  \n",
       "3   NaN  NaN  \n",
       "4   NaN  NaN  "
      ]
     },
     "execution_count": 3,
     "metadata": {},
     "output_type": "execute_result"
    }
   ],
   "source": [
    "filename = \"./datasets/combined_dataset.xlsx\"\n",
    "# filename = \"./report.xlsx\"\n",
    "df = pd.read_excel(filename)\n",
    "df.head()"
   ]
  },
  {
   "cell_type": "code",
   "execution_count": 4,
   "metadata": {},
   "outputs": [
    {
     "name": "stderr",
     "output_type": "stream",
     "text": [
      "<ipython-input-4-7d6fdca842c1>:14: SettingWithCopyWarning: \n",
      "A value is trying to be set on a copy of a slice from a DataFrame\n",
      "\n",
      "See the caveats in the documentation: https://pandas.pydata.org/pandas-docs/stable/user_guide/indexing.html#returning-a-view-versus-a-copy\n",
      "  df['title'][i] = preprocess(df['title'][i])\n"
     ]
    },
    {
     "name": "stdout",
     "output_type": "stream",
     "text": [
      "1000\n",
      "2000\n",
      "3000\n",
      "4000\n",
      "5000\n",
      "6000\n",
      "7000\n",
      "8000\n",
      "9000\n",
      "10000\n",
      "11000\n",
      "12000\n",
      "13000\n",
      "14000\n",
      "15000\n",
      "16000\n",
      "17000\n",
      "Done!\n"
     ]
    }
   ],
   "source": [
    "# print(df.isnull().sum())\n",
    "# print(df)\n",
    "\n",
    "logCnt = 1000\n",
    "plusCnt = 1000\n",
    "for i in range(len(df)) :\n",
    "    if(i == logCnt) :\n",
    "        print(i)\n",
    "        logCnt += plusCnt\n",
    "#     print(i, df['title'][i])\n",
    "    \n",
    "    # 영어로만 구성된 row는 drop\n",
    "    if(len(re.findall(u'[가-힣]+', df['title'][i]))>0) :\n",
    "        df['title'][i] = preprocess(df['title'][i])\n",
    "    else :\n",
    "        df = df.drop(i)\n",
    "\n",
    "df['title'].replace('', np.nan, inplace=True)\n",
    "df = df.dropna(subset=['title'])\n",
    "df = df.reset_index(drop=True)\n",
    "print(\"Done!\")\n",
    "# print(df[250:260])"
   ]
  },
  {
   "cell_type": "code",
   "execution_count": 5,
   "metadata": {},
   "outputs": [],
   "source": [
    "df.to_excel(\"./datasets/combined_dataset_cleaned.xlsx\", index = False)"
   ]
  },
  {
   "cell_type": "code",
   "execution_count": null,
   "metadata": {},
   "outputs": [],
   "source": []
  }
 ],
 "metadata": {
  "kernelspec": {
   "display_name": "Python 3",
   "language": "python",
   "name": "python3"
  },
  "language_info": {
   "codemirror_mode": {
    "name": "ipython",
    "version": 3
   },
   "file_extension": ".py",
   "mimetype": "text/x-python",
   "name": "python",
   "nbconvert_exporter": "python",
   "pygments_lexer": "ipython3",
   "version": "3.8.5"
  }
 },
 "nbformat": 4,
 "nbformat_minor": 5
}
