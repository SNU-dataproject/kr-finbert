{
 "cells": [
  {
   "cell_type": "code",
   "execution_count": 3,
   "id": "c74b91b2",
   "metadata": {},
   "outputs": [],
   "source": [
    "import pandas as pd\n",
    "import numpy as np\n",
    "import re"
   ]
  },
  {
   "cell_type": "code",
   "execution_count": 9,
   "id": "015155b1",
   "metadata": {},
   "outputs": [],
   "source": [
    "def preprocess(row):\n",
    "    row = re.sub('ㅁ', \"\", row)\n",
    "    row = re.sub(r\"\\n\", \",\", row)\n",
    "    \n",
    "    # 용어\n",
    "    row = re.sub(\"YoY|yoy|YOY\", \"전년 대비 증감율\", row)\n",
    "    row = re.sub(\"QoQ|qoq|QOQ\", \"전분기 대비 증감율\", row)\n",
    "    row = re.sub(\"MoM|mom|MOM\", \"전월 대비 증감율\", row)\n",
    "    row = re.sub(\"YTD\", \"연초 누계\", row)\n",
    "    row = re.sub(\"MTD\", \"월초 누계\", row)\n",
    "    \n",
    "        \n",
    "    # 분기 표현 1Q21F->21년도 1분기 예측값\n",
    "    quarter_rule2 = re.compile(r'([1-4]Q[\\d]{2}F)')\n",
    "    quarter_text2 = quarter_rule2.finditer(row)\n",
    "    startIdxList2 = []\n",
    "    for text in quarter_text2 :\n",
    "        startIdxList2.append(text.start())\n",
    "    for i in range(len(startIdxList2)-1, -1, -1) :\n",
    "        idx = startIdxList2[i]\n",
    "        quar = row[idx:idx+5]\n",
    "        new_quar_text = row[idx+2:idx+4]+\"년도 \"+row[idx]+\"분기 예측값\"\n",
    "        row = row.replace(quar, new_quar_text)\n",
    "    \n",
    "    # 분기 표현 1Q21->21년도 1분기\n",
    "    quarter_rule1 = re.compile(r'([1-4]Q[\\d]{2})')\n",
    "    quarter_text1 = quarter_rule1.finditer(row)\n",
    "    startIdxList1 = []\n",
    "    for text in quarter_text1 :\n",
    "        startIdxList1.append(text.start())\n",
    "    for i in range(len(startIdxList1)-1, -1, -1) :\n",
    "        idx = startIdxList1[i]\n",
    "        quar = row[idx:idx+4]\n",
    "        new_quar_text = row[idx+2:idx+4]+\"년도 \"+row[idx]+\"분기 \"\n",
    "        row = row.replace(quar, new_quar_text)\n",
    "        \n",
    "    # 분기 표현 1H21->21년도 상반기\n",
    "    half_rule = re.compile(r'([12]H[\\d]{2})')\n",
    "    half_text = half_rule.finditer(row)\n",
    "    startIdxList3 = []\n",
    "    for text in half_text :\n",
    "        startIdxList3.append(text.start())\n",
    "    for i in range(len(startIdxList3)-1, -1, -1) :\n",
    "        idx = startIdxList3[i]\n",
    "        half = row[idx:idx+4]\n",
    "        if(row[idx] == 1) : new_half_text = row[idx+2:idx+4]+\"년도 상반기 \"\n",
    "        else : new_half_text = row[idx+2:idx+4]+\"년도 하반기 \"\n",
    "        \n",
    "        row = row.replace(half, new_half_text)\n",
    "        \n",
    "    # [내용] 제거\n",
    "    row = re.sub(r'\\[[^)]*\\]', '', row)\n",
    "        \n",
    "    # 다중 띄어쓰기\n",
    "    row = re.sub(' +', ' ', row)\n",
    "    \n",
    "    # 앞뒤 공백\n",
    "    row = re.sub(r\"^\\s+\", \"\", row, flags=re.UNICODE)\n",
    "    row = re.sub(r\"\\s+$\", \"\", row, flags=re.UNICODE)\n",
    "    \n",
    "    return row"
   ]
  },
  {
   "cell_type": "code",
   "execution_count": 11,
   "id": "582bb72a",
   "metadata": {},
   "outputs": [
    {
     "name": "stderr",
     "output_type": "stream",
     "text": [
      "C:\\Users\\user\\AppData\\Local\\Temp/ipykernel_10512/3138663664.py:18: SettingWithCopyWarning: \n",
      "A value is trying to be set on a copy of a slice from a DataFrame\n",
      "\n",
      "See the caveats in the documentation: https://pandas.pydata.org/pandas-docs/stable/user_guide/indexing.html#returning-a-view-versus-a-copy\n",
      "  df['title'][i] = preprocess(df['title'][i])\n"
     ]
    },
    {
     "name": "stdout",
     "output_type": "stream",
     "text": [
      "1000\n",
      "2000\n",
      "3000\n",
      "4000\n",
      "5000\n",
      "6000\n",
      "7000\n",
      "8000\n",
      "9000\n",
      "10000\n",
      "11000\n",
      "12000\n",
      "13000\n",
      "14000\n",
      "15000\n",
      "16000\n",
      "17000\n",
      "18000\n",
      "Done!\n"
     ]
    }
   ],
   "source": [
    "filename = \"./combined_dataset_since_20170601.xlsx\"\n",
    "# filename = \"./report.xlsx\"\n",
    "df = pd.read_excel(filename)\n",
    "\n",
    "# print(df.isnull().sum())\n",
    "# print(df)\n",
    "\n",
    "logCnt = 1000\n",
    "plusCnt = 1000\n",
    "for i in range(len(df)) :\n",
    "    if(i == logCnt) :\n",
    "        print(i)\n",
    "        logCnt += plusCnt\n",
    "#     print(i, df['title'][i])\n",
    "    \n",
    "    # 영어로만 구성된 row는 drop\n",
    "    if(len(re.findall(u'[가-힣]+', df['title'][i]))>0) :\n",
    "        df['title'][i] = preprocess(df['title'][i])\n",
    "    else :\n",
    "        df = df.drop(i)\n",
    "\n",
    "df['title'].replace('', np.nan, inplace=True)\n",
    "df = df.dropna(subset=['title'])\n",
    "df = df.reset_index(drop=True)\n",
    "print(\"Done!\")\n",
    "# print(df[250:260])"
   ]
  },
  {
   "cell_type": "code",
   "execution_count": 12,
   "id": "c0bd4982",
   "metadata": {},
   "outputs": [],
   "source": [
    "df.to_excel(\"./combined_dataset_cleaned_since_20170601.xlsx\", index = False)"
   ]
  },
  {
   "cell_type": "code",
   "execution_count": null,
   "id": "9fb87ba0",
   "metadata": {},
   "outputs": [],
   "source": []
  }
 ],
 "metadata": {
  "kernelspec": {
   "display_name": "Python 3 (ipykernel)",
   "language": "python",
   "name": "python3"
  },
  "language_info": {
   "codemirror_mode": {
    "name": "ipython",
    "version": 3
   },
   "file_extension": ".py",
   "mimetype": "text/x-python",
   "name": "python",
   "nbconvert_exporter": "python",
   "pygments_lexer": "ipython3",
   "version": "3.9.7"
  }
 },
 "nbformat": 4,
 "nbformat_minor": 5
}
