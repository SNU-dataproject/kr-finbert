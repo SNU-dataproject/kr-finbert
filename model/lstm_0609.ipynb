{
  "nbformat": 4,
  "nbformat_minor": 0,
  "metadata": {
    "colab": {
      "name": "lstm_0609.ipynb",
      "provenance": [],
      "collapsed_sections": []
    },
    "kernelspec": {
      "name": "python3",
      "display_name": "Python 3"
    },
    "language_info": {
      "name": "python"
    },
    "accelerator": "GPU"
  },
  "cells": [
    {
      "cell_type": "markdown",
      "source": [
        "## 삼성전자 주가 데이터 로드"
      ],
      "metadata": {
        "id": "zFzY8SWEwjCv"
      }
    },
    {
      "cell_type": "code",
      "source": [
        ""
      ],
      "metadata": {
        "id": "QZFZ7RwVz1hJ"
      },
      "execution_count": 1,
      "outputs": []
    },
    {
      "cell_type": "code",
      "source": [
        "!pip install Finance-datareader\n",
        "!pip install ta"
      ],
      "metadata": {
        "colab": {
          "base_uri": "https://localhost:8080/"
        },
        "id": "zI8QyIptw2KE",
        "outputId": "bf6e583a-f3cf-45ee-807c-75eeeca934fd"
      },
      "execution_count": 2,
      "outputs": [
        {
          "output_type": "stream",
          "name": "stdout",
          "text": [
            "Looking in indexes: https://pypi.org/simple, https://us-python.pkg.dev/colab-wheels/public/simple/\n",
            "Collecting Finance-datareader\n",
            "  Downloading finance_datareader-0.9.33-py3-none-any.whl (48 kB)\n",
            "\u001b[K     |████████████████████████████████| 48 kB 3.0 MB/s \n",
            "\u001b[?25hRequirement already satisfied: pandas>=0.19.2 in /usr/local/lib/python3.7/dist-packages (from Finance-datareader) (1.3.5)\n",
            "Collecting requests-file\n",
            "  Downloading requests_file-1.5.1-py2.py3-none-any.whl (3.7 kB)\n",
            "Requirement already satisfied: requests>=2.3.0 in /usr/local/lib/python3.7/dist-packages (from Finance-datareader) (2.23.0)\n",
            "Requirement already satisfied: tqdm in /usr/local/lib/python3.7/dist-packages (from Finance-datareader) (4.64.0)\n",
            "Requirement already satisfied: lxml in /usr/local/lib/python3.7/dist-packages (from Finance-datareader) (4.2.6)\n",
            "Requirement already satisfied: numpy>=1.17.3 in /usr/local/lib/python3.7/dist-packages (from pandas>=0.19.2->Finance-datareader) (1.21.6)\n",
            "Requirement already satisfied: pytz>=2017.3 in /usr/local/lib/python3.7/dist-packages (from pandas>=0.19.2->Finance-datareader) (2022.1)\n",
            "Requirement already satisfied: python-dateutil>=2.7.3 in /usr/local/lib/python3.7/dist-packages (from pandas>=0.19.2->Finance-datareader) (2.8.2)\n",
            "Requirement already satisfied: six>=1.5 in /usr/local/lib/python3.7/dist-packages (from python-dateutil>=2.7.3->pandas>=0.19.2->Finance-datareader) (1.15.0)\n",
            "Requirement already satisfied: idna<3,>=2.5 in /usr/local/lib/python3.7/dist-packages (from requests>=2.3.0->Finance-datareader) (2.10)\n",
            "Requirement already satisfied: certifi>=2017.4.17 in /usr/local/lib/python3.7/dist-packages (from requests>=2.3.0->Finance-datareader) (2022.5.18.1)\n",
            "Requirement already satisfied: urllib3!=1.25.0,!=1.25.1,<1.26,>=1.21.1 in /usr/local/lib/python3.7/dist-packages (from requests>=2.3.0->Finance-datareader) (1.24.3)\n",
            "Requirement already satisfied: chardet<4,>=3.0.2 in /usr/local/lib/python3.7/dist-packages (from requests>=2.3.0->Finance-datareader) (3.0.4)\n",
            "Installing collected packages: requests-file, Finance-datareader\n",
            "Successfully installed Finance-datareader-0.9.33 requests-file-1.5.1\n",
            "Looking in indexes: https://pypi.org/simple, https://us-python.pkg.dev/colab-wheels/public/simple/\n",
            "Collecting ta\n",
            "  Downloading ta-0.10.1.tar.gz (24 kB)\n",
            "Requirement already satisfied: numpy in /usr/local/lib/python3.7/dist-packages (from ta) (1.21.6)\n",
            "Requirement already satisfied: pandas in /usr/local/lib/python3.7/dist-packages (from ta) (1.3.5)\n",
            "Requirement already satisfied: python-dateutil>=2.7.3 in /usr/local/lib/python3.7/dist-packages (from pandas->ta) (2.8.2)\n",
            "Requirement already satisfied: pytz>=2017.3 in /usr/local/lib/python3.7/dist-packages (from pandas->ta) (2022.1)\n",
            "Requirement already satisfied: six>=1.5 in /usr/local/lib/python3.7/dist-packages (from python-dateutil>=2.7.3->pandas->ta) (1.15.0)\n",
            "Building wheels for collected packages: ta\n",
            "  Building wheel for ta (setup.py) ... \u001b[?25l\u001b[?25hdone\n",
            "  Created wheel for ta: filename=ta-0.10.1-py3-none-any.whl size=28985 sha256=183dffe05c7d7ab13e3a17ba4389463bbcb6da847cf7d5e82796741399e86b4e\n",
            "  Stored in directory: /root/.cache/pip/wheels/bc/2a/c2/a56e77d07edc16a1fa7fb012667e55cb0643cfa65996bddecc\n",
            "Successfully built ta\n",
            "Installing collected packages: ta\n",
            "Successfully installed ta-0.10.1\n"
          ]
        }
      ]
    },
    {
      "cell_type": "markdown",
      "source": [
        "### 라이브러리"
      ],
      "metadata": {
        "id": "WcW2DSpew5XS"
      }
    },
    {
      "cell_type": "code",
      "source": [
        "!pip install Finance-datareader\n",
        "!pip install ta\n",
        "!pip install pandas-datareader"
      ],
      "metadata": {
        "colab": {
          "base_uri": "https://localhost:8080/"
        },
        "id": "97lpJWpxywrR",
        "outputId": "eaafdc96-5b6c-4d66-84c7-598e93989314"
      },
      "execution_count": 3,
      "outputs": [
        {
          "output_type": "stream",
          "name": "stdout",
          "text": [
            "Looking in indexes: https://pypi.org/simple, https://us-python.pkg.dev/colab-wheels/public/simple/\n",
            "Requirement already satisfied: Finance-datareader in /usr/local/lib/python3.7/dist-packages (0.9.33)\n",
            "Requirement already satisfied: lxml in /usr/local/lib/python3.7/dist-packages (from Finance-datareader) (4.2.6)\n",
            "Requirement already satisfied: tqdm in /usr/local/lib/python3.7/dist-packages (from Finance-datareader) (4.64.0)\n",
            "Requirement already satisfied: requests-file in /usr/local/lib/python3.7/dist-packages (from Finance-datareader) (1.5.1)\n",
            "Requirement already satisfied: pandas>=0.19.2 in /usr/local/lib/python3.7/dist-packages (from Finance-datareader) (1.3.5)\n",
            "Requirement already satisfied: requests>=2.3.0 in /usr/local/lib/python3.7/dist-packages (from Finance-datareader) (2.23.0)\n",
            "Requirement already satisfied: pytz>=2017.3 in /usr/local/lib/python3.7/dist-packages (from pandas>=0.19.2->Finance-datareader) (2022.1)\n",
            "Requirement already satisfied: numpy>=1.17.3 in /usr/local/lib/python3.7/dist-packages (from pandas>=0.19.2->Finance-datareader) (1.21.6)\n",
            "Requirement already satisfied: python-dateutil>=2.7.3 in /usr/local/lib/python3.7/dist-packages (from pandas>=0.19.2->Finance-datareader) (2.8.2)\n",
            "Requirement already satisfied: six>=1.5 in /usr/local/lib/python3.7/dist-packages (from python-dateutil>=2.7.3->pandas>=0.19.2->Finance-datareader) (1.15.0)\n",
            "Requirement already satisfied: urllib3!=1.25.0,!=1.25.1,<1.26,>=1.21.1 in /usr/local/lib/python3.7/dist-packages (from requests>=2.3.0->Finance-datareader) (1.24.3)\n",
            "Requirement already satisfied: chardet<4,>=3.0.2 in /usr/local/lib/python3.7/dist-packages (from requests>=2.3.0->Finance-datareader) (3.0.4)\n",
            "Requirement already satisfied: idna<3,>=2.5 in /usr/local/lib/python3.7/dist-packages (from requests>=2.3.0->Finance-datareader) (2.10)\n",
            "Requirement already satisfied: certifi>=2017.4.17 in /usr/local/lib/python3.7/dist-packages (from requests>=2.3.0->Finance-datareader) (2022.5.18.1)\n",
            "Looking in indexes: https://pypi.org/simple, https://us-python.pkg.dev/colab-wheels/public/simple/\n",
            "Requirement already satisfied: ta in /usr/local/lib/python3.7/dist-packages (0.10.1)\n",
            "Requirement already satisfied: numpy in /usr/local/lib/python3.7/dist-packages (from ta) (1.21.6)\n",
            "Requirement already satisfied: pandas in /usr/local/lib/python3.7/dist-packages (from ta) (1.3.5)\n",
            "Requirement already satisfied: python-dateutil>=2.7.3 in /usr/local/lib/python3.7/dist-packages (from pandas->ta) (2.8.2)\n",
            "Requirement already satisfied: pytz>=2017.3 in /usr/local/lib/python3.7/dist-packages (from pandas->ta) (2022.1)\n",
            "Requirement already satisfied: six>=1.5 in /usr/local/lib/python3.7/dist-packages (from python-dateutil>=2.7.3->pandas->ta) (1.15.0)\n",
            "Looking in indexes: https://pypi.org/simple, https://us-python.pkg.dev/colab-wheels/public/simple/\n",
            "Requirement already satisfied: pandas-datareader in /usr/local/lib/python3.7/dist-packages (0.9.0)\n",
            "Requirement already satisfied: pandas>=0.23 in /usr/local/lib/python3.7/dist-packages (from pandas-datareader) (1.3.5)\n",
            "Requirement already satisfied: lxml in /usr/local/lib/python3.7/dist-packages (from pandas-datareader) (4.2.6)\n",
            "Requirement already satisfied: requests>=2.19.0 in /usr/local/lib/python3.7/dist-packages (from pandas-datareader) (2.23.0)\n",
            "Requirement already satisfied: numpy>=1.17.3 in /usr/local/lib/python3.7/dist-packages (from pandas>=0.23->pandas-datareader) (1.21.6)\n",
            "Requirement already satisfied: python-dateutil>=2.7.3 in /usr/local/lib/python3.7/dist-packages (from pandas>=0.23->pandas-datareader) (2.8.2)\n",
            "Requirement already satisfied: pytz>=2017.3 in /usr/local/lib/python3.7/dist-packages (from pandas>=0.23->pandas-datareader) (2022.1)\n",
            "Requirement already satisfied: six>=1.5 in /usr/local/lib/python3.7/dist-packages (from python-dateutil>=2.7.3->pandas>=0.23->pandas-datareader) (1.15.0)\n",
            "Requirement already satisfied: idna<3,>=2.5 in /usr/local/lib/python3.7/dist-packages (from requests>=2.19.0->pandas-datareader) (2.10)\n",
            "Requirement already satisfied: urllib3!=1.25.0,!=1.25.1,<1.26,>=1.21.1 in /usr/local/lib/python3.7/dist-packages (from requests>=2.19.0->pandas-datareader) (1.24.3)\n",
            "Requirement already satisfied: chardet<4,>=3.0.2 in /usr/local/lib/python3.7/dist-packages (from requests>=2.19.0->pandas-datareader) (3.0.4)\n",
            "Requirement already satisfied: certifi>=2017.4.17 in /usr/local/lib/python3.7/dist-packages (from requests>=2.19.0->pandas-datareader) (2022.5.18.1)\n"
          ]
        }
      ]
    },
    {
      "cell_type": "code",
      "source": [
        "import pandas as pd\n",
        "import numpy as np\n",
        "\n",
        "import matplotlib.pyplot as plt\n",
        "import seaborn as sns\n",
        "sns.set_style('whitegrid')\n",
        "plt.style.use(\"fivethirtyeight\")\n",
        "%matplotlib inline\n",
        "\n",
        "import ta\n",
        "import FinanceDataReader as fdr\n",
        "\n",
        "import torch\n",
        "import torch.nn as nn\n",
        "from torch.autograd import Variable\n",
        "from sklearn.preprocessing import MinMaxScaler\n",
        "\n",
        "from pandas_datareader import data as pdr\n",
        "\n",
        "import datetime\n",
        "\n",
        "import torch.optim as optim\n",
        "from torch.utils.data import Dataset, DataLoader"
      ],
      "metadata": {
        "id": "c6qu7gEFytES"
      },
      "execution_count": 4,
      "outputs": []
    },
    {
      "cell_type": "code",
      "source": [
        "import numpy as np\n",
        "import pandas as pd\n",
        "from pandas_datareader import data as pdr\n",
        "import matplotlib.pyplot as plt\n",
        "\n",
        "import datetime\n",
        "\n",
        "import torch\n",
        "import torch.nn as nn\n",
        "from torch.autograd import Variable \n",
        "\n",
        "import torch.optim as optim\n",
        "from torch.utils.data import Dataset, DataLoader"
      ],
      "metadata": {
        "id": "-3hZNJUpyq9-"
      },
      "execution_count": 5,
      "outputs": []
    },
    {
      "cell_type": "code",
      "execution_count": 5,
      "metadata": {
        "id": "_E7u_AW-vv3s"
      },
      "outputs": [],
      "source": [
        ""
      ]
    },
    {
      "cell_type": "code",
      "source": [
        "# s: 삼성전자에 대한 데이터프레임\n",
        "s = fdr.DataReader('005930', '2015-01-01')\n",
        "s.head()"
      ],
      "metadata": {
        "colab": {
          "base_uri": "https://localhost:8080/",
          "height": 237
        },
        "id": "fSm8mBoMw8PY",
        "outputId": "d9325b15-c11b-468e-9e7b-8eee8299c817"
      },
      "execution_count": 6,
      "outputs": [
        {
          "output_type": "execute_result",
          "data": {
            "text/plain": [
              "             Open   High    Low  Close  Volume    Change\n",
              "Date                                                    \n",
              "2015-01-02  26799  26799  26540  26600  175499  0.002261\n",
              "2015-01-05  26720  26720  26260  26660  202790  0.002256\n",
              "2015-01-06  26300  26340  25760  25900  304710 -0.028507\n",
              "2015-01-07  25880  26220  25640  26140  286455  0.009266\n",
              "2015-01-08  26780  26780  26199  26280  289552  0.005356"
            ],
            "text/html": [
              "\n",
              "  <div id=\"df-0b6d2708-ef81-408e-8b73-3ed9ba1e3773\">\n",
              "    <div class=\"colab-df-container\">\n",
              "      <div>\n",
              "<style scoped>\n",
              "    .dataframe tbody tr th:only-of-type {\n",
              "        vertical-align: middle;\n",
              "    }\n",
              "\n",
              "    .dataframe tbody tr th {\n",
              "        vertical-align: top;\n",
              "    }\n",
              "\n",
              "    .dataframe thead th {\n",
              "        text-align: right;\n",
              "    }\n",
              "</style>\n",
              "<table border=\"1\" class=\"dataframe\">\n",
              "  <thead>\n",
              "    <tr style=\"text-align: right;\">\n",
              "      <th></th>\n",
              "      <th>Open</th>\n",
              "      <th>High</th>\n",
              "      <th>Low</th>\n",
              "      <th>Close</th>\n",
              "      <th>Volume</th>\n",
              "      <th>Change</th>\n",
              "    </tr>\n",
              "    <tr>\n",
              "      <th>Date</th>\n",
              "      <th></th>\n",
              "      <th></th>\n",
              "      <th></th>\n",
              "      <th></th>\n",
              "      <th></th>\n",
              "      <th></th>\n",
              "    </tr>\n",
              "  </thead>\n",
              "  <tbody>\n",
              "    <tr>\n",
              "      <th>2015-01-02</th>\n",
              "      <td>26799</td>\n",
              "      <td>26799</td>\n",
              "      <td>26540</td>\n",
              "      <td>26600</td>\n",
              "      <td>175499</td>\n",
              "      <td>0.002261</td>\n",
              "    </tr>\n",
              "    <tr>\n",
              "      <th>2015-01-05</th>\n",
              "      <td>26720</td>\n",
              "      <td>26720</td>\n",
              "      <td>26260</td>\n",
              "      <td>26660</td>\n",
              "      <td>202790</td>\n",
              "      <td>0.002256</td>\n",
              "    </tr>\n",
              "    <tr>\n",
              "      <th>2015-01-06</th>\n",
              "      <td>26300</td>\n",
              "      <td>26340</td>\n",
              "      <td>25760</td>\n",
              "      <td>25900</td>\n",
              "      <td>304710</td>\n",
              "      <td>-0.028507</td>\n",
              "    </tr>\n",
              "    <tr>\n",
              "      <th>2015-01-07</th>\n",
              "      <td>25880</td>\n",
              "      <td>26220</td>\n",
              "      <td>25640</td>\n",
              "      <td>26140</td>\n",
              "      <td>286455</td>\n",
              "      <td>0.009266</td>\n",
              "    </tr>\n",
              "    <tr>\n",
              "      <th>2015-01-08</th>\n",
              "      <td>26780</td>\n",
              "      <td>26780</td>\n",
              "      <td>26199</td>\n",
              "      <td>26280</td>\n",
              "      <td>289552</td>\n",
              "      <td>0.005356</td>\n",
              "    </tr>\n",
              "  </tbody>\n",
              "</table>\n",
              "</div>\n",
              "      <button class=\"colab-df-convert\" onclick=\"convertToInteractive('df-0b6d2708-ef81-408e-8b73-3ed9ba1e3773')\"\n",
              "              title=\"Convert this dataframe to an interactive table.\"\n",
              "              style=\"display:none;\">\n",
              "        \n",
              "  <svg xmlns=\"http://www.w3.org/2000/svg\" height=\"24px\"viewBox=\"0 0 24 24\"\n",
              "       width=\"24px\">\n",
              "    <path d=\"M0 0h24v24H0V0z\" fill=\"none\"/>\n",
              "    <path d=\"M18.56 5.44l.94 2.06.94-2.06 2.06-.94-2.06-.94-.94-2.06-.94 2.06-2.06.94zm-11 1L8.5 8.5l.94-2.06 2.06-.94-2.06-.94L8.5 2.5l-.94 2.06-2.06.94zm10 10l.94 2.06.94-2.06 2.06-.94-2.06-.94-.94-2.06-.94 2.06-2.06.94z\"/><path d=\"M17.41 7.96l-1.37-1.37c-.4-.4-.92-.59-1.43-.59-.52 0-1.04.2-1.43.59L10.3 9.45l-7.72 7.72c-.78.78-.78 2.05 0 2.83L4 21.41c.39.39.9.59 1.41.59.51 0 1.02-.2 1.41-.59l7.78-7.78 2.81-2.81c.8-.78.8-2.07 0-2.86zM5.41 20L4 18.59l7.72-7.72 1.47 1.35L5.41 20z\"/>\n",
              "  </svg>\n",
              "      </button>\n",
              "      \n",
              "  <style>\n",
              "    .colab-df-container {\n",
              "      display:flex;\n",
              "      flex-wrap:wrap;\n",
              "      gap: 12px;\n",
              "    }\n",
              "\n",
              "    .colab-df-convert {\n",
              "      background-color: #E8F0FE;\n",
              "      border: none;\n",
              "      border-radius: 50%;\n",
              "      cursor: pointer;\n",
              "      display: none;\n",
              "      fill: #1967D2;\n",
              "      height: 32px;\n",
              "      padding: 0 0 0 0;\n",
              "      width: 32px;\n",
              "    }\n",
              "\n",
              "    .colab-df-convert:hover {\n",
              "      background-color: #E2EBFA;\n",
              "      box-shadow: 0px 1px 2px rgba(60, 64, 67, 0.3), 0px 1px 3px 1px rgba(60, 64, 67, 0.15);\n",
              "      fill: #174EA6;\n",
              "    }\n",
              "\n",
              "    [theme=dark] .colab-df-convert {\n",
              "      background-color: #3B4455;\n",
              "      fill: #D2E3FC;\n",
              "    }\n",
              "\n",
              "    [theme=dark] .colab-df-convert:hover {\n",
              "      background-color: #434B5C;\n",
              "      box-shadow: 0px 1px 3px 1px rgba(0, 0, 0, 0.15);\n",
              "      filter: drop-shadow(0px 1px 2px rgba(0, 0, 0, 0.3));\n",
              "      fill: #FFFFFF;\n",
              "    }\n",
              "  </style>\n",
              "\n",
              "      <script>\n",
              "        const buttonEl =\n",
              "          document.querySelector('#df-0b6d2708-ef81-408e-8b73-3ed9ba1e3773 button.colab-df-convert');\n",
              "        buttonEl.style.display =\n",
              "          google.colab.kernel.accessAllowed ? 'block' : 'none';\n",
              "\n",
              "        async function convertToInteractive(key) {\n",
              "          const element = document.querySelector('#df-0b6d2708-ef81-408e-8b73-3ed9ba1e3773');\n",
              "          const dataTable =\n",
              "            await google.colab.kernel.invokeFunction('convertToInteractive',\n",
              "                                                     [key], {});\n",
              "          if (!dataTable) return;\n",
              "\n",
              "          const docLinkHtml = 'Like what you see? Visit the ' +\n",
              "            '<a target=\"_blank\" href=https://colab.research.google.com/notebooks/data_table.ipynb>data table notebook</a>'\n",
              "            + ' to learn more about interactive tables.';\n",
              "          element.innerHTML = '';\n",
              "          dataTable['output_type'] = 'display_data';\n",
              "          await google.colab.output.renderOutput(dataTable, element);\n",
              "          const docLink = document.createElement('div');\n",
              "          docLink.innerHTML = docLinkHtml;\n",
              "          element.appendChild(docLink);\n",
              "        }\n",
              "      </script>\n",
              "    </div>\n",
              "  </div>\n",
              "  "
            ]
          },
          "metadata": {},
          "execution_count": 6
        }
      ]
    },
    {
      "cell_type": "markdown",
      "source": [
        "### data plot"
      ],
      "metadata": {
        "id": "st4b6CZExkWr"
      }
    },
    {
      "cell_type": "code",
      "source": [
        "X = s.iloc[:, :4]\n",
        "y = s.iloc[:, 3:4]\n",
        "print(y)\n",
        "\n",
        "plt.plot(y, label = 'samsung')\n",
        "plt.show()"
      ],
      "metadata": {
        "colab": {
          "base_uri": "https://localhost:8080/",
          "height": 536
        },
        "id": "PR87bUn7xMdF",
        "outputId": "d6768f1b-f1fc-4f9c-ece8-7f474c28adfd"
      },
      "execution_count": 7,
      "outputs": [
        {
          "output_type": "stream",
          "name": "stdout",
          "text": [
            "            Close\n",
            "Date             \n",
            "2015-01-02  26600\n",
            "2015-01-05  26660\n",
            "2015-01-06  25900\n",
            "2015-01-07  26140\n",
            "2015-01-08  26280\n",
            "...           ...\n",
            "2022-06-02  66700\n",
            "2022-06-03  66800\n",
            "2022-06-07  65500\n",
            "2022-06-08  65300\n",
            "2022-06-09  65200\n",
            "\n",
            "[1829 rows x 1 columns]\n"
          ]
        },
        {
          "output_type": "display_data",
          "data": {
            "text/plain": [
              "<Figure size 432x288 with 1 Axes>"
            ],
            "image/png": "[encoded data removed]"
          },
          "metadata": {
            "needs_background": "light"
          }
        }
      ]
    },
    {
      "cell_type": "code",
      "source": [
        "\"\"\"\n",
        "학습이 잘되기 위해 데이터 정규화 \n",
        "StandardScaler\t각 특징의 평균을 0, 분산을 1이 되도록 변경\n",
        "MinMaxScaler\t최대/최소값이 각각 1, 0이 되도록 변경\n",
        "\"\"\"\n",
        "\n",
        "from sklearn.preprocessing import StandardScaler, MinMaxScaler\n",
        "mm = MinMaxScaler()\n",
        "ss = StandardScaler()\n",
        "\n",
        "X_ss = ss.fit_transform(X)\n",
        "y_mm = mm.fit_transform(y) \n",
        "\n",
        "# Train Data\n",
        "X_train = X_ss[:1500, :]\n",
        "X_test = X_ss[1500:, :]\n",
        "\n",
        "# Test Data \n",
        "\"\"\"\n",
        "( 굳이 없어도 된다. 하지만 얼마나 예측데이터와 실제 데이터의 정확도를 확인하기 위해 \n",
        "from sklearn.metrics import accuracy_score 를 통해 정확한 값으로 확인할 수 있다. )\n",
        "\"\"\"\n",
        "y_train = y_mm[:1500, :]\n",
        "y_test = y_mm[1500:, :] \n",
        "\n",
        "print(\"Training Shape\", X_train.shape, y_train.shape)\n",
        "print(\"Testing Shape\", X_test.shape, y_test.shape) "
      ],
      "metadata": {
        "colab": {
          "base_uri": "https://localhost:8080/"
        },
        "id": "RGN2YndNyYNI",
        "outputId": "626c029c-c5d0-45fe-ca58-46f522fa5a66"
      },
      "execution_count": 8,
      "outputs": [
        {
          "output_type": "stream",
          "name": "stdout",
          "text": [
            "Training Shape (1500, 4) (1500, 1)\n",
            "Testing Shape (329, 4) (329, 1)\n"
          ]
        }
      ]
    },
    {
      "cell_type": "code",
      "source": [
        "\"\"\"\n",
        "torch Variable에는 3개의 형태가 있다. \n",
        "data, grad, grad_fn 한 번 구글에 찾아서 공부해보길 바랍니다. \n",
        "\"\"\"\n",
        "X_train_tensors = Variable(torch.Tensor(X_train))\n",
        "X_test_tensors = Variable(torch.Tensor(X_test))\n",
        "\n",
        "y_train_tensors = Variable(torch.Tensor(y_train))\n",
        "y_test_tensors = Variable(torch.Tensor(y_test))\n",
        "\n",
        "X_train_tensors_final = torch.reshape(X_train_tensors,   (X_train_tensors.shape[0], 1, X_train_tensors.shape[1]))\n",
        "X_test_tensors_final = torch.reshape(X_test_tensors,  (X_test_tensors.shape[0], 1, X_test_tensors.shape[1])) \n",
        "\n",
        "print(\"Training Shape\", X_train_tensors_final.shape, y_train_tensors.shape)\n",
        "print(\"Testing Shape\", X_test_tensors_final.shape, y_test_tensors.shape) "
      ],
      "metadata": {
        "colab": {
          "base_uri": "https://localhost:8080/"
        },
        "id": "yqhDd2MlyY1s",
        "outputId": "6a29acfc-9876-4410-c08d-5a91fc41cfda"
      },
      "execution_count": 9,
      "outputs": [
        {
          "output_type": "stream",
          "name": "stdout",
          "text": [
            "Training Shape torch.Size([1500, 1, 4]) torch.Size([1500, 1])\n",
            "Testing Shape torch.Size([329, 1, 4]) torch.Size([329, 1])\n"
          ]
        }
      ]
    },
    {
      "cell_type": "code",
      "source": [
        "# GPU 할당\n",
        "\n",
        "device = torch.device(\"cuda:0\" if torch.cuda.is_available() else \"cpu\")  # device\n",
        "print(torch.cuda.get_device_name(0))"
      ],
      "metadata": {
        "colab": {
          "base_uri": "https://localhost:8080/"
        },
        "id": "wBEHRFDfyZvb",
        "outputId": "b90537ad-c950-417f-a9ce-8ce34254e79b"
      },
      "execution_count": 10,
      "outputs": [
        {
          "output_type": "stream",
          "name": "stdout",
          "text": [
            "Tesla P100-PCIE-16GB\n"
          ]
        }
      ]
    },
    {
      "cell_type": "code",
      "source": [
        "# 모델 만들기\n",
        "\n",
        "class LSTM1(nn.Module):\n",
        "  def __init__(self, num_classes, input_size, hidden_size, num_layers, seq_length):\n",
        "    super(LSTM1, self).__init__()\n",
        "    self.num_classes = num_classes #number of classes\n",
        "    self.num_layers = num_layers #number of layers\n",
        "    self.input_size = input_size #input size\n",
        "    self.hidden_size = hidden_size #hidden state\n",
        "    self.seq_length = seq_length #sequence length\n",
        " \n",
        "    self.lstm = nn.LSTM(input_size=input_size, hidden_size=hidden_size,\n",
        "                      num_layers=num_layers, batch_first=True) #lstm\n",
        "    self.fc_1 =  nn.Linear(hidden_size, 128) #fully connected 1\n",
        "    self.fc = nn.Linear(128, num_classes) #fully connected last layer\n",
        "\n",
        "    self.relu = nn.ReLU() \n",
        "\n",
        "  def forward(self,x):\n",
        "    h_0 = Variable(torch.zeros(self.num_layers, x.size(0), self.hidden_size)).to(device) #hidden state\n",
        "    c_0 = Variable(torch.zeros(self.num_layers, x.size(0), self.hidden_size)).to(device) #internal state   \n",
        "    # Propagate input through LSTM\n",
        "\n",
        "    output, (hn, cn) = self.lstm(x, (h_0, c_0)) #lstm with input, hidden, and internal state\n",
        "   \n",
        "    hn = hn.view(-1, self.hidden_size) #reshaping the data for Dense layer next\n",
        "    out = self.relu(hn)\n",
        "    out = self.fc_1(out) #first Dense\n",
        "    out = self.relu(out) #relu\n",
        "    out = self.fc(out) #Final Output\n",
        "   \n",
        "    return out "
      ],
      "metadata": {
        "id": "fxD6w_42yfSg"
      },
      "execution_count": 11,
      "outputs": []
    },
    {
      "cell_type": "code",
      "source": [
        "# 네트워크 파라미터 구성하기\n",
        "\n",
        "num_epochs = 30000 #1000 epochs\n",
        "learning_rate = 0.00001 #0.001 lr\n",
        "\n",
        "input_size = 4 #number of features\n",
        "hidden_size = 2 #number of features in hidden state\n",
        "num_layers = 1 #number of stacked lstm layers\n",
        "\n",
        "num_classes = 1 #number of output classes \n",
        "lstm1 = LSTM1(num_classes, input_size, hidden_size, num_layers, X_train_tensors_final.shape[1]).to(device)\n",
        "\n",
        "loss_function = torch.nn.MSELoss()    # mean-squared error for regression\n",
        "optimizer = torch.optim.Adam(lstm1.parameters(), lr=learning_rate)  # adam optimizer"
      ],
      "metadata": {
        "id": "wjBSAQ-1zBIn"
      },
      "execution_count": 12,
      "outputs": []
    },
    {
      "cell_type": "code",
      "source": [
        "# 학습하기\n",
        "\n",
        "for epoch in range(num_epochs):\n",
        "  outputs = lstm1.forward(X_train_tensors_final.to(device)) #forward pass\n",
        "  optimizer.zero_grad() #caluclate the gradient, manually setting to 0\n",
        " \n",
        "  # obtain the loss function\n",
        "  loss = loss_function(outputs, y_train_tensors.to(device))\n",
        "\n",
        "  loss.backward() #calculates the loss of the loss function\n",
        " \n",
        "  optimizer.step() #improve from loss, i.e backprop\n",
        "  if epoch % 100 == 0:\n",
        "    print(\"Epoch: %d, loss: %1.5f\" % (epoch, loss.item())) "
      ],
      "metadata": {
        "colab": {
          "base_uri": "https://localhost:8080/"
        },
        "id": "TCJJkO2MzCFT",
        "outputId": "261204fd-0f82-4e24-b1a6-809ece0c931b"
      },
      "execution_count": 13,
      "outputs": [
        {
          "output_type": "stream",
          "name": "stdout",
          "text": [
            "Epoch: 0, loss: 0.25948\n",
            "Epoch: 100, loss: 0.23249\n",
            "Epoch: 200, loss: 0.20808\n",
            "Epoch: 300, loss: 0.18606\n",
            "Epoch: 400, loss: 0.16627\n",
            "Epoch: 500, loss: 0.14853\n",
            "Epoch: 600, loss: 0.13268\n",
            "Epoch: 700, loss: 0.11858\n",
            "Epoch: 800, loss: 0.10608\n",
            "Epoch: 900, loss: 0.09507\n",
            "Epoch: 1000, loss: 0.08540\n",
            "Epoch: 1100, loss: 0.07696\n",
            "Epoch: 1200, loss: 0.06965\n",
            "Epoch: 1300, loss: 0.06334\n",
            "Epoch: 1400, loss: 0.05794\n",
            "Epoch: 1500, loss: 0.05335\n",
            "Epoch: 1600, loss: 0.04948\n",
            "Epoch: 1700, loss: 0.04622\n",
            "Epoch: 1800, loss: 0.04351\n",
            "Epoch: 1900, loss: 0.04125\n",
            "Epoch: 2000, loss: 0.03937\n",
            "Epoch: 2100, loss: 0.03779\n",
            "Epoch: 2200, loss: 0.03646\n",
            "Epoch: 2300, loss: 0.03532\n",
            "Epoch: 2400, loss: 0.03434\n",
            "Epoch: 2500, loss: 0.03347\n",
            "Epoch: 2600, loss: 0.03269\n",
            "Epoch: 2700, loss: 0.03196\n",
            "Epoch: 2800, loss: 0.03128\n",
            "Epoch: 2900, loss: 0.03062\n",
            "Epoch: 3000, loss: 0.02997\n",
            "Epoch: 3100, loss: 0.02932\n",
            "Epoch: 3200, loss: 0.02867\n",
            "Epoch: 3300, loss: 0.02801\n",
            "Epoch: 3400, loss: 0.02733\n",
            "Epoch: 3500, loss: 0.02663\n",
            "Epoch: 3600, loss: 0.02589\n",
            "Epoch: 3700, loss: 0.02514\n",
            "Epoch: 3800, loss: 0.02437\n",
            "Epoch: 3900, loss: 0.02358\n",
            "Epoch: 4000, loss: 0.02279\n",
            "Epoch: 4100, loss: 0.02200\n",
            "Epoch: 4200, loss: 0.02121\n",
            "Epoch: 4300, loss: 0.02042\n",
            "Epoch: 4400, loss: 0.01963\n",
            "Epoch: 4500, loss: 0.01885\n",
            "Epoch: 4600, loss: 0.01808\n",
            "Epoch: 4700, loss: 0.01732\n",
            "Epoch: 4800, loss: 0.01657\n",
            "Epoch: 4900, loss: 0.01583\n",
            "Epoch: 5000, loss: 0.01510\n",
            "Epoch: 5100, loss: 0.01439\n",
            "Epoch: 5200, loss: 0.01370\n",
            "Epoch: 5300, loss: 0.01302\n",
            "Epoch: 5400, loss: 0.01236\n",
            "Epoch: 5500, loss: 0.01172\n",
            "Epoch: 5600, loss: 0.01111\n",
            "Epoch: 5700, loss: 0.01051\n",
            "Epoch: 5800, loss: 0.00994\n",
            "Epoch: 5900, loss: 0.00940\n",
            "Epoch: 6000, loss: 0.00888\n",
            "Epoch: 6100, loss: 0.00838\n",
            "Epoch: 6200, loss: 0.00792\n",
            "Epoch: 6300, loss: 0.00747\n",
            "Epoch: 6400, loss: 0.00706\n",
            "Epoch: 6500, loss: 0.00667\n",
            "Epoch: 6600, loss: 0.00631\n",
            "Epoch: 6700, loss: 0.00597\n",
            "Epoch: 6800, loss: 0.00566\n",
            "Epoch: 6900, loss: 0.00537\n",
            "Epoch: 7000, loss: 0.00510\n",
            "Epoch: 7100, loss: 0.00485\n",
            "Epoch: 7200, loss: 0.00463\n",
            "Epoch: 7300, loss: 0.00442\n",
            "Epoch: 7400, loss: 0.00423\n",
            "Epoch: 7500, loss: 0.00405\n",
            "Epoch: 7600, loss: 0.00389\n",
            "Epoch: 7700, loss: 0.00374\n",
            "Epoch: 7800, loss: 0.00360\n",
            "Epoch: 7900, loss: 0.00347\n",
            "Epoch: 8000, loss: 0.00335\n",
            "Epoch: 8100, loss: 0.00323\n",
            "Epoch: 8200, loss: 0.00312\n",
            "Epoch: 8300, loss: 0.00302\n",
            "Epoch: 8400, loss: 0.00291\n",
            "Epoch: 8500, loss: 0.00281\n",
            "Epoch: 8600, loss: 0.00272\n",
            "Epoch: 8700, loss: 0.00262\n",
            "Epoch: 8800, loss: 0.00252\n",
            "Epoch: 8900, loss: 0.00242\n",
            "Epoch: 9000, loss: 0.00233\n",
            "Epoch: 9100, loss: 0.00224\n",
            "Epoch: 9200, loss: 0.00215\n",
            "Epoch: 9300, loss: 0.00205\n",
            "Epoch: 9400, loss: 0.00196\n",
            "Epoch: 9500, loss: 0.00187\n",
            "Epoch: 9600, loss: 0.00177\n",
            "Epoch: 9700, loss: 0.00168\n",
            "Epoch: 9800, loss: 0.00159\n",
            "Epoch: 9900, loss: 0.00151\n",
            "Epoch: 10000, loss: 0.00142\n",
            "Epoch: 10100, loss: 0.00134\n",
            "Epoch: 10200, loss: 0.00125\n",
            "Epoch: 10300, loss: 0.00118\n",
            "Epoch: 10400, loss: 0.00110\n",
            "Epoch: 10500, loss: 0.00102\n",
            "Epoch: 10600, loss: 0.00095\n",
            "Epoch: 10700, loss: 0.00089\n",
            "Epoch: 10800, loss: 0.00082\n",
            "Epoch: 10900, loss: 0.00076\n",
            "Epoch: 11000, loss: 0.00070\n",
            "Epoch: 11100, loss: 0.00065\n",
            "Epoch: 11200, loss: 0.00060\n",
            "Epoch: 11300, loss: 0.00055\n",
            "Epoch: 11400, loss: 0.00051\n",
            "Epoch: 11500, loss: 0.00047\n",
            "Epoch: 11600, loss: 0.00043\n",
            "Epoch: 11700, loss: 0.00040\n",
            "Epoch: 11800, loss: 0.00037\n",
            "Epoch: 11900, loss: 0.00034\n",
            "Epoch: 12000, loss: 0.00032\n",
            "Epoch: 12100, loss: 0.00030\n",
            "Epoch: 12200, loss: 0.00028\n",
            "Epoch: 12300, loss: 0.00027\n",
            "Epoch: 12400, loss: 0.00026\n",
            "Epoch: 12500, loss: 0.00025\n",
            "Epoch: 12600, loss: 0.00024\n",
            "Epoch: 12700, loss: 0.00023\n",
            "Epoch: 12800, loss: 0.00022\n",
            "Epoch: 12900, loss: 0.00022\n",
            "Epoch: 13000, loss: 0.00021\n",
            "Epoch: 13100, loss: 0.00021\n",
            "Epoch: 13200, loss: 0.00021\n",
            "Epoch: 13300, loss: 0.00020\n",
            "Epoch: 13400, loss: 0.00020\n",
            "Epoch: 13500, loss: 0.00020\n",
            "Epoch: 13600, loss: 0.00019\n",
            "Epoch: 13700, loss: 0.00019\n",
            "Epoch: 13800, loss: 0.00019\n",
            "Epoch: 13900, loss: 0.00018\n",
            "Epoch: 14000, loss: 0.00018\n",
            "Epoch: 14100, loss: 0.00018\n",
            "Epoch: 14200, loss: 0.00018\n",
            "Epoch: 14300, loss: 0.00017\n",
            "Epoch: 14400, loss: 0.00017\n",
            "Epoch: 14500, loss: 0.00017\n",
            "Epoch: 14600, loss: 0.00017\n",
            "Epoch: 14700, loss: 0.00016\n",
            "Epoch: 14800, loss: 0.00016\n",
            "Epoch: 14900, loss: 0.00016\n",
            "Epoch: 15000, loss: 0.00015\n",
            "Epoch: 15100, loss: 0.00015\n",
            "Epoch: 15200, loss: 0.00015\n",
            "Epoch: 15300, loss: 0.00015\n",
            "Epoch: 15400, loss: 0.00014\n",
            "Epoch: 15500, loss: 0.00014\n",
            "Epoch: 15600, loss: 0.00014\n",
            "Epoch: 15700, loss: 0.00014\n",
            "Epoch: 15800, loss: 0.00013\n",
            "Epoch: 15900, loss: 0.00013\n",
            "Epoch: 16000, loss: 0.00013\n",
            "Epoch: 16100, loss: 0.00013\n",
            "Epoch: 16200, loss: 0.00012\n",
            "Epoch: 16300, loss: 0.00012\n",
            "Epoch: 16400, loss: 0.00012\n",
            "Epoch: 16500, loss: 0.00012\n",
            "Epoch: 16600, loss: 0.00011\n",
            "Epoch: 16700, loss: 0.00011\n",
            "Epoch: 16800, loss: 0.00011\n",
            "Epoch: 16900, loss: 0.00011\n",
            "Epoch: 17000, loss: 0.00010\n",
            "Epoch: 17100, loss: 0.00010\n",
            "Epoch: 17200, loss: 0.00010\n",
            "Epoch: 17300, loss: 0.00010\n",
            "Epoch: 17400, loss: 0.00010\n",
            "Epoch: 17500, loss: 0.00010\n",
            "Epoch: 17600, loss: 0.00009\n",
            "Epoch: 17700, loss: 0.00009\n",
            "Epoch: 17800, loss: 0.00009\n",
            "Epoch: 17900, loss: 0.00009\n",
            "Epoch: 18000, loss: 0.00009\n",
            "Epoch: 18100, loss: 0.00009\n",
            "Epoch: 18200, loss: 0.00008\n",
            "Epoch: 18300, loss: 0.00008\n",
            "Epoch: 18400, loss: 0.00008\n",
            "Epoch: 18500, loss: 0.00008\n",
            "Epoch: 18600, loss: 0.00008\n",
            "Epoch: 18700, loss: 0.00008\n",
            "Epoch: 18800, loss: 0.00008\n",
            "Epoch: 18900, loss: 0.00007\n",
            "Epoch: 19000, loss: 0.00007\n",
            "Epoch: 19100, loss: 0.00007\n",
            "Epoch: 19200, loss: 0.00007\n",
            "Epoch: 19300, loss: 0.00007\n",
            "Epoch: 19400, loss: 0.00007\n",
            "Epoch: 19500, loss: 0.00007\n",
            "Epoch: 19600, loss: 0.00007\n",
            "Epoch: 19700, loss: 0.00006\n",
            "Epoch: 19800, loss: 0.00006\n",
            "Epoch: 19900, loss: 0.00006\n",
            "Epoch: 20000, loss: 0.00006\n",
            "Epoch: 20100, loss: 0.00006\n",
            "Epoch: 20200, loss: 0.00006\n",
            "Epoch: 20300, loss: 0.00006\n",
            "Epoch: 20400, loss: 0.00006\n",
            "Epoch: 20500, loss: 0.00006\n",
            "Epoch: 20600, loss: 0.00006\n",
            "Epoch: 20700, loss: 0.00006\n",
            "Epoch: 20800, loss: 0.00005\n",
            "Epoch: 20900, loss: 0.00005\n",
            "Epoch: 21000, loss: 0.00005\n",
            "Epoch: 21100, loss: 0.00005\n",
            "Epoch: 21200, loss: 0.00005\n",
            "Epoch: 21300, loss: 0.00005\n",
            "Epoch: 21400, loss: 0.00005\n",
            "Epoch: 21500, loss: 0.00005\n",
            "Epoch: 21600, loss: 0.00005\n",
            "Epoch: 21700, loss: 0.00005\n",
            "Epoch: 21800, loss: 0.00005\n",
            "Epoch: 21900, loss: 0.00005\n",
            "Epoch: 22000, loss: 0.00005\n",
            "Epoch: 22100, loss: 0.00005\n",
            "Epoch: 22200, loss: 0.00005\n",
            "Epoch: 22300, loss: 0.00005\n",
            "Epoch: 22400, loss: 0.00005\n",
            "Epoch: 22500, loss: 0.00005\n",
            "Epoch: 22600, loss: 0.00005\n",
            "Epoch: 22700, loss: 0.00004\n",
            "Epoch: 22800, loss: 0.00004\n",
            "Epoch: 22900, loss: 0.00004\n",
            "Epoch: 23000, loss: 0.00004\n",
            "Epoch: 23100, loss: 0.00004\n",
            "Epoch: 23200, loss: 0.00004\n",
            "Epoch: 23300, loss: 0.00004\n",
            "Epoch: 23400, loss: 0.00004\n",
            "Epoch: 23500, loss: 0.00004\n",
            "Epoch: 23600, loss: 0.00004\n",
            "Epoch: 23700, loss: 0.00004\n",
            "Epoch: 23800, loss: 0.00004\n",
            "Epoch: 23900, loss: 0.00004\n",
            "Epoch: 24000, loss: 0.00004\n",
            "Epoch: 24100, loss: 0.00004\n",
            "Epoch: 24200, loss: 0.00004\n",
            "Epoch: 24300, loss: 0.00004\n",
            "Epoch: 24400, loss: 0.00004\n",
            "Epoch: 24500, loss: 0.00004\n",
            "Epoch: 24600, loss: 0.00004\n",
            "Epoch: 24700, loss: 0.00004\n",
            "Epoch: 24800, loss: 0.00004\n",
            "Epoch: 24900, loss: 0.00004\n",
            "Epoch: 25000, loss: 0.00004\n",
            "Epoch: 25100, loss: 0.00004\n",
            "Epoch: 25200, loss: 0.00003\n",
            "Epoch: 25300, loss: 0.00003\n",
            "Epoch: 25400, loss: 0.00003\n",
            "Epoch: 25500, loss: 0.00003\n",
            "Epoch: 25600, loss: 0.00003\n",
            "Epoch: 25700, loss: 0.00003\n",
            "Epoch: 25800, loss: 0.00003\n",
            "Epoch: 25900, loss: 0.00003\n",
            "Epoch: 26000, loss: 0.00003\n",
            "Epoch: 26100, loss: 0.00003\n",
            "Epoch: 26200, loss: 0.00003\n",
            "Epoch: 26300, loss: 0.00003\n",
            "Epoch: 26400, loss: 0.00003\n",
            "Epoch: 26500, loss: 0.00003\n",
            "Epoch: 26600, loss: 0.00003\n",
            "Epoch: 26700, loss: 0.00003\n",
            "Epoch: 26800, loss: 0.00003\n",
            "Epoch: 26900, loss: 0.00003\n",
            "Epoch: 27000, loss: 0.00003\n",
            "Epoch: 27100, loss: 0.00003\n",
            "Epoch: 27200, loss: 0.00003\n",
            "Epoch: 27300, loss: 0.00003\n",
            "Epoch: 27400, loss: 0.00003\n",
            "Epoch: 27500, loss: 0.00003\n",
            "Epoch: 27600, loss: 0.00003\n",
            "Epoch: 27700, loss: 0.00003\n",
            "Epoch: 27800, loss: 0.00003\n",
            "Epoch: 27900, loss: 0.00003\n",
            "Epoch: 28000, loss: 0.00003\n",
            "Epoch: 28100, loss: 0.00003\n",
            "Epoch: 28200, loss: 0.00002\n",
            "Epoch: 28300, loss: 0.00002\n",
            "Epoch: 28400, loss: 0.00002\n",
            "Epoch: 28500, loss: 0.00002\n",
            "Epoch: 28600, loss: 0.00002\n",
            "Epoch: 28700, loss: 0.00002\n",
            "Epoch: 28800, loss: 0.00002\n",
            "Epoch: 28900, loss: 0.00002\n",
            "Epoch: 29000, loss: 0.00002\n",
            "Epoch: 29100, loss: 0.00002\n",
            "Epoch: 29200, loss: 0.00002\n",
            "Epoch: 29300, loss: 0.00002\n",
            "Epoch: 29400, loss: 0.00002\n",
            "Epoch: 29500, loss: 0.00002\n",
            "Epoch: 29600, loss: 0.00002\n",
            "Epoch: 29700, loss: 0.00002\n",
            "Epoch: 29800, loss: 0.00002\n",
            "Epoch: 29900, loss: 0.00002\n"
          ]
        }
      ]
    },
    {
      "cell_type": "code",
      "source": [
        "df_X_ss = ss.transform(s.iloc[:, :4])\n",
        "df_y_mm = mm.transform(s.iloc[:, 3:4])\n",
        "\n",
        "df_X_ss = Variable(torch.Tensor(df_X_ss)) #converting to Tensors\n",
        "df_y_mm = Variable(torch.Tensor(df_y_mm))\n",
        "#reshaping the dataset\n",
        "df_X_ss = torch.reshape(df_X_ss, (df_X_ss.shape[0], 1, df_X_ss.shape[1]))\n",
        "train_predict = lstm1(df_X_ss.to(device))#forward pass\n",
        "data_predict = train_predict.data.detach().cpu().numpy() #numpy conversion\n",
        "dataY_plot = df_y_mm.data.numpy()\n",
        "\n",
        "data_predict = mm.inverse_transform(data_predict) #reverse transformation\n",
        "dataY_plot = mm.inverse_transform(dataY_plot)\n",
        "plt.figure(figsize=(10,6)) #plotting\n",
        "plt.axvline(x=1500, c='r', linestyle='--') #size of the training set\n",
        "\n",
        "plt.plot(dataY_plot, label='Actuall Data') #actual plot\n",
        "plt.plot(data_predict, label='Predicted Data') #predicted plot\n",
        "plt.title('Time-Series Prediction')\n",
        "plt.legend()\n",
        "plt.show()"
      ],
      "metadata": {
        "colab": {
          "base_uri": "https://localhost:8080/",
          "height": 388
        },
        "id": "mccLZqoBzE24",
        "outputId": "5f846272-0944-461b-e1bb-663d07631244"
      },
      "execution_count": 14,
      "outputs": [
        {
          "output_type": "display_data",
          "data": {
            "text/plain": [
              "<Figure size 720x432 with 1 Axes>"
            ],
            "image/png": "[encoded data removed]"
          },
          "metadata": {
            "needs_background": "light"
          }
        }
      ]
    },
    {
      "cell_type": "markdown",
      "source": [
        "### 이제 lstm 모델 성능평가(예: MSE) 등등 만들면 됩니다"
      ],
      "metadata": {
        "id": "pHQPnjUGzX3o"
      }
    },
    {
      "cell_type": "code",
      "source": [
        "# 실제값, 예측값 flatten 하기\n",
        "\n",
        "pre_data = list(data_predict[1500:].flatten())\n",
        "\n",
        "n_s = np.array(s.iloc[:,3:4])           \n",
        "true_data = list(n_s[1500:].flatten())"
      ],
      "metadata": {
        "id": "ZJmeqVlFEuhE"
      },
      "execution_count": null,
      "outputs": []
    },
    {
      "cell_type": "code",
      "source": [
        "from sklearn.metrics import mean_squared_error"
      ],
      "metadata": {
        "id": "9Ov6jJbnzVYm"
      },
      "execution_count": 1,
      "outputs": []
    },
    {
      "cell_type": "code",
      "source": [
        "score_table = pd.DataFrame({'True': true_data,\n",
        "                            'Pred': pre_data})"
      ],
      "metadata": {
        "id": "ocSCUKgy8RU9"
      },
      "execution_count": 60,
      "outputs": []
    },
    {
      "cell_type": "code",
      "source": [
        "score_table"
      ],
      "metadata": {
        "colab": {
          "base_uri": "https://localhost:8080/",
          "height": 424
        },
        "id": "FzzolHux9z4M",
        "outputId": "270de902-d54e-416e-afb9-da781fa76dd2"
      },
      "execution_count": 61,
      "outputs": [
        {
          "output_type": "execute_result",
          "data": {
            "text/plain": [
              "      True          Pred\n",
              "0    83000  85055.390625\n",
              "1    82700  84171.250000\n",
              "2    81600  83921.148438\n",
              "3    84200  85777.242188\n",
              "4    84900  86027.562500\n",
              "..     ...           ...\n",
              "324  66700  67639.468750\n",
              "325  66800  67996.273438\n",
              "326  65500  66271.257812\n",
              "327  65300  66391.085938\n",
              "328  65200  65874.015625\n",
              "\n",
              "[329 rows x 2 columns]"
            ],
            "text/html": [
              "\n",
              "  <div id=\"df-b1031793-6783-4d9e-a248-40e921048009\">\n",
              "    <div class=\"colab-df-container\">\n",
              "      <div>\n",
              "<style scoped>\n",
              "    .dataframe tbody tr th:only-of-type {\n",
              "        vertical-align: middle;\n",
              "    }\n",
              "\n",
              "    .dataframe tbody tr th {\n",
              "        vertical-align: top;\n",
              "    }\n",
              "\n",
              "    .dataframe thead th {\n",
              "        text-align: right;\n",
              "    }\n",
              "</style>\n",
              "<table border=\"1\" class=\"dataframe\">\n",
              "  <thead>\n",
              "    <tr style=\"text-align: right;\">\n",
              "      <th></th>\n",
              "      <th>True</th>\n",
              "      <th>Pred</th>\n",
              "    </tr>\n",
              "  </thead>\n",
              "  <tbody>\n",
              "    <tr>\n",
              "      <th>0</th>\n",
              "      <td>83000</td>\n",
              "      <td>85055.390625</td>\n",
              "    </tr>\n",
              "    <tr>\n",
              "      <th>1</th>\n",
              "      <td>82700</td>\n",
              "      <td>84171.250000</td>\n",
              "    </tr>\n",
              "    <tr>\n",
              "      <th>2</th>\n",
              "      <td>81600</td>\n",
              "      <td>83921.148438</td>\n",
              "    </tr>\n",
              "    <tr>\n",
              "      <th>3</th>\n",
              "      <td>84200</td>\n",
              "      <td>85777.242188</td>\n",
              "    </tr>\n",
              "    <tr>\n",
              "      <th>4</th>\n",
              "      <td>84900</td>\n",
              "      <td>86027.562500</td>\n",
              "    </tr>\n",
              "    <tr>\n",
              "      <th>...</th>\n",
              "      <td>...</td>\n",
              "      <td>...</td>\n",
              "    </tr>\n",
              "    <tr>\n",
              "      <th>324</th>\n",
              "      <td>66700</td>\n",
              "      <td>67639.468750</td>\n",
              "    </tr>\n",
              "    <tr>\n",
              "      <th>325</th>\n",
              "      <td>66800</td>\n",
              "      <td>67996.273438</td>\n",
              "    </tr>\n",
              "    <tr>\n",
              "      <th>326</th>\n",
              "      <td>65500</td>\n",
              "      <td>66271.257812</td>\n",
              "    </tr>\n",
              "    <tr>\n",
              "      <th>327</th>\n",
              "      <td>65300</td>\n",
              "      <td>66391.085938</td>\n",
              "    </tr>\n",
              "    <tr>\n",
              "      <th>328</th>\n",
              "      <td>65200</td>\n",
              "      <td>65874.015625</td>\n",
              "    </tr>\n",
              "  </tbody>\n",
              "</table>\n",
              "<p>329 rows × 2 columns</p>\n",
              "</div>\n",
              "      <button class=\"colab-df-convert\" onclick=\"convertToInteractive('df-b1031793-6783-4d9e-a248-40e921048009')\"\n",
              "              title=\"Convert this dataframe to an interactive table.\"\n",
              "              style=\"display:none;\">\n",
              "        \n",
              "  <svg xmlns=\"http://www.w3.org/2000/svg\" height=\"24px\"viewBox=\"0 0 24 24\"\n",
              "       width=\"24px\">\n",
              "    <path d=\"M0 0h24v24H0V0z\" fill=\"none\"/>\n",
              "    <path d=\"M18.56 5.44l.94 2.06.94-2.06 2.06-.94-2.06-.94-.94-2.06-.94 2.06-2.06.94zm-11 1L8.5 8.5l.94-2.06 2.06-.94-2.06-.94L8.5 2.5l-.94 2.06-2.06.94zm10 10l.94 2.06.94-2.06 2.06-.94-2.06-.94-.94-2.06-.94 2.06-2.06.94z\"/><path d=\"M17.41 7.96l-1.37-1.37c-.4-.4-.92-.59-1.43-.59-.52 0-1.04.2-1.43.59L10.3 9.45l-7.72 7.72c-.78.78-.78 2.05 0 2.83L4 21.41c.39.39.9.59 1.41.59.51 0 1.02-.2 1.41-.59l7.78-7.78 2.81-2.81c.8-.78.8-2.07 0-2.86zM5.41 20L4 18.59l7.72-7.72 1.47 1.35L5.41 20z\"/>\n",
              "  </svg>\n",
              "      </button>\n",
              "      \n",
              "  <style>\n",
              "    .colab-df-container {\n",
              "      display:flex;\n",
              "      flex-wrap:wrap;\n",
              "      gap: 12px;\n",
              "    }\n",
              "\n",
              "    .colab-df-convert {\n",
              "      background-color: #E8F0FE;\n",
              "      border: none;\n",
              "      border-radius: 50%;\n",
              "      cursor: pointer;\n",
              "      display: none;\n",
              "      fill: #1967D2;\n",
              "      height: 32px;\n",
              "      padding: 0 0 0 0;\n",
              "      width: 32px;\n",
              "    }\n",
              "\n",
              "    .colab-df-convert:hover {\n",
              "      background-color: #E2EBFA;\n",
              "      box-shadow: 0px 1px 2px rgba(60, 64, 67, 0.3), 0px 1px 3px 1px rgba(60, 64, 67, 0.15);\n",
              "      fill: #174EA6;\n",
              "    }\n",
              "\n",
              "    [theme=dark] .colab-df-convert {\n",
              "      background-color: #3B4455;\n",
              "      fill: #D2E3FC;\n",
              "    }\n",
              "\n",
              "    [theme=dark] .colab-df-convert:hover {\n",
              "      background-color: #434B5C;\n",
              "      box-shadow: 0px 1px 3px 1px rgba(0, 0, 0, 0.15);\n",
              "      filter: drop-shadow(0px 1px 2px rgba(0, 0, 0, 0.3));\n",
              "      fill: #FFFFFF;\n",
              "    }\n",
              "  </style>\n",
              "\n",
              "      <script>\n",
              "        const buttonEl =\n",
              "          document.querySelector('#df-b1031793-6783-4d9e-a248-40e921048009 button.colab-df-convert');\n",
              "        buttonEl.style.display =\n",
              "          google.colab.kernel.accessAllowed ? 'block' : 'none';\n",
              "\n",
              "        async function convertToInteractive(key) {\n",
              "          const element = document.querySelector('#df-b1031793-6783-4d9e-a248-40e921048009');\n",
              "          const dataTable =\n",
              "            await google.colab.kernel.invokeFunction('convertToInteractive',\n",
              "                                                     [key], {});\n",
              "          if (!dataTable) return;\n",
              "\n",
              "          const docLinkHtml = 'Like what you see? Visit the ' +\n",
              "            '<a target=\"_blank\" href=https://colab.research.google.com/notebooks/data_table.ipynb>data table notebook</a>'\n",
              "            + ' to learn more about interactive tables.';\n",
              "          element.innerHTML = '';\n",
              "          dataTable['output_type'] = 'display_data';\n",
              "          await google.colab.output.renderOutput(dataTable, element);\n",
              "          const docLink = document.createElement('div');\n",
              "          docLink.innerHTML = docLinkHtml;\n",
              "          element.appendChild(docLink);\n",
              "        }\n",
              "      </script>\n",
              "    </div>\n",
              "  </div>\n",
              "  "
            ]
          },
          "metadata": {},
          "execution_count": 61
        }
      ]
    },
    {
      "cell_type": "code",
      "source": [
        "# validation score\n",
        "MSE = mean_squared_error(score_table['True'], score_table['Pred'])\n",
        "RMSE = np.sqrt(MSE)\n",
        "\n",
        "score = 100*(1-(((score_table['Pred'] -score_table['True'])**2).sum())/((score_table['True']**2).sum()))"
      ],
      "metadata": {
        "id": "jsz9vJMtDFRG"
      },
      "execution_count": 62,
      "outputs": []
    },
    {
      "cell_type": "code",
      "source": [
        "print(\"MSE : {0}, RMSE : {1}, SCORE : {2}\".format(MSE, RMSE, score))"
      ],
      "metadata": {
        "colab": {
          "base_uri": "https://localhost:8080/"
        },
        "id": "gpcqNALbDeYw",
        "outputId": "b2bd78be-00c4-418b-99f4-7393dbf71033"
      },
      "execution_count": 63,
      "outputs": [
        {
          "output_type": "stream",
          "name": "stdout",
          "text": [
            "MSE : 2499540.8889661515, RMSE : 1580.993639761448, SCORE : 99.956827345804\n"
          ]
        }
      ]
    },
    {
      "cell_type": "markdown",
      "source": [
        ""
      ],
      "metadata": {
        "id": "DkhR5JK5Dmen"
      }
    },
    {
      "cell_type": "code",
      "source": [
        "plt.figure(figsize=(10,5))\n",
        "plt.plot(range(y_train.__len__()),yscaler.inverse_transform(y_train)[:, [-1]])\n",
        "plt.plot(range(y_train.__len__(), y_train.__len__()+y_test.__len__()),true_values, label='Real')\n",
        "plt.plot(range(y_train.__len__(), y_train.__len__()+y_test.__len__()),pred_values_ceiled, label='Pred')\n",
        "#plt.xlim(70)\n",
        "plt.legend()\n",
        "\n",
        "실제값 - 예측값 제곱 / 실제값 제곱\n",
        "\n",
        "오차제곱 / 실제제곱\n",
        "\n"
      ],
      "metadata": {
        "id": "V5UajpOhDgEN"
      },
      "execution_count": null,
      "outputs": []
    }
  ]
}