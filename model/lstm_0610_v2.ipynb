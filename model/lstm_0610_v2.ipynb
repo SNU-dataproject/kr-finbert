{
  "nbformat": 4,
  "nbformat_minor": 0,
  "metadata": {
    "colab": {
      "name": "lstm_0610_v2.ipynb",
      "provenance": [],
      "collapsed_sections": []
    },
    "kernelspec": {
      "name": "python3",
      "display_name": "Python 3"
    },
    "language_info": {
      "name": "python"
    },
    "accelerator": "GPU"
  },
  "cells": [
    {
      "cell_type": "markdown",
      "source": [
        "## lstm"
      ],
      "metadata": {
        "id": "3PRttfr1bDEM"
      }
    },
    {
      "cell_type": "markdown",
      "source": [
        "### 라이브러리"
      ],
      "metadata": {
        "id": "r4h1mjDcTlYB"
      }
    },
    {
      "cell_type": "code",
      "source": [
        "import pandas as pd\n",
        "import numpy as np\n",
        "import matplotlib.pyplot as plt\n",
        "import seaborn as sns\n",
        "# sns.set_style('whitegrid')\n",
        "# plt.style.use(\"fivethirtyeight\")\n",
        "# %matplotlib inline\n",
        "\n",
        "import torch\n",
        "import torch.nn as nn\n",
        "from torch.autograd import Variable\n",
        "import torch.optim as optim\n",
        "from torch.utils.data import Dataset, DataLoader\n",
        "from sklearn.preprocessing import MinMaxScaler\n",
        "import datetime"
      ],
      "metadata": {
        "id": "_mSvSsaNATrx"
      },
      "execution_count": 49,
      "outputs": []
    },
    {
      "cell_type": "markdown",
      "source": [
        "### 데이터 로드\n",
        "\n",
        "\n",
        "*   pwd: 현재 경로 표시하기\n",
        "*   cd drive/MyDrive/bigdata_project/data: 왼쪽 폴더 아이콘 누른 뒤 3번째 아이콘 눌러서 구글 드라이브를 마운트하고 다운 받은 엑셀파일이 저장된 경로를 찾아 들어가야함\n",
        "\n",
        "\n",
        "\n"
      ],
      "metadata": {
        "id": "inbN9quyTvAL"
      }
    },
    {
      "cell_type": "code",
      "source": [
        "/pwd"
      ],
      "metadata": {
        "colab": {
          "base_uri": "https://localhost:8080/",
          "height": 35
        },
        "id": "aQdYXPjpkpaR",
        "outputId": "66c452bf-8eea-4c10-9781-ee5edb8bacfd"
      },
      "execution_count": 53,
      "outputs": [
        {
          "output_type": "execute_result",
          "data": {
            "text/plain": [
              "'/content/drive/MyDrive/bigdata_project/data'"
            ],
            "application/vnd.google.colaboratory.intrinsic+json": {
              "type": "string"
            }
          },
          "metadata": {},
          "execution_count": 53
        }
      ]
    },
    {
      "cell_type": "code",
      "source": [
        "cd drive/MyDrive/bigdata_project/data"
      ],
      "metadata": {
        "colab": {
          "base_uri": "https://localhost:8080/"
        },
        "id": "dn0_U2u0kqt6",
        "outputId": "67ea29f1-836d-468a-d8c3-28deef5af1d5"
      },
      "execution_count": 54,
      "outputs": [
        {
          "output_type": "stream",
          "name": "stdout",
          "text": [
            "[Errno 2] No such file or directory: 'drive/MyDrive/bigdata_project/data'\n",
            "/content/drive/MyDrive/bigdata_project/data\n"
          ]
        }
      ]
    },
    {
      "cell_type": "code",
      "source": [
        "ls"
      ],
      "metadata": {
        "colab": {
          "base_uri": "https://localhost:8080/"
        },
        "id": "YcbKCV9LksB6",
        "outputId": "7a51e668-7404-4446-f470-2af542dd4a3e"
      },
      "execution_count": 55,
      "outputs": [
        {
          "output_type": "stream",
          "name": "stdout",
          "text": [
            "datareader_finbert_to_num_v2.xlsx\n",
            "datareader_finbert_to_num.xlsx\n",
            "datareader_finbert.xlsx\n",
            "naver_finance_news.xlsx\n",
            "naver_news.xlsx\n",
            "preprocessed_dup_eliminated_dataset_finBERT.xlsx\n",
            "report.xlsx\n",
            "stock_dataset_finBERT_notnull.xlsx\n"
          ]
        }
      ]
    },
    {
      "cell_type": "code",
      "source": [
        "# 로우 데이터로 엑셀파일 로드\n",
        "# 실행 전에 미리 구글 드라이브 마운트를 해야하고 동일 경로에서 엑셀파일을 읽어들여야 함\n",
        "raw_data = pd.read_excel('stock_dataset_finBERT_notnull.xlsx')\n",
        "raw_data = raw_data.set_index(\"Date\")\n",
        "raw_data"
      ],
      "metadata": {
        "colab": {
          "base_uri": "https://localhost:8080/",
          "height": 710
        },
        "id": "eB0KJF-kkuFa",
        "outputId": "25433dc1-f194-4ecc-c757-620cfe86c134"
      },
      "execution_count": 58,
      "outputs": [
        {
          "output_type": "execute_result",
          "data": {
            "text/plain": [
              "             Open   High    Low  Close    Volume    Change        Rn  \\\n",
              "Date                                                                   \n",
              "2017-06-01  44860  44900  44400  44680    195070 -0.000447       NaN   \n",
              "2017-06-02  45060  45960  45000  45960    249775  0.028648  1.028648   \n",
              "2017-06-05  46040  46360  45720  45940    151988 -0.000435  0.999565   \n",
              "2017-06-07  46500  46500  45240  45300    274588 -0.013931  0.986069   \n",
              "2017-06-08  45000  45580  45000  45160    279575 -0.003091  0.996909   \n",
              "...           ...    ...    ...    ...       ...       ...       ...   \n",
              "2022-06-02  66600  67000  66400  66700  14959443 -0.010386  0.989614   \n",
              "2022-06-03  67200  67300  66800  66800   8222883  0.001499  1.001499   \n",
              "2022-06-07  66200  66400  65400  65500  19355755 -0.019461  0.980539   \n",
              "2022-06-08  65400  65700  65300  65300  12483180 -0.003053  0.996947   \n",
              "2022-06-09  65100  65200  64500  65200  25790725 -0.001531  0.998469   \n",
              "\n",
              "                 MRn  Volatility10  Volatility30  ...  PSAR-up        RSI  \\\n",
              "Date                                              ...                       \n",
              "2017-06-01       NaN      0.000000      0.000000  ...      NaN        NaN   \n",
              "2017-06-02       NaN      0.000000      0.000000  ...      NaN        NaN   \n",
              "2017-06-05       NaN      0.000000      0.000000  ...      NaN        NaN   \n",
              "2017-06-07  1.004761      0.000000      0.000000  ...  45720.0        NaN   \n",
              "2017-06-08  0.994181      0.000000      0.000000  ...      NaN        NaN   \n",
              "...              ...           ...           ...  ...      ...        ...   \n",
              "2022-06-02  1.001076      0.033406      0.070579  ...      NaN  47.724304   \n",
              "2022-06-03  0.995561      0.032744      0.070580  ...      NaN  48.344501   \n",
              "2022-06-07  0.990551      0.035700      0.072899  ...      NaN  41.458445   \n",
              "2022-06-08  0.992995      0.035631      0.072318  ...      NaN  40.502621   \n",
              "2022-06-09  0.991985      0.030843      0.071657  ...      NaN  40.005978   \n",
              "\n",
              "                  ADX        OBV  OSCILLATOR  negative   neutral  positive  \\\n",
              "Date                                                                         \n",
              "2017-06-01   0.000000     195070         NaN  0.003329  0.071755  0.924916   \n",
              "2017-06-02   0.000000     444845         NaN  0.011197  0.002902  0.985901   \n",
              "2017-06-05   0.000000     292857         NaN  0.005667  0.001626  0.992706   \n",
              "2017-06-07   0.000000      18269         NaN  0.000138  0.000351  0.999511   \n",
              "2017-06-08   0.000000    -261306         NaN  0.000037  0.000082  0.999881   \n",
              "...               ...        ...         ...       ...       ...       ...   \n",
              "2022-06-02  10.877366  640155380  -22.352941  0.000585  0.499241  0.500174   \n",
              "2022-06-03  10.158162  648378263  148.529412  0.001084  0.998356  0.000561   \n",
              "2022-06-07  10.635226  629022508   47.941176  0.000039  0.000086  0.999876   \n",
              "2022-06-08  11.151145  616539328 -289.705882  0.000019  0.000043  0.499938   \n",
              "2022-06-09  12.191461  590748603 -661.764706  0.000010  0.000021  0.249969   \n",
              "\n",
              "            sentiment  Next_day  \n",
              "Date                             \n",
              "2017-06-01          1     45960  \n",
              "2017-06-02          1     45940  \n",
              "2017-06-05          1     45300  \n",
              "2017-06-07          1     45160  \n",
              "2017-06-08          1     46100  \n",
              "...               ...       ...  \n",
              "2022-06-02          1     66800  \n",
              "2022-06-03          0     65500  \n",
              "2022-06-07          1     65300  \n",
              "2022-06-08          1     65200  \n",
              "2022-06-09          1     63900  \n",
              "\n",
              "[1234 rows x 38 columns]"
            ],
            "text/html": [
              "\n",
              "  <div id=\"df-e6dadb5c-f8d9-4d86-8091-4bffcc7ed486\">\n",
              "    <div class=\"colab-df-container\">\n",
              "      <div>\n",
              "<style scoped>\n",
              "    .dataframe tbody tr th:only-of-type {\n",
              "        vertical-align: middle;\n",
              "    }\n",
              "\n",
              "    .dataframe tbody tr th {\n",
              "        vertical-align: top;\n",
              "    }\n",
              "\n",
              "    .dataframe thead th {\n",
              "        text-align: right;\n",
              "    }\n",
              "</style>\n",
              "<table border=\"1\" class=\"dataframe\">\n",
              "  <thead>\n",
              "    <tr style=\"text-align: right;\">\n",
              "      <th></th>\n",
              "      <th>Open</th>\n",
              "      <th>High</th>\n",
              "      <th>Low</th>\n",
              "      <th>Close</th>\n",
              "      <th>Volume</th>\n",
              "      <th>Change</th>\n",
              "      <th>Rn</th>\n",
              "      <th>MRn</th>\n",
              "      <th>Volatility10</th>\n",
              "      <th>Volatility30</th>\n",
              "      <th>...</th>\n",
              "      <th>PSAR-up</th>\n",
              "      <th>RSI</th>\n",
              "      <th>ADX</th>\n",
              "      <th>OBV</th>\n",
              "      <th>OSCILLATOR</th>\n",
              "      <th>negative</th>\n",
              "      <th>neutral</th>\n",
              "      <th>positive</th>\n",
              "      <th>sentiment</th>\n",
              "      <th>Next_day</th>\n",
              "    </tr>\n",
              "    <tr>\n",
              "      <th>Date</th>\n",
              "      <th></th>\n",
              "      <th></th>\n",
              "      <th></th>\n",
              "      <th></th>\n",
              "      <th></th>\n",
              "      <th></th>\n",
              "      <th></th>\n",
              "      <th></th>\n",
              "      <th></th>\n",
              "      <th></th>\n",
              "      <th></th>\n",
              "      <th></th>\n",
              "      <th></th>\n",
              "      <th></th>\n",
              "      <th></th>\n",
              "      <th></th>\n",
              "      <th></th>\n",
              "      <th></th>\n",
              "      <th></th>\n",
              "      <th></th>\n",
              "      <th></th>\n",
              "    </tr>\n",
              "  </thead>\n",
              "  <tbody>\n",
              "    <tr>\n",
              "      <th>2017-06-01</th>\n",
              "      <td>44860</td>\n",
              "      <td>44900</td>\n",
              "      <td>44400</td>\n",
              "      <td>44680</td>\n",
              "      <td>195070</td>\n",
              "      <td>-0.000447</td>\n",
              "      <td>NaN</td>\n",
              "      <td>NaN</td>\n",
              "      <td>0.000000</td>\n",
              "      <td>0.000000</td>\n",
              "      <td>...</td>\n",
              "      <td>NaN</td>\n",
              "      <td>NaN</td>\n",
              "      <td>0.000000</td>\n",
              "      <td>195070</td>\n",
              "      <td>NaN</td>\n",
              "      <td>0.003329</td>\n",
              "      <td>0.071755</td>\n",
              "      <td>0.924916</td>\n",
              "      <td>1</td>\n",
              "      <td>45960</td>\n",
              "    </tr>\n",
              "    <tr>\n",
              "      <th>2017-06-02</th>\n",
              "      <td>45060</td>\n",
              "      <td>45960</td>\n",
              "      <td>45000</td>\n",
              "      <td>45960</td>\n",
              "      <td>249775</td>\n",
              "      <td>0.028648</td>\n",
              "      <td>1.028648</td>\n",
              "      <td>NaN</td>\n",
              "      <td>0.000000</td>\n",
              "      <td>0.000000</td>\n",
              "      <td>...</td>\n",
              "      <td>NaN</td>\n",
              "      <td>NaN</td>\n",
              "      <td>0.000000</td>\n",
              "      <td>444845</td>\n",
              "      <td>NaN</td>\n",
              "      <td>0.011197</td>\n",
              "      <td>0.002902</td>\n",
              "      <td>0.985901</td>\n",
              "      <td>1</td>\n",
              "      <td>45940</td>\n",
              "    </tr>\n",
              "    <tr>\n",
              "      <th>2017-06-05</th>\n",
              "      <td>46040</td>\n",
              "      <td>46360</td>\n",
              "      <td>45720</td>\n",
              "      <td>45940</td>\n",
              "      <td>151988</td>\n",
              "      <td>-0.000435</td>\n",
              "      <td>0.999565</td>\n",
              "      <td>NaN</td>\n",
              "      <td>0.000000</td>\n",
              "      <td>0.000000</td>\n",
              "      <td>...</td>\n",
              "      <td>NaN</td>\n",
              "      <td>NaN</td>\n",
              "      <td>0.000000</td>\n",
              "      <td>292857</td>\n",
              "      <td>NaN</td>\n",
              "      <td>0.005667</td>\n",
              "      <td>0.001626</td>\n",
              "      <td>0.992706</td>\n",
              "      <td>1</td>\n",
              "      <td>45300</td>\n",
              "    </tr>\n",
              "    <tr>\n",
              "      <th>2017-06-07</th>\n",
              "      <td>46500</td>\n",
              "      <td>46500</td>\n",
              "      <td>45240</td>\n",
              "      <td>45300</td>\n",
              "      <td>274588</td>\n",
              "      <td>-0.013931</td>\n",
              "      <td>0.986069</td>\n",
              "      <td>1.004761</td>\n",
              "      <td>0.000000</td>\n",
              "      <td>0.000000</td>\n",
              "      <td>...</td>\n",
              "      <td>45720.0</td>\n",
              "      <td>NaN</td>\n",
              "      <td>0.000000</td>\n",
              "      <td>18269</td>\n",
              "      <td>NaN</td>\n",
              "      <td>0.000138</td>\n",
              "      <td>0.000351</td>\n",
              "      <td>0.999511</td>\n",
              "      <td>1</td>\n",
              "      <td>45160</td>\n",
              "    </tr>\n",
              "    <tr>\n",
              "      <th>2017-06-08</th>\n",
              "      <td>45000</td>\n",
              "      <td>45580</td>\n",
              "      <td>45000</td>\n",
              "      <td>45160</td>\n",
              "      <td>279575</td>\n",
              "      <td>-0.003091</td>\n",
              "      <td>0.996909</td>\n",
              "      <td>0.994181</td>\n",
              "      <td>0.000000</td>\n",
              "      <td>0.000000</td>\n",
              "      <td>...</td>\n",
              "      <td>NaN</td>\n",
              "      <td>NaN</td>\n",
              "      <td>0.000000</td>\n",
              "      <td>-261306</td>\n",
              "      <td>NaN</td>\n",
              "      <td>0.000037</td>\n",
              "      <td>0.000082</td>\n",
              "      <td>0.999881</td>\n",
              "      <td>1</td>\n",
              "      <td>46100</td>\n",
              "    </tr>\n",
              "    <tr>\n",
              "      <th>...</th>\n",
              "      <td>...</td>\n",
              "      <td>...</td>\n",
              "      <td>...</td>\n",
              "      <td>...</td>\n",
              "      <td>...</td>\n",
              "      <td>...</td>\n",
              "      <td>...</td>\n",
              "      <td>...</td>\n",
              "      <td>...</td>\n",
              "      <td>...</td>\n",
              "      <td>...</td>\n",
              "      <td>...</td>\n",
              "      <td>...</td>\n",
              "      <td>...</td>\n",
              "      <td>...</td>\n",
              "      <td>...</td>\n",
              "      <td>...</td>\n",
              "      <td>...</td>\n",
              "      <td>...</td>\n",
              "      <td>...</td>\n",
              "      <td>...</td>\n",
              "    </tr>\n",
              "    <tr>\n",
              "      <th>2022-06-02</th>\n",
              "      <td>66600</td>\n",
              "      <td>67000</td>\n",
              "      <td>66400</td>\n",
              "      <td>66700</td>\n",
              "      <td>14959443</td>\n",
              "      <td>-0.010386</td>\n",
              "      <td>0.989614</td>\n",
              "      <td>1.001076</td>\n",
              "      <td>0.033406</td>\n",
              "      <td>0.070579</td>\n",
              "      <td>...</td>\n",
              "      <td>NaN</td>\n",
              "      <td>47.724304</td>\n",
              "      <td>10.877366</td>\n",
              "      <td>640155380</td>\n",
              "      <td>-22.352941</td>\n",
              "      <td>0.000585</td>\n",
              "      <td>0.499241</td>\n",
              "      <td>0.500174</td>\n",
              "      <td>1</td>\n",
              "      <td>66800</td>\n",
              "    </tr>\n",
              "    <tr>\n",
              "      <th>2022-06-03</th>\n",
              "      <td>67200</td>\n",
              "      <td>67300</td>\n",
              "      <td>66800</td>\n",
              "      <td>66800</td>\n",
              "      <td>8222883</td>\n",
              "      <td>0.001499</td>\n",
              "      <td>1.001499</td>\n",
              "      <td>0.995561</td>\n",
              "      <td>0.032744</td>\n",
              "      <td>0.070580</td>\n",
              "      <td>...</td>\n",
              "      <td>NaN</td>\n",
              "      <td>48.344501</td>\n",
              "      <td>10.158162</td>\n",
              "      <td>648378263</td>\n",
              "      <td>148.529412</td>\n",
              "      <td>0.001084</td>\n",
              "      <td>0.998356</td>\n",
              "      <td>0.000561</td>\n",
              "      <td>0</td>\n",
              "      <td>65500</td>\n",
              "    </tr>\n",
              "    <tr>\n",
              "      <th>2022-06-07</th>\n",
              "      <td>66200</td>\n",
              "      <td>66400</td>\n",
              "      <td>65400</td>\n",
              "      <td>65500</td>\n",
              "      <td>19355755</td>\n",
              "      <td>-0.019461</td>\n",
              "      <td>0.980539</td>\n",
              "      <td>0.990551</td>\n",
              "      <td>0.035700</td>\n",
              "      <td>0.072899</td>\n",
              "      <td>...</td>\n",
              "      <td>NaN</td>\n",
              "      <td>41.458445</td>\n",
              "      <td>10.635226</td>\n",
              "      <td>629022508</td>\n",
              "      <td>47.941176</td>\n",
              "      <td>0.000039</td>\n",
              "      <td>0.000086</td>\n",
              "      <td>0.999876</td>\n",
              "      <td>1</td>\n",
              "      <td>65300</td>\n",
              "    </tr>\n",
              "    <tr>\n",
              "      <th>2022-06-08</th>\n",
              "      <td>65400</td>\n",
              "      <td>65700</td>\n",
              "      <td>65300</td>\n",
              "      <td>65300</td>\n",
              "      <td>12483180</td>\n",
              "      <td>-0.003053</td>\n",
              "      <td>0.996947</td>\n",
              "      <td>0.992995</td>\n",
              "      <td>0.035631</td>\n",
              "      <td>0.072318</td>\n",
              "      <td>...</td>\n",
              "      <td>NaN</td>\n",
              "      <td>40.502621</td>\n",
              "      <td>11.151145</td>\n",
              "      <td>616539328</td>\n",
              "      <td>-289.705882</td>\n",
              "      <td>0.000019</td>\n",
              "      <td>0.000043</td>\n",
              "      <td>0.499938</td>\n",
              "      <td>1</td>\n",
              "      <td>65200</td>\n",
              "    </tr>\n",
              "    <tr>\n",
              "      <th>2022-06-09</th>\n",
              "      <td>65100</td>\n",
              "      <td>65200</td>\n",
              "      <td>64500</td>\n",
              "      <td>65200</td>\n",
              "      <td>25790725</td>\n",
              "      <td>-0.001531</td>\n",
              "      <td>0.998469</td>\n",
              "      <td>0.991985</td>\n",
              "      <td>0.030843</td>\n",
              "      <td>0.071657</td>\n",
              "      <td>...</td>\n",
              "      <td>NaN</td>\n",
              "      <td>40.005978</td>\n",
              "      <td>12.191461</td>\n",
              "      <td>590748603</td>\n",
              "      <td>-661.764706</td>\n",
              "      <td>0.000010</td>\n",
              "      <td>0.000021</td>\n",
              "      <td>0.249969</td>\n",
              "      <td>1</td>\n",
              "      <td>63900</td>\n",
              "    </tr>\n",
              "  </tbody>\n",
              "</table>\n",
              "<p>1234 rows × 38 columns</p>\n",
              "</div>\n",
              "      <button class=\"colab-df-convert\" onclick=\"convertToInteractive('df-e6dadb5c-f8d9-4d86-8091-4bffcc7ed486')\"\n",
              "              title=\"Convert this dataframe to an interactive table.\"\n",
              "              style=\"display:none;\">\n",
              "        \n",
              "  <svg xmlns=\"http://www.w3.org/2000/svg\" height=\"24px\"viewBox=\"0 0 24 24\"\n",
              "       width=\"24px\">\n",
              "    <path d=\"M0 0h24v24H0V0z\" fill=\"none\"/>\n",
              "    <path d=\"M18.56 5.44l.94 2.06.94-2.06 2.06-.94-2.06-.94-.94-2.06-.94 2.06-2.06.94zm-11 1L8.5 8.5l.94-2.06 2.06-.94-2.06-.94L8.5 2.5l-.94 2.06-2.06.94zm10 10l.94 2.06.94-2.06 2.06-.94-2.06-.94-.94-2.06-.94 2.06-2.06.94z\"/><path d=\"M17.41 7.96l-1.37-1.37c-.4-.4-.92-.59-1.43-.59-.52 0-1.04.2-1.43.59L10.3 9.45l-7.72 7.72c-.78.78-.78 2.05 0 2.83L4 21.41c.39.39.9.59 1.41.59.51 0 1.02-.2 1.41-.59l7.78-7.78 2.81-2.81c.8-.78.8-2.07 0-2.86zM5.41 20L4 18.59l7.72-7.72 1.47 1.35L5.41 20z\"/>\n",
              "  </svg>\n",
              "      </button>\n",
              "      \n",
              "  <style>\n",
              "    .colab-df-container {\n",
              "      display:flex;\n",
              "      flex-wrap:wrap;\n",
              "      gap: 12px;\n",
              "    }\n",
              "\n",
              "    .colab-df-convert {\n",
              "      background-color: #E8F0FE;\n",
              "      border: none;\n",
              "      border-radius: 50%;\n",
              "      cursor: pointer;\n",
              "      display: none;\n",
              "      fill: #1967D2;\n",
              "      height: 32px;\n",
              "      padding: 0 0 0 0;\n",
              "      width: 32px;\n",
              "    }\n",
              "\n",
              "    .colab-df-convert:hover {\n",
              "      background-color: #E2EBFA;\n",
              "      box-shadow: 0px 1px 2px rgba(60, 64, 67, 0.3), 0px 1px 3px 1px rgba(60, 64, 67, 0.15);\n",
              "      fill: #174EA6;\n",
              "    }\n",
              "\n",
              "    [theme=dark] .colab-df-convert {\n",
              "      background-color: #3B4455;\n",
              "      fill: #D2E3FC;\n",
              "    }\n",
              "\n",
              "    [theme=dark] .colab-df-convert:hover {\n",
              "      background-color: #434B5C;\n",
              "      box-shadow: 0px 1px 3px 1px rgba(0, 0, 0, 0.15);\n",
              "      filter: drop-shadow(0px 1px 2px rgba(0, 0, 0, 0.3));\n",
              "      fill: #FFFFFF;\n",
              "    }\n",
              "  </style>\n",
              "\n",
              "      <script>\n",
              "        const buttonEl =\n",
              "          document.querySelector('#df-e6dadb5c-f8d9-4d86-8091-4bffcc7ed486 button.colab-df-convert');\n",
              "        buttonEl.style.display =\n",
              "          google.colab.kernel.accessAllowed ? 'block' : 'none';\n",
              "\n",
              "        async function convertToInteractive(key) {\n",
              "          const element = document.querySelector('#df-e6dadb5c-f8d9-4d86-8091-4bffcc7ed486');\n",
              "          const dataTable =\n",
              "            await google.colab.kernel.invokeFunction('convertToInteractive',\n",
              "                                                     [key], {});\n",
              "          if (!dataTable) return;\n",
              "\n",
              "          const docLinkHtml = 'Like what you see? Visit the ' +\n",
              "            '<a target=\"_blank\" href=https://colab.research.google.com/notebooks/data_table.ipynb>data table notebook</a>'\n",
              "            + ' to learn more about interactive tables.';\n",
              "          element.innerHTML = '';\n",
              "          dataTable['output_type'] = 'display_data';\n",
              "          await google.colab.output.renderOutput(dataTable, element);\n",
              "          const docLink = document.createElement('div');\n",
              "          docLink.innerHTML = docLinkHtml;\n",
              "          element.appendChild(docLink);\n",
              "        }\n",
              "      </script>\n",
              "    </div>\n",
              "  </div>\n",
              "  "
            ]
          },
          "metadata": {},
          "execution_count": 58
        }
      ]
    },
    {
      "cell_type": "code",
      "source": [
        "raw_data.shape"
      ],
      "metadata": {
        "colab": {
          "base_uri": "https://localhost:8080/"
        },
        "id": "qPV2j-76lDtN",
        "outputId": "4ed59746-0799-44f2-870e-a21cf68426c3"
      },
      "execution_count": 62,
      "outputs": [
        {
          "output_type": "execute_result",
          "data": {
            "text/plain": [
              "(1234, 38)"
            ]
          },
          "metadata": {},
          "execution_count": 62
        }
      ]
    },
    {
      "cell_type": "markdown",
      "source": [
        "### X, y 설정"
      ],
      "metadata": {
        "id": "rLE8R_vaTyVG"
      }
    },
    {
      "cell_type": "code",
      "source": [
        "raw_X = raw_data.iloc[:, :4] # base 모델로 시, 고, 저, 종가만 추가했음\n",
        "raw_y = raw_data.iloc[:, 37:38] # 다음날 종가 데이터가 들어있음\n",
        "# 과거 데이터로 다음날 종가 데이터를 예측하는 lstm 모델을 만들 것임\n",
        "\n",
        "print(raw_X)\n",
        "print(raw_y)\n",
        "\n",
        "plt.plot(raw_y, label = 'samsung')\n",
        "plt.show()"
      ],
      "metadata": {
        "colab": {
          "base_uri": "https://localhost:8080/",
          "height": 816
        },
        "id": "e6kfu-mPkwY9",
        "outputId": "91963cb1-a57b-46fc-c129-93c0201848da"
      },
      "execution_count": 63,
      "outputs": [
        {
          "output_type": "stream",
          "name": "stdout",
          "text": [
            "             Open   High    Low  Close\n",
            "Date                                  \n",
            "2017-06-01  44860  44900  44400  44680\n",
            "2017-06-02  45060  45960  45000  45960\n",
            "2017-06-05  46040  46360  45720  45940\n",
            "2017-06-07  46500  46500  45240  45300\n",
            "2017-06-08  45000  45580  45000  45160\n",
            "...           ...    ...    ...    ...\n",
            "2022-06-02  66600  67000  66400  66700\n",
            "2022-06-03  67200  67300  66800  66800\n",
            "2022-06-07  66200  66400  65400  65500\n",
            "2022-06-08  65400  65700  65300  65300\n",
            "2022-06-09  65100  65200  64500  65200\n",
            "\n",
            "[1234 rows x 4 columns]\n",
            "            Next_day\n",
            "Date                \n",
            "2017-06-01     45960\n",
            "2017-06-02     45940\n",
            "2017-06-05     45300\n",
            "2017-06-07     45160\n",
            "2017-06-08     46100\n",
            "...              ...\n",
            "2022-06-02     66800\n",
            "2022-06-03     65500\n",
            "2022-06-07     65300\n",
            "2022-06-08     65200\n",
            "2022-06-09     63900\n",
            "\n",
            "[1234 rows x 1 columns]\n"
          ]
        },
        {
          "output_type": "display_data",
          "data": {
            "text/plain": [
              "<Figure size 432x288 with 1 Axes>"
            ],
            "image/png": "[encoded data removed]"
          },
          "metadata": {
            "needs_background": "light"
          }
        }
      ]
    },
    {
      "cell_type": "markdown",
      "source": [
        "### 전처리"
      ],
      "metadata": {
        "id": "_BghYaw8T7rV"
      }
    },
    {
      "cell_type": "code",
      "source": [
        "# X, y 데이터를 0~1 사이 값으로 정규화 \n",
        "# 학습이 잘되기 위해 하는 것이고, 이 값은 추후 inverse로 도로 되돌림\n",
        "sc = MinMaxScaler()\n",
        "sc_X = sc.fit_transform(raw_X)\n",
        "sc_y = sc.fit_transform(raw_y)\n",
        "\n",
        "train_size = int(len(sc_y) * 0.67)\n",
        "test_size = len(sc_y) - train_size\n",
        "\n",
        "# 텐서화? 하기\n",
        "dataX = Variable(torch.Tensor(np.array(sc_X)))\n",
        "dataY = Variable(torch.Tensor(np.array(sc_y)))\n",
        "\n",
        "# train 데이터 2/3으로 자르기\n",
        "trainX = Variable(torch.Tensor(np.array(sc_X[0:train_size])))\n",
        "trainY = Variable(torch.Tensor(np.array(sc_y[0:train_size])))\n",
        "\n",
        "# test 데이터 나머지 1/3으로 자르기\n",
        "testX = Variable(torch.Tensor(np.array(sc_X[train_size:len(sc_X)])))\n",
        "testY = Variable(torch.Tensor(np.array(sc_y[train_size:len(sc_y)])))"
      ],
      "metadata": {
        "id": "tNIz-CWxZfwN"
      },
      "execution_count": 64,
      "outputs": []
    },
    {
      "cell_type": "code",
      "source": [
        "print(trainX.shape)\n",
        "print(testX.shape)\n",
        "print(trainY.shape)\n",
        "print(testY.shape)"
      ],
      "metadata": {
        "colab": {
          "base_uri": "https://localhost:8080/"
        },
        "id": "qr8jbfxTZlh_",
        "outputId": "6ccf48c6-5cb7-47f5-c88a-555db505572e"
      },
      "execution_count": 65,
      "outputs": [
        {
          "output_type": "stream",
          "name": "stdout",
          "text": [
            "torch.Size([826, 4])\n",
            "torch.Size([408, 4])\n",
            "torch.Size([826, 1])\n",
            "torch.Size([408, 1])\n"
          ]
        }
      ]
    },
    {
      "cell_type": "code",
      "source": [
        "# lstm 모델에 적용할 때 shape을 변경해줘야 함 \n",
        "# reshape(a, (b,1,c)) 형태로 모델에 돌리기 위해 2차원으로 바꿔주는 것임\n",
        "\n",
        "trainX_fin = torch.reshape(trainX, (trainX.shape[0], 1, trainX.shape[1]))\n",
        "testX_fin = torch.reshape(testX, (testX.shape[0], 1, testX.shape[1])) \n",
        "\n",
        "dataX_fin = torch.reshape(dataX, (dataX.shape[0], 1, dataX.shape[1]))\n",
        "print(\"Training Shape\", trainX_fin.shape, trainY.shape)\n",
        "print(\"Testing Shape\", testX_fin.shape, testY.shape) \n",
        "print(dataX_fin.shape, dataY.shape)"
      ],
      "metadata": {
        "colab": {
          "base_uri": "https://localhost:8080/"
        },
        "id": "ZEcuqECCFVDG",
        "outputId": "0ce3ef1b-ca7a-47d2-9ecf-8780e4c3bd5b"
      },
      "execution_count": 66,
      "outputs": [
        {
          "output_type": "stream",
          "name": "stdout",
          "text": [
            "Training Shape torch.Size([826, 1, 4]) torch.Size([826, 1])\n",
            "Testing Shape torch.Size([408, 1, 4]) torch.Size([408, 1])\n",
            "torch.Size([1234, 1, 4]) torch.Size([1234, 1])\n"
          ]
        }
      ]
    },
    {
      "cell_type": "markdown",
      "source": [
        "### 모델 정의"
      ],
      "metadata": {
        "id": "OLwSoxOfWkoj"
      }
    },
    {
      "cell_type": "code",
      "source": [
        "# 모델 정의하기\n",
        "\n",
        "class LSTM(nn.Module):\n",
        "    # Long Short Term Memory\n",
        "    def __init__(self, num_classes, input_size, hidden_size, num_layers, seq_length):\n",
        "        super(LSTM, self).__init__()\n",
        "        \n",
        "        self.num_classes = num_classes\n",
        "        self.num_layers = num_layers\n",
        "        self.input_size = input_size\n",
        "        self.hidden_size = hidden_size\n",
        "        self.seq_length = seq_length\n",
        "        \n",
        "        self.lstm = nn.LSTM(input_size=input_size, hidden_size=hidden_size,\n",
        "                            num_layers=num_layers, batch_first=True)\n",
        "        \n",
        "        self.fc = nn.Linear(hidden_size, num_classes)\n",
        "\n",
        "    def forward(self, x):\n",
        "        h_0 = Variable(torch.zeros(\n",
        "            self.num_layers, x.size(0), self.hidden_size))\n",
        "        \n",
        "        c_0 = Variable(torch.zeros(\n",
        "            self.num_layers, x.size(0), self.hidden_size))\n",
        "        \n",
        "        # Propagate input through LSTM\n",
        "        ula, (h_out, _) = self.lstm(x, (h_0, c_0))\n",
        "        \n",
        "        h_out = h_out.view(-1, self.hidden_size)\n",
        "        \n",
        "        out = self.fc(h_out)\n",
        "        \n",
        "        return out\n",
        "\n",
        "# 레이어 추가 예시\n",
        "\n",
        "# # 모델 만들기\n",
        "\n",
        "# class LSTM(nn.Module):\n",
        "#   def __init__(self, num_classes, input_size, hidden_size, num_layers, seq_length):\n",
        "#     super(LSTM, self).__init__()\n",
        "#     self.num_classes = num_classes #number of classes\n",
        "#     self.num_layers = num_layers #number of layers\n",
        "#     self.input_size = input_size #input size\n",
        "#     self.hidden_size = hidden_size #hidden state\n",
        "#     self.seq_length = seq_length #sequence length\n",
        " \n",
        "#     self.lstm = nn.LSTM(input_size=input_size, hidden_size=hidden_size,\n",
        "#                       num_layers=num_layers, batch_first=True) #lstm\n",
        "#     self.fc_1 =  nn.Linear(hidden_size, 128) #fully connected 1\n",
        "#     self.fc = nn.Linear(128, num_classes) #fully connected last layer\n",
        "\n",
        "#     self.relu = nn.ReLU() \n",
        "\n",
        "#   def forward(self,x):\n",
        "#     h_0 = Variable(torch.zeros(self.num_layers, x.size(0), self.hidden_size)) #hidden state\n",
        "#     c_0 = Variable(torch.zeros(self.num_layers, x.size(0), self.hidden_size)) #internal state   \n",
        "#     # Propagate input through LSTM\n",
        "\n",
        "#     output, (hn, cn) = self.lstm(x, (h_0, c_0)) #lstm with input, hidden, and internal state\n",
        "   \n",
        "#     hn = hn.view(-1, self.hidden_size) #reshaping the data for Dense layer next\n",
        "#     out = self.relu(hn)\n",
        "#     out = self.fc_1(out) #first Dense\n",
        "#     out = self.relu(out) #relu\n",
        "#     out = self.fc(out) #Final Output\n",
        "   \n",
        "#     return out \n",
        "\n",
        "\n",
        "# print()"
      ],
      "metadata": {
        "id": "G-Mul-XcZ3GV"
      },
      "execution_count": 67,
      "outputs": []
    },
    {
      "cell_type": "code",
      "source": [
        "num_epochs = 2000\n",
        "learning_rate = 0.01\n",
        "\n",
        "input_size = 4 # 컬럼 개수\n",
        "hidden_size = 2\n",
        "num_layers = 1\n",
        "\n",
        "num_classes = 1\n",
        "\n",
        "lstm = LSTM(num_classes, input_size, hidden_size, num_layers, trainX_fin.shape[1])\n",
        "\n",
        "loss_function = torch.nn.MSELoss()    # mean-squared error for regression\n",
        "optimizer = torch.optim.Adam(lstm.parameters(), lr=learning_rate)\n",
        "#optimizer = torch.optim.SGD(lstm.parameters(), lr=learning_rate)\n",
        "\n",
        "# Train the model\n",
        "for epoch in range(num_epochs):\n",
        "    outputs = lstm.forward(trainX_fin)\n",
        "    optimizer.zero_grad()\n",
        "    \n",
        "    # obtain the loss function\n",
        "    loss = loss_function(outputs, trainY)\n",
        "    \n",
        "    loss.backward()\n",
        "    \n",
        "    optimizer.step()\n",
        "    if epoch % 100 == 0:\n",
        "      print(\"Epoch: %d, loss: %1.5f\" % (epoch, loss.item()))"
      ],
      "metadata": {
        "colab": {
          "base_uri": "https://localhost:8080/"
        },
        "id": "-bOmhg-lZ7i3",
        "outputId": "b1c615bb-fcbe-4759-d200-77c761461059"
      },
      "execution_count": 68,
      "outputs": [
        {
          "output_type": "stream",
          "name": "stdout",
          "text": [
            "Epoch: 0, loss: 0.15522\n",
            "Epoch: 100, loss: 0.00579\n",
            "Epoch: 200, loss: 0.00294\n",
            "Epoch: 300, loss: 0.00095\n",
            "Epoch: 400, loss: 0.00054\n",
            "Epoch: 500, loss: 0.00050\n",
            "Epoch: 600, loss: 0.00046\n",
            "Epoch: 700, loss: 0.00043\n",
            "Epoch: 800, loss: 0.00040\n",
            "Epoch: 900, loss: 0.00036\n",
            "Epoch: 1000, loss: 0.00034\n",
            "Epoch: 1100, loss: 0.00031\n",
            "Epoch: 1200, loss: 0.00029\n",
            "Epoch: 1300, loss: 0.00028\n",
            "Epoch: 1400, loss: 0.00027\n",
            "Epoch: 1500, loss: 0.00027\n",
            "Epoch: 1600, loss: 0.00026\n",
            "Epoch: 1700, loss: 0.00026\n",
            "Epoch: 1800, loss: 0.00026\n",
            "Epoch: 1900, loss: 0.00026\n"
          ]
        }
      ]
    },
    {
      "cell_type": "markdown",
      "source": [
        "### 모델 평가"
      ],
      "metadata": {
        "id": "5-6FTVL3WqkK"
      }
    },
    {
      "cell_type": "code",
      "source": [
        "# 모델 평가하기\n",
        "lstm.eval()\n",
        "\n",
        "# 학습시킨 모델에 전체 데이터를 적용시켜 Y를 추출한 것\n",
        "# 전체 데이터의 2/3인 train 데이터까지는 모델 학습에서 사용했던 데이터이고\n",
        "# 1/3인 test 데이터는 모델이 예측한 값\n",
        "train_predict = lstm(dataX_fin)\n",
        "\n",
        "# 전체 데이터 예측 값(Y)을 numpy array로 변경\n",
        "data_predict = train_predict.data.numpy()\n",
        "\n",
        "# 실제 Y데이터 값을 numpy array로 변경\n",
        "dataY_plot = dataY.data.numpy()\n",
        "\n",
        "# 위에서 모델에 적용하려고 0~1 사이로 정규화했던 값을 다시 inverse\n",
        "data_predict = sc.inverse_transform(data_predict)\n",
        "dataY_plot = sc.inverse_transform(dataY_plot)\n",
        "\n",
        "# 학습에 사용됐던 데이터와 예측한 값의 경계를 선으로 표현\n",
        "plt.axvline(x=train_size, c='r', linestyle='--')\n",
        "\n",
        "plt.plot(dataY_plot)\n",
        "plt.plot(data_predict)\n",
        "plt.suptitle('Time-Series Prediction_LSTM')\n",
        "plt.show()"
      ],
      "metadata": {
        "colab": {
          "base_uri": "https://localhost:8080/",
          "height": 294
        },
        "id": "D3xBV3bxZ93E",
        "outputId": "5942232f-895d-42cf-aad1-09419cd6c20f"
      },
      "execution_count": 69,
      "outputs": [
        {
          "output_type": "display_data",
          "data": {
            "text/plain": [
              "<Figure size 432x288 with 1 Axes>"
            ],
            "image/png": "[encoded data removed]"
          },
          "metadata": {
            "needs_background": "light"
          }
        }
      ]
    },
    {
      "cell_type": "markdown",
      "source": [
        "### 평가지표 구하기"
      ],
      "metadata": {
        "id": "zagX3bvicidi"
      }
    },
    {
      "cell_type": "code",
      "source": [
        "from sklearn.metrics import mean_squared_error"
      ],
      "metadata": {
        "id": "IjWDctfARr2s"
      },
      "execution_count": 70,
      "outputs": []
    },
    {
      "cell_type": "code",
      "source": [
        "# 예측값: data_predict\n",
        "# 실제값: dataY_plot\n",
        "\n",
        "data_predict_fin = list(data_predict.flatten())\n",
        "dataY_plot_fin = list(dataY_plot.flatten())"
      ],
      "metadata": {
        "id": "ATJCBRkwcwdg"
      },
      "execution_count": 71,
      "outputs": []
    },
    {
      "cell_type": "code",
      "source": [
        "score_table = pd.DataFrame({'True': dataY_plot_fin,\n",
        "                            'Pred': data_predict_fin})"
      ],
      "metadata": {
        "id": "LI0KlnjBIQCP"
      },
      "execution_count": 72,
      "outputs": []
    },
    {
      "cell_type": "code",
      "source": [
        "score_table"
      ],
      "metadata": {
        "colab": {
          "base_uri": "https://localhost:8080/",
          "height": 424
        },
        "id": "xwh2aUEEdu8X",
        "outputId": "e245eebd-3195-4b0a-e5c6-fc367f267000"
      },
      "execution_count": 73,
      "outputs": [
        {
          "output_type": "execute_result",
          "data": {
            "text/plain": [
              "              True          Pred\n",
              "0     45960.000000  44664.539062\n",
              "1     45940.000000  45882.253906\n",
              "2     45300.000000  45867.558594\n",
              "3     45160.000000  45411.335938\n",
              "4     46100.000000  45064.289062\n",
              "...            ...           ...\n",
              "1229  66800.000000  65518.042969\n",
              "1230  65500.003906  65610.875000\n",
              "1231  65300.003906  64646.871094\n",
              "1232  65200.003906  64375.285156\n",
              "1233  63900.003906  64370.988281\n",
              "\n",
              "[1234 rows x 2 columns]"
            ],
            "text/html": [
              "\n",
              "  <div id=\"df-affcc2ba-3581-40d0-8c6b-d626e0d47b8c\">\n",
              "    <div class=\"colab-df-container\">\n",
              "      <div>\n",
              "<style scoped>\n",
              "    .dataframe tbody tr th:only-of-type {\n",
              "        vertical-align: middle;\n",
              "    }\n",
              "\n",
              "    .dataframe tbody tr th {\n",
              "        vertical-align: top;\n",
              "    }\n",
              "\n",
              "    .dataframe thead th {\n",
              "        text-align: right;\n",
              "    }\n",
              "</style>\n",
              "<table border=\"1\" class=\"dataframe\">\n",
              "  <thead>\n",
              "    <tr style=\"text-align: right;\">\n",
              "      <th></th>\n",
              "      <th>True</th>\n",
              "      <th>Pred</th>\n",
              "    </tr>\n",
              "  </thead>\n",
              "  <tbody>\n",
              "    <tr>\n",
              "      <th>0</th>\n",
              "      <td>45960.000000</td>\n",
              "      <td>44664.539062</td>\n",
              "    </tr>\n",
              "    <tr>\n",
              "      <th>1</th>\n",
              "      <td>45940.000000</td>\n",
              "      <td>45882.253906</td>\n",
              "    </tr>\n",
              "    <tr>\n",
              "      <th>2</th>\n",
              "      <td>45300.000000</td>\n",
              "      <td>45867.558594</td>\n",
              "    </tr>\n",
              "    <tr>\n",
              "      <th>3</th>\n",
              "      <td>45160.000000</td>\n",
              "      <td>45411.335938</td>\n",
              "    </tr>\n",
              "    <tr>\n",
              "      <th>4</th>\n",
              "      <td>46100.000000</td>\n",
              "      <td>45064.289062</td>\n",
              "    </tr>\n",
              "    <tr>\n",
              "      <th>...</th>\n",
              "      <td>...</td>\n",
              "      <td>...</td>\n",
              "    </tr>\n",
              "    <tr>\n",
              "      <th>1229</th>\n",
              "      <td>66800.000000</td>\n",
              "      <td>65518.042969</td>\n",
              "    </tr>\n",
              "    <tr>\n",
              "      <th>1230</th>\n",
              "      <td>65500.003906</td>\n",
              "      <td>65610.875000</td>\n",
              "    </tr>\n",
              "    <tr>\n",
              "      <th>1231</th>\n",
              "      <td>65300.003906</td>\n",
              "      <td>64646.871094</td>\n",
              "    </tr>\n",
              "    <tr>\n",
              "      <th>1232</th>\n",
              "      <td>65200.003906</td>\n",
              "      <td>64375.285156</td>\n",
              "    </tr>\n",
              "    <tr>\n",
              "      <th>1233</th>\n",
              "      <td>63900.003906</td>\n",
              "      <td>64370.988281</td>\n",
              "    </tr>\n",
              "  </tbody>\n",
              "</table>\n",
              "<p>1234 rows × 2 columns</p>\n",
              "</div>\n",
              "      <button class=\"colab-df-convert\" onclick=\"convertToInteractive('df-affcc2ba-3581-40d0-8c6b-d626e0d47b8c')\"\n",
              "              title=\"Convert this dataframe to an interactive table.\"\n",
              "              style=\"display:none;\">\n",
              "        \n",
              "  <svg xmlns=\"http://www.w3.org/2000/svg\" height=\"24px\"viewBox=\"0 0 24 24\"\n",
              "       width=\"24px\">\n",
              "    <path d=\"M0 0h24v24H0V0z\" fill=\"none\"/>\n",
              "    <path d=\"M18.56 5.44l.94 2.06.94-2.06 2.06-.94-2.06-.94-.94-2.06-.94 2.06-2.06.94zm-11 1L8.5 8.5l.94-2.06 2.06-.94-2.06-.94L8.5 2.5l-.94 2.06-2.06.94zm10 10l.94 2.06.94-2.06 2.06-.94-2.06-.94-.94-2.06-.94 2.06-2.06.94z\"/><path d=\"M17.41 7.96l-1.37-1.37c-.4-.4-.92-.59-1.43-.59-.52 0-1.04.2-1.43.59L10.3 9.45l-7.72 7.72c-.78.78-.78 2.05 0 2.83L4 21.41c.39.39.9.59 1.41.59.51 0 1.02-.2 1.41-.59l7.78-7.78 2.81-2.81c.8-.78.8-2.07 0-2.86zM5.41 20L4 18.59l7.72-7.72 1.47 1.35L5.41 20z\"/>\n",
              "  </svg>\n",
              "      </button>\n",
              "      \n",
              "  <style>\n",
              "    .colab-df-container {\n",
              "      display:flex;\n",
              "      flex-wrap:wrap;\n",
              "      gap: 12px;\n",
              "    }\n",
              "\n",
              "    .colab-df-convert {\n",
              "      background-color: #E8F0FE;\n",
              "      border: none;\n",
              "      border-radius: 50%;\n",
              "      cursor: pointer;\n",
              "      display: none;\n",
              "      fill: #1967D2;\n",
              "      height: 32px;\n",
              "      padding: 0 0 0 0;\n",
              "      width: 32px;\n",
              "    }\n",
              "\n",
              "    .colab-df-convert:hover {\n",
              "      background-color: #E2EBFA;\n",
              "      box-shadow: 0px 1px 2px rgba(60, 64, 67, 0.3), 0px 1px 3px 1px rgba(60, 64, 67, 0.15);\n",
              "      fill: #174EA6;\n",
              "    }\n",
              "\n",
              "    [theme=dark] .colab-df-convert {\n",
              "      background-color: #3B4455;\n",
              "      fill: #D2E3FC;\n",
              "    }\n",
              "\n",
              "    [theme=dark] .colab-df-convert:hover {\n",
              "      background-color: #434B5C;\n",
              "      box-shadow: 0px 1px 3px 1px rgba(0, 0, 0, 0.15);\n",
              "      filter: drop-shadow(0px 1px 2px rgba(0, 0, 0, 0.3));\n",
              "      fill: #FFFFFF;\n",
              "    }\n",
              "  </style>\n",
              "\n",
              "      <script>\n",
              "        const buttonEl =\n",
              "          document.querySelector('#df-affcc2ba-3581-40d0-8c6b-d626e0d47b8c button.colab-df-convert');\n",
              "        buttonEl.style.display =\n",
              "          google.colab.kernel.accessAllowed ? 'block' : 'none';\n",
              "\n",
              "        async function convertToInteractive(key) {\n",
              "          const element = document.querySelector('#df-affcc2ba-3581-40d0-8c6b-d626e0d47b8c');\n",
              "          const dataTable =\n",
              "            await google.colab.kernel.invokeFunction('convertToInteractive',\n",
              "                                                     [key], {});\n",
              "          if (!dataTable) return;\n",
              "\n",
              "          const docLinkHtml = 'Like what you see? Visit the ' +\n",
              "            '<a target=\"_blank\" href=https://colab.research.google.com/notebooks/data_table.ipynb>data table notebook</a>'\n",
              "            + ' to learn more about interactive tables.';\n",
              "          element.innerHTML = '';\n",
              "          dataTable['output_type'] = 'display_data';\n",
              "          await google.colab.output.renderOutput(dataTable, element);\n",
              "          const docLink = document.createElement('div');\n",
              "          docLink.innerHTML = docLinkHtml;\n",
              "          element.appendChild(docLink);\n",
              "        }\n",
              "      </script>\n",
              "    </div>\n",
              "  </div>\n",
              "  "
            ]
          },
          "metadata": {},
          "execution_count": 73
        }
      ]
    },
    {
      "cell_type": "code",
      "source": [
        "# validation score\n",
        "MSE = mean_squared_error(score_table['True'], score_table['Pred'])\n",
        "RMSE = np.sqrt(MSE)\n",
        "\n",
        "score = 100*(1-(((score_table['Pred']-score_table['True'])**2).sum())/((score_table['True']**2).sum()))"
      ],
      "metadata": {
        "id": "eJ5qSnqhdyPJ"
      },
      "execution_count": 74,
      "outputs": []
    },
    {
      "cell_type": "code",
      "source": [
        "print(\"MSE : {0}, RMSE : {1}, SCORE : {2}\".format(MSE, RMSE, score))"
      ],
      "metadata": {
        "colab": {
          "base_uri": "https://localhost:8080/"
        },
        "id": "MX2XBGTYd05t",
        "outputId": "cebdcc6f-53d1-4b93-c5a4-ffd3e2828088"
      },
      "execution_count": 75,
      "outputs": [
        {
          "output_type": "stream",
          "name": "stdout",
          "text": [
            "MSE : 9234411.0, RMSE : 3038.8173828125, SCORE : 99.73809854127467\n"
          ]
        }
      ]
    },
    {
      "cell_type": "code",
      "source": [
        ""
      ],
      "metadata": {
        "id": "OXJnvCd3pqxO"
      },
      "execution_count": null,
      "outputs": []
    },
    {
      "cell_type": "code",
      "source": [
        ""
      ],
      "metadata": {
        "id": "TM6h7l52d10y"
      },
      "execution_count": 43,
      "outputs": []
    },
    {
      "cell_type": "markdown",
      "source": [
        "## 컬럼 추가 버전"
      ],
      "metadata": {
        "id": "vdeLgRYFllfH"
      }
    },
    {
      "cell_type": "code",
      "source": [
        "raw_data = raw_data.fillna(0)\n",
        "raw_data"
      ],
      "metadata": {
        "colab": {
          "base_uri": "https://localhost:8080/",
          "height": 710
        },
        "id": "oX330jZ9lkz2",
        "outputId": "1dab654e-8dd6-49ee-9143-eea7d6264c99"
      },
      "execution_count": 90,
      "outputs": [
        {
          "output_type": "execute_result",
          "data": {
            "text/plain": [
              "             Open   High    Low  Close    Volume    Change        Rn  \\\n",
              "Date                                                                   \n",
              "2017-06-01  44860  44900  44400  44680    195070 -0.000447  0.000000   \n",
              "2017-06-02  45060  45960  45000  45960    249775  0.028648  1.028648   \n",
              "2017-06-05  46040  46360  45720  45940    151988 -0.000435  0.999565   \n",
              "2017-06-07  46500  46500  45240  45300    274588 -0.013931  0.986069   \n",
              "2017-06-08  45000  45580  45000  45160    279575 -0.003091  0.996909   \n",
              "...           ...    ...    ...    ...       ...       ...       ...   \n",
              "2022-06-02  66600  67000  66400  66700  14959443 -0.010386  0.989614   \n",
              "2022-06-03  67200  67300  66800  66800   8222883  0.001499  1.001499   \n",
              "2022-06-07  66200  66400  65400  65500  19355755 -0.019461  0.980539   \n",
              "2022-06-08  65400  65700  65300  65300  12483180 -0.003053  0.996947   \n",
              "2022-06-09  65100  65200  64500  65200  25790725 -0.001531  0.998469   \n",
              "\n",
              "                 MRn  Volatility10  Volatility30  ...  PSAR-up        RSI  \\\n",
              "Date                                              ...                       \n",
              "2017-06-01  0.000000      0.000000      0.000000  ...      0.0   0.000000   \n",
              "2017-06-02  0.000000      0.000000      0.000000  ...      0.0   0.000000   \n",
              "2017-06-05  0.000000      0.000000      0.000000  ...      0.0   0.000000   \n",
              "2017-06-07  1.004761      0.000000      0.000000  ...  45720.0   0.000000   \n",
              "2017-06-08  0.994181      0.000000      0.000000  ...      0.0   0.000000   \n",
              "...              ...           ...           ...  ...      ...        ...   \n",
              "2022-06-02  1.001076      0.033406      0.070579  ...      0.0  47.724304   \n",
              "2022-06-03  0.995561      0.032744      0.070580  ...      0.0  48.344501   \n",
              "2022-06-07  0.990551      0.035700      0.072899  ...      0.0  41.458445   \n",
              "2022-06-08  0.992995      0.035631      0.072318  ...      0.0  40.502621   \n",
              "2022-06-09  0.991985      0.030843      0.071657  ...      0.0  40.005978   \n",
              "\n",
              "                  ADX        OBV  OSCILLATOR  negative   neutral  positive  \\\n",
              "Date                                                                         \n",
              "2017-06-01   0.000000     195070    0.000000  0.003329  0.071755  0.924916   \n",
              "2017-06-02   0.000000     444845    0.000000  0.011197  0.002902  0.985901   \n",
              "2017-06-05   0.000000     292857    0.000000  0.005667  0.001626  0.992706   \n",
              "2017-06-07   0.000000      18269    0.000000  0.000138  0.000351  0.999511   \n",
              "2017-06-08   0.000000    -261306    0.000000  0.000037  0.000082  0.999881   \n",
              "...               ...        ...         ...       ...       ...       ...   \n",
              "2022-06-02  10.877366  640155380  -22.352941  0.000585  0.499241  0.500174   \n",
              "2022-06-03  10.158162  648378263  148.529412  0.001084  0.998356  0.000561   \n",
              "2022-06-07  10.635226  629022508   47.941176  0.000039  0.000086  0.999876   \n",
              "2022-06-08  11.151145  616539328 -289.705882  0.000019  0.000043  0.499938   \n",
              "2022-06-09  12.191461  590748603 -661.764706  0.000010  0.000021  0.249969   \n",
              "\n",
              "            sentiment  Next_day  \n",
              "Date                             \n",
              "2017-06-01          1     45960  \n",
              "2017-06-02          1     45940  \n",
              "2017-06-05          1     45300  \n",
              "2017-06-07          1     45160  \n",
              "2017-06-08          1     46100  \n",
              "...               ...       ...  \n",
              "2022-06-02          1     66800  \n",
              "2022-06-03          0     65500  \n",
              "2022-06-07          1     65300  \n",
              "2022-06-08          1     65200  \n",
              "2022-06-09          1     63900  \n",
              "\n",
              "[1234 rows x 38 columns]"
            ],
            "text/html": [
              "\n",
              "  <div id=\"df-fd82e9ba-d278-4a12-bea1-4e09795ab41a\">\n",
              "    <div class=\"colab-df-container\">\n",
              "      <div>\n",
              "<style scoped>\n",
              "    .dataframe tbody tr th:only-of-type {\n",
              "        vertical-align: middle;\n",
              "    }\n",
              "\n",
              "    .dataframe tbody tr th {\n",
              "        vertical-align: top;\n",
              "    }\n",
              "\n",
              "    .dataframe thead th {\n",
              "        text-align: right;\n",
              "    }\n",
              "</style>\n",
              "<table border=\"1\" class=\"dataframe\">\n",
              "  <thead>\n",
              "    <tr style=\"text-align: right;\">\n",
              "      <th></th>\n",
              "      <th>Open</th>\n",
              "      <th>High</th>\n",
              "      <th>Low</th>\n",
              "      <th>Close</th>\n",
              "      <th>Volume</th>\n",
              "      <th>Change</th>\n",
              "      <th>Rn</th>\n",
              "      <th>MRn</th>\n",
              "      <th>Volatility10</th>\n",
              "      <th>Volatility30</th>\n",
              "      <th>...</th>\n",
              "      <th>PSAR-up</th>\n",
              "      <th>RSI</th>\n",
              "      <th>ADX</th>\n",
              "      <th>OBV</th>\n",
              "      <th>OSCILLATOR</th>\n",
              "      <th>negative</th>\n",
              "      <th>neutral</th>\n",
              "      <th>positive</th>\n",
              "      <th>sentiment</th>\n",
              "      <th>Next_day</th>\n",
              "    </tr>\n",
              "    <tr>\n",
              "      <th>Date</th>\n",
              "      <th></th>\n",
              "      <th></th>\n",
              "      <th></th>\n",
              "      <th></th>\n",
              "      <th></th>\n",
              "      <th></th>\n",
              "      <th></th>\n",
              "      <th></th>\n",
              "      <th></th>\n",
              "      <th></th>\n",
              "      <th></th>\n",
              "      <th></th>\n",
              "      <th></th>\n",
              "      <th></th>\n",
              "      <th></th>\n",
              "      <th></th>\n",
              "      <th></th>\n",
              "      <th></th>\n",
              "      <th></th>\n",
              "      <th></th>\n",
              "      <th></th>\n",
              "    </tr>\n",
              "  </thead>\n",
              "  <tbody>\n",
              "    <tr>\n",
              "      <th>2017-06-01</th>\n",
              "      <td>44860</td>\n",
              "      <td>44900</td>\n",
              "      <td>44400</td>\n",
              "      <td>44680</td>\n",
              "      <td>195070</td>\n",
              "      <td>-0.000447</td>\n",
              "      <td>0.000000</td>\n",
              "      <td>0.000000</td>\n",
              "      <td>0.000000</td>\n",
              "      <td>0.000000</td>\n",
              "      <td>...</td>\n",
              "      <td>0.0</td>\n",
              "      <td>0.000000</td>\n",
              "      <td>0.000000</td>\n",
              "      <td>195070</td>\n",
              "      <td>0.000000</td>\n",
              "      <td>0.003329</td>\n",
              "      <td>0.071755</td>\n",
              "      <td>0.924916</td>\n",
              "      <td>1</td>\n",
              "      <td>45960</td>\n",
              "    </tr>\n",
              "    <tr>\n",
              "      <th>2017-06-02</th>\n",
              "      <td>45060</td>\n",
              "      <td>45960</td>\n",
              "      <td>45000</td>\n",
              "      <td>45960</td>\n",
              "      <td>249775</td>\n",
              "      <td>0.028648</td>\n",
              "      <td>1.028648</td>\n",
              "      <td>0.000000</td>\n",
              "      <td>0.000000</td>\n",
              "      <td>0.000000</td>\n",
              "      <td>...</td>\n",
              "      <td>0.0</td>\n",
              "      <td>0.000000</td>\n",
              "      <td>0.000000</td>\n",
              "      <td>444845</td>\n",
              "      <td>0.000000</td>\n",
              "      <td>0.011197</td>\n",
              "      <td>0.002902</td>\n",
              "      <td>0.985901</td>\n",
              "      <td>1</td>\n",
              "      <td>45940</td>\n",
              "    </tr>\n",
              "    <tr>\n",
              "      <th>2017-06-05</th>\n",
              "      <td>46040</td>\n",
              "      <td>46360</td>\n",
              "      <td>45720</td>\n",
              "      <td>45940</td>\n",
              "      <td>151988</td>\n",
              "      <td>-0.000435</td>\n",
              "      <td>0.999565</td>\n",
              "      <td>0.000000</td>\n",
              "      <td>0.000000</td>\n",
              "      <td>0.000000</td>\n",
              "      <td>...</td>\n",
              "      <td>0.0</td>\n",
              "      <td>0.000000</td>\n",
              "      <td>0.000000</td>\n",
              "      <td>292857</td>\n",
              "      <td>0.000000</td>\n",
              "      <td>0.005667</td>\n",
              "      <td>0.001626</td>\n",
              "      <td>0.992706</td>\n",
              "      <td>1</td>\n",
              "      <td>45300</td>\n",
              "    </tr>\n",
              "    <tr>\n",
              "      <th>2017-06-07</th>\n",
              "      <td>46500</td>\n",
              "      <td>46500</td>\n",
              "      <td>45240</td>\n",
              "      <td>45300</td>\n",
              "      <td>274588</td>\n",
              "      <td>-0.013931</td>\n",
              "      <td>0.986069</td>\n",
              "      <td>1.004761</td>\n",
              "      <td>0.000000</td>\n",
              "      <td>0.000000</td>\n",
              "      <td>...</td>\n",
              "      <td>45720.0</td>\n",
              "      <td>0.000000</td>\n",
              "      <td>0.000000</td>\n",
              "      <td>18269</td>\n",
              "      <td>0.000000</td>\n",
              "      <td>0.000138</td>\n",
              "      <td>0.000351</td>\n",
              "      <td>0.999511</td>\n",
              "      <td>1</td>\n",
              "      <td>45160</td>\n",
              "    </tr>\n",
              "    <tr>\n",
              "      <th>2017-06-08</th>\n",
              "      <td>45000</td>\n",
              "      <td>45580</td>\n",
              "      <td>45000</td>\n",
              "      <td>45160</td>\n",
              "      <td>279575</td>\n",
              "      <td>-0.003091</td>\n",
              "      <td>0.996909</td>\n",
              "      <td>0.994181</td>\n",
              "      <td>0.000000</td>\n",
              "      <td>0.000000</td>\n",
              "      <td>...</td>\n",
              "      <td>0.0</td>\n",
              "      <td>0.000000</td>\n",
              "      <td>0.000000</td>\n",
              "      <td>-261306</td>\n",
              "      <td>0.000000</td>\n",
              "      <td>0.000037</td>\n",
              "      <td>0.000082</td>\n",
              "      <td>0.999881</td>\n",
              "      <td>1</td>\n",
              "      <td>46100</td>\n",
              "    </tr>\n",
              "    <tr>\n",
              "      <th>...</th>\n",
              "      <td>...</td>\n",
              "      <td>...</td>\n",
              "      <td>...</td>\n",
              "      <td>...</td>\n",
              "      <td>...</td>\n",
              "      <td>...</td>\n",
              "      <td>...</td>\n",
              "      <td>...</td>\n",
              "      <td>...</td>\n",
              "      <td>...</td>\n",
              "      <td>...</td>\n",
              "      <td>...</td>\n",
              "      <td>...</td>\n",
              "      <td>...</td>\n",
              "      <td>...</td>\n",
              "      <td>...</td>\n",
              "      <td>...</td>\n",
              "      <td>...</td>\n",
              "      <td>...</td>\n",
              "      <td>...</td>\n",
              "      <td>...</td>\n",
              "    </tr>\n",
              "    <tr>\n",
              "      <th>2022-06-02</th>\n",
              "      <td>66600</td>\n",
              "      <td>67000</td>\n",
              "      <td>66400</td>\n",
              "      <td>66700</td>\n",
              "      <td>14959443</td>\n",
              "      <td>-0.010386</td>\n",
              "      <td>0.989614</td>\n",
              "      <td>1.001076</td>\n",
              "      <td>0.033406</td>\n",
              "      <td>0.070579</td>\n",
              "      <td>...</td>\n",
              "      <td>0.0</td>\n",
              "      <td>47.724304</td>\n",
              "      <td>10.877366</td>\n",
              "      <td>640155380</td>\n",
              "      <td>-22.352941</td>\n",
              "      <td>0.000585</td>\n",
              "      <td>0.499241</td>\n",
              "      <td>0.500174</td>\n",
              "      <td>1</td>\n",
              "      <td>66800</td>\n",
              "    </tr>\n",
              "    <tr>\n",
              "      <th>2022-06-03</th>\n",
              "      <td>67200</td>\n",
              "      <td>67300</td>\n",
              "      <td>66800</td>\n",
              "      <td>66800</td>\n",
              "      <td>8222883</td>\n",
              "      <td>0.001499</td>\n",
              "      <td>1.001499</td>\n",
              "      <td>0.995561</td>\n",
              "      <td>0.032744</td>\n",
              "      <td>0.070580</td>\n",
              "      <td>...</td>\n",
              "      <td>0.0</td>\n",
              "      <td>48.344501</td>\n",
              "      <td>10.158162</td>\n",
              "      <td>648378263</td>\n",
              "      <td>148.529412</td>\n",
              "      <td>0.001084</td>\n",
              "      <td>0.998356</td>\n",
              "      <td>0.000561</td>\n",
              "      <td>0</td>\n",
              "      <td>65500</td>\n",
              "    </tr>\n",
              "    <tr>\n",
              "      <th>2022-06-07</th>\n",
              "      <td>66200</td>\n",
              "      <td>66400</td>\n",
              "      <td>65400</td>\n",
              "      <td>65500</td>\n",
              "      <td>19355755</td>\n",
              "      <td>-0.019461</td>\n",
              "      <td>0.980539</td>\n",
              "      <td>0.990551</td>\n",
              "      <td>0.035700</td>\n",
              "      <td>0.072899</td>\n",
              "      <td>...</td>\n",
              "      <td>0.0</td>\n",
              "      <td>41.458445</td>\n",
              "      <td>10.635226</td>\n",
              "      <td>629022508</td>\n",
              "      <td>47.941176</td>\n",
              "      <td>0.000039</td>\n",
              "      <td>0.000086</td>\n",
              "      <td>0.999876</td>\n",
              "      <td>1</td>\n",
              "      <td>65300</td>\n",
              "    </tr>\n",
              "    <tr>\n",
              "      <th>2022-06-08</th>\n",
              "      <td>65400</td>\n",
              "      <td>65700</td>\n",
              "      <td>65300</td>\n",
              "      <td>65300</td>\n",
              "      <td>12483180</td>\n",
              "      <td>-0.003053</td>\n",
              "      <td>0.996947</td>\n",
              "      <td>0.992995</td>\n",
              "      <td>0.035631</td>\n",
              "      <td>0.072318</td>\n",
              "      <td>...</td>\n",
              "      <td>0.0</td>\n",
              "      <td>40.502621</td>\n",
              "      <td>11.151145</td>\n",
              "      <td>616539328</td>\n",
              "      <td>-289.705882</td>\n",
              "      <td>0.000019</td>\n",
              "      <td>0.000043</td>\n",
              "      <td>0.499938</td>\n",
              "      <td>1</td>\n",
              "      <td>65200</td>\n",
              "    </tr>\n",
              "    <tr>\n",
              "      <th>2022-06-09</th>\n",
              "      <td>65100</td>\n",
              "      <td>65200</td>\n",
              "      <td>64500</td>\n",
              "      <td>65200</td>\n",
              "      <td>25790725</td>\n",
              "      <td>-0.001531</td>\n",
              "      <td>0.998469</td>\n",
              "      <td>0.991985</td>\n",
              "      <td>0.030843</td>\n",
              "      <td>0.071657</td>\n",
              "      <td>...</td>\n",
              "      <td>0.0</td>\n",
              "      <td>40.005978</td>\n",
              "      <td>12.191461</td>\n",
              "      <td>590748603</td>\n",
              "      <td>-661.764706</td>\n",
              "      <td>0.000010</td>\n",
              "      <td>0.000021</td>\n",
              "      <td>0.249969</td>\n",
              "      <td>1</td>\n",
              "      <td>63900</td>\n",
              "    </tr>\n",
              "  </tbody>\n",
              "</table>\n",
              "<p>1234 rows × 38 columns</p>\n",
              "</div>\n",
              "      <button class=\"colab-df-convert\" onclick=\"convertToInteractive('df-fd82e9ba-d278-4a12-bea1-4e09795ab41a')\"\n",
              "              title=\"Convert this dataframe to an interactive table.\"\n",
              "              style=\"display:none;\">\n",
              "        \n",
              "  <svg xmlns=\"http://www.w3.org/2000/svg\" height=\"24px\"viewBox=\"0 0 24 24\"\n",
              "       width=\"24px\">\n",
              "    <path d=\"M0 0h24v24H0V0z\" fill=\"none\"/>\n",
              "    <path d=\"M18.56 5.44l.94 2.06.94-2.06 2.06-.94-2.06-.94-.94-2.06-.94 2.06-2.06.94zm-11 1L8.5 8.5l.94-2.06 2.06-.94-2.06-.94L8.5 2.5l-.94 2.06-2.06.94zm10 10l.94 2.06.94-2.06 2.06-.94-2.06-.94-.94-2.06-.94 2.06-2.06.94z\"/><path d=\"M17.41 7.96l-1.37-1.37c-.4-.4-.92-.59-1.43-.59-.52 0-1.04.2-1.43.59L10.3 9.45l-7.72 7.72c-.78.78-.78 2.05 0 2.83L4 21.41c.39.39.9.59 1.41.59.51 0 1.02-.2 1.41-.59l7.78-7.78 2.81-2.81c.8-.78.8-2.07 0-2.86zM5.41 20L4 18.59l7.72-7.72 1.47 1.35L5.41 20z\"/>\n",
              "  </svg>\n",
              "      </button>\n",
              "      \n",
              "  <style>\n",
              "    .colab-df-container {\n",
              "      display:flex;\n",
              "      flex-wrap:wrap;\n",
              "      gap: 12px;\n",
              "    }\n",
              "\n",
              "    .colab-df-convert {\n",
              "      background-color: #E8F0FE;\n",
              "      border: none;\n",
              "      border-radius: 50%;\n",
              "      cursor: pointer;\n",
              "      display: none;\n",
              "      fill: #1967D2;\n",
              "      height: 32px;\n",
              "      padding: 0 0 0 0;\n",
              "      width: 32px;\n",
              "    }\n",
              "\n",
              "    .colab-df-convert:hover {\n",
              "      background-color: #E2EBFA;\n",
              "      box-shadow: 0px 1px 2px rgba(60, 64, 67, 0.3), 0px 1px 3px 1px rgba(60, 64, 67, 0.15);\n",
              "      fill: #174EA6;\n",
              "    }\n",
              "\n",
              "    [theme=dark] .colab-df-convert {\n",
              "      background-color: #3B4455;\n",
              "      fill: #D2E3FC;\n",
              "    }\n",
              "\n",
              "    [theme=dark] .colab-df-convert:hover {\n",
              "      background-color: #434B5C;\n",
              "      box-shadow: 0px 1px 3px 1px rgba(0, 0, 0, 0.15);\n",
              "      filter: drop-shadow(0px 1px 2px rgba(0, 0, 0, 0.3));\n",
              "      fill: #FFFFFF;\n",
              "    }\n",
              "  </style>\n",
              "\n",
              "      <script>\n",
              "        const buttonEl =\n",
              "          document.querySelector('#df-fd82e9ba-d278-4a12-bea1-4e09795ab41a button.colab-df-convert');\n",
              "        buttonEl.style.display =\n",
              "          google.colab.kernel.accessAllowed ? 'block' : 'none';\n",
              "\n",
              "        async function convertToInteractive(key) {\n",
              "          const element = document.querySelector('#df-fd82e9ba-d278-4a12-bea1-4e09795ab41a');\n",
              "          const dataTable =\n",
              "            await google.colab.kernel.invokeFunction('convertToInteractive',\n",
              "                                                     [key], {});\n",
              "          if (!dataTable) return;\n",
              "\n",
              "          const docLinkHtml = 'Like what you see? Visit the ' +\n",
              "            '<a target=\"_blank\" href=https://colab.research.google.com/notebooks/data_table.ipynb>data table notebook</a>'\n",
              "            + ' to learn more about interactive tables.';\n",
              "          element.innerHTML = '';\n",
              "          dataTable['output_type'] = 'display_data';\n",
              "          await google.colab.output.renderOutput(dataTable, element);\n",
              "          const docLink = document.createElement('div');\n",
              "          docLink.innerHTML = docLinkHtml;\n",
              "          element.appendChild(docLink);\n",
              "        }\n",
              "      </script>\n",
              "    </div>\n",
              "  </div>\n",
              "  "
            ]
          },
          "metadata": {},
          "execution_count": 90
        }
      ]
    },
    {
      "cell_type": "markdown",
      "source": [
        "### X, y 설정"
      ],
      "metadata": {
        "id": "enrm-fcrroGT"
      }
    },
    {
      "cell_type": "code",
      "source": [
        "raw_X_b = raw_data.iloc[:,[0, 1, 2, 3, 36]] # 컬럼 추가 버전 (finbert 결과만 넣은 것임)\n",
        "raw_y_b = raw_data.iloc[:, 37:38] # 다음날 종가 데이터가 들어있음\n",
        "# 과거 데이터로 다음날 종가 데이터를 예측하는 lstm 모델을 만들 것임\n",
        "\n",
        "print(raw_X_b)\n",
        "print(raw_y_b)\n",
        "\n",
        "plt.plot(raw_y_b, label = 'samsung')\n",
        "plt.show()"
      ],
      "metadata": {
        "colab": {
          "base_uri": "https://localhost:8080/",
          "height": 816
        },
        "outputId": "da4daf44-13fa-4d65-c389-b170cc966dba",
        "id": "vAECPH9xlpVI"
      },
      "execution_count": 111,
      "outputs": [
        {
          "output_type": "stream",
          "name": "stdout",
          "text": [
            "             Open   High    Low  Close  sentiment\n",
            "Date                                             \n",
            "2017-06-01  44860  44900  44400  44680          1\n",
            "2017-06-02  45060  45960  45000  45960          1\n",
            "2017-06-05  46040  46360  45720  45940          1\n",
            "2017-06-07  46500  46500  45240  45300          1\n",
            "2017-06-08  45000  45580  45000  45160          1\n",
            "...           ...    ...    ...    ...        ...\n",
            "2022-06-02  66600  67000  66400  66700          1\n",
            "2022-06-03  67200  67300  66800  66800          0\n",
            "2022-06-07  66200  66400  65400  65500          1\n",
            "2022-06-08  65400  65700  65300  65300          1\n",
            "2022-06-09  65100  65200  64500  65200          1\n",
            "\n",
            "[1234 rows x 5 columns]\n",
            "            Next_day\n",
            "Date                \n",
            "2017-06-01     45960\n",
            "2017-06-02     45940\n",
            "2017-06-05     45300\n",
            "2017-06-07     45160\n",
            "2017-06-08     46100\n",
            "...              ...\n",
            "2022-06-02     66800\n",
            "2022-06-03     65500\n",
            "2022-06-07     65300\n",
            "2022-06-08     65200\n",
            "2022-06-09     63900\n",
            "\n",
            "[1234 rows x 1 columns]\n"
          ]
        },
        {
          "output_type": "display_data",
          "data": {
            "text/plain": [
              "<Figure size 432x288 with 1 Axes>"
            ],
            "image/png": "[encoded data removed]"
          },
          "metadata": {
            "needs_background": "light"
          }
        }
      ]
    },
    {
      "cell_type": "markdown",
      "source": [
        "### 전처리"
      ],
      "metadata": {
        "id": "erKri9C6lpVI"
      }
    },
    {
      "cell_type": "code",
      "source": [
        "# X, y 데이터를 0~1 사이 값으로 정규화 \n",
        "# 학습이 잘되기 위해 하는 것이고, 이 값은 추후 inverse로 도로 되돌림\n",
        "sc = MinMaxScaler()\n",
        "sc_X_b = sc.fit_transform(raw_X_b)\n",
        "sc_y_b = sc.fit_transform(raw_y_b)\n",
        "\n",
        "train_size_b = int(len(sc_y_b) * 0.67)\n",
        "test_size_b = len(sc_y_b) - train_size_b\n",
        "\n",
        "# 텐서화? 하기\n",
        "dataX_b = Variable(torch.Tensor(np.array(sc_X_b)))\n",
        "dataY_b = Variable(torch.Tensor(np.array(sc_y_b)))\n",
        "\n",
        "# train 데이터 2/3으로 자르기\n",
        "trainX_b = Variable(torch.Tensor(np.array(sc_X_b[0:train_size_b])))\n",
        "trainY_b = Variable(torch.Tensor(np.array(sc_y_b[0:train_size_b])))\n",
        "\n",
        "# test 데이터 나머지 1/3으로 자르기\n",
        "testX_b = Variable(torch.Tensor(np.array(sc_X_b[train_size:len(sc_X_b)])))\n",
        "testY_b = Variable(torch.Tensor(np.array(sc_y_b[train_size:len(sc_y_b)])))"
      ],
      "metadata": {
        "id": "f2SpwrSBlpVI"
      },
      "execution_count": 112,
      "outputs": []
    },
    {
      "cell_type": "code",
      "source": [
        "print(trainX_b.shape)\n",
        "print(testX_b.shape)\n",
        "print(trainY_b.shape)\n",
        "print(testY_b.shape)"
      ],
      "metadata": {
        "colab": {
          "base_uri": "https://localhost:8080/"
        },
        "outputId": "58ed622d-ac7c-469b-8ef1-0520d7ba3961",
        "id": "hvnBSvAOlpVI"
      },
      "execution_count": 113,
      "outputs": [
        {
          "output_type": "stream",
          "name": "stdout",
          "text": [
            "torch.Size([826, 5])\n",
            "torch.Size([408, 5])\n",
            "torch.Size([826, 1])\n",
            "torch.Size([408, 1])\n"
          ]
        }
      ]
    },
    {
      "cell_type": "code",
      "source": [
        "# lstm 모델에 적용할 때 shape을 변경해줘야 함 \n",
        "# reshape(a, (b,1,c)) 형태로 모델에 돌리기 위해 2차원으로 바꿔주는 것임\n",
        "\n",
        "trainX_b_fin = torch.reshape(trainX_b, (trainX_b.shape[0], 1, trainX_b.shape[1]))\n",
        "testX_b_fin = torch.reshape(testX_b, (testX_b.shape[0], 1, testX_b.shape[1])) \n",
        "\n",
        "dataX_b_fin = torch.reshape(dataX_b, (dataX_b.shape[0], 1, dataX_b.shape[1]))\n",
        "print(\"Training Shape\", trainX_b_fin.shape, trainY_b.shape)\n",
        "print(\"Testing Shape\", testX_b_fin.shape, testY_b.shape) \n",
        "print(dataX_b_fin.shape, dataY_b.shape)"
      ],
      "metadata": {
        "colab": {
          "base_uri": "https://localhost:8080/"
        },
        "outputId": "e2f453e6-b84e-424e-d900-23c2ef71fc08",
        "id": "lp_7LzQKlpVJ"
      },
      "execution_count": 114,
      "outputs": [
        {
          "output_type": "stream",
          "name": "stdout",
          "text": [
            "Training Shape torch.Size([826, 1, 5]) torch.Size([826, 1])\n",
            "Testing Shape torch.Size([408, 1, 5]) torch.Size([408, 1])\n",
            "torch.Size([1234, 1, 5]) torch.Size([1234, 1])\n"
          ]
        }
      ]
    },
    {
      "cell_type": "markdown",
      "source": [
        "### 모델 정의"
      ],
      "metadata": {
        "id": "NAHsV9c8lpVJ"
      }
    },
    {
      "cell_type": "code",
      "source": [
        "# 모델 정의하기\n",
        "\n",
        "class LSTM(nn.Module):\n",
        "    # Long Short Term Memory\n",
        "    def __init__(self, num_classes, input_size, hidden_size, num_layers, seq_length):\n",
        "        super(LSTM, self).__init__()\n",
        "        \n",
        "        self.num_classes = num_classes\n",
        "        self.num_layers = num_layers\n",
        "        self.input_size = input_size\n",
        "        self.hidden_size = hidden_size\n",
        "        self.seq_length = seq_length\n",
        "        \n",
        "        self.lstm = nn.LSTM(input_size=input_size, hidden_size=hidden_size,\n",
        "                            num_layers=num_layers, batch_first=True)\n",
        "        \n",
        "        self.fc = nn.Linear(hidden_size, num_classes)\n",
        "\n",
        "    def forward(self, x):\n",
        "        h_0 = Variable(torch.zeros(\n",
        "            self.num_layers, x.size(0), self.hidden_size))\n",
        "        \n",
        "        c_0 = Variable(torch.zeros(\n",
        "            self.num_layers, x.size(0), self.hidden_size))\n",
        "        \n",
        "        # Propagate input through LSTM\n",
        "        ula, (h_out, _) = self.lstm(x, (h_0, c_0))\n",
        "        \n",
        "        h_out = h_out.view(-1, self.hidden_size)\n",
        "        \n",
        "        out = self.fc(h_out)\n",
        "        \n",
        "        return out\n",
        "\n",
        "# 레이어 추가 예시\n",
        "\n",
        "# # 모델 만들기\n",
        "\n",
        "# class LSTM(nn.Module):\n",
        "#   def __init__(self, num_classes, input_size, hidden_size, num_layers, seq_length):\n",
        "#     super(LSTM, self).__init__()\n",
        "#     self.num_classes = num_classes #number of classes\n",
        "#     self.num_layers = num_layers #number of layers\n",
        "#     self.input_size = input_size #input size\n",
        "#     self.hidden_size = hidden_size #hidden state\n",
        "#     self.seq_length = seq_length #sequence length\n",
        " \n",
        "#     self.lstm = nn.LSTM(input_size=input_size, hidden_size=hidden_size,\n",
        "#                       num_layers=num_layers, batch_first=True) #lstm\n",
        "#     self.fc_1 =  nn.Linear(hidden_size, 128) #fully connected 1\n",
        "#     self.fc = nn.Linear(128, num_classes) #fully connected last layer\n",
        "\n",
        "#     self.relu = nn.ReLU() \n",
        "\n",
        "#   def forward(self,x):\n",
        "#     h_0 = Variable(torch.zeros(self.num_layers, x.size(0), self.hidden_size)) #hidden state\n",
        "#     c_0 = Variable(torch.zeros(self.num_layers, x.size(0), self.hidden_size)) #internal state   \n",
        "#     # Propagate input through LSTM\n",
        "\n",
        "#     output, (hn, cn) = self.lstm(x, (h_0, c_0)) #lstm with input, hidden, and internal state\n",
        "   \n",
        "#     hn = hn.view(-1, self.hidden_size) #reshaping the data for Dense layer next\n",
        "#     out = self.relu(hn)\n",
        "#     out = self.fc_1(out) #first Dense\n",
        "#     out = self.relu(out) #relu\n",
        "#     out = self.fc(out) #Final Output\n",
        "   \n",
        "#     return out \n",
        "\n",
        "\n",
        "# print()"
      ],
      "metadata": {
        "id": "0rLwd2fUlpVJ"
      },
      "execution_count": 115,
      "outputs": []
    },
    {
      "cell_type": "code",
      "source": [
        "num_epochs = 2000\n",
        "learning_rate = 0.01\n",
        "\n",
        "input_size = 5 # 컬럼 개수\n",
        "hidden_size = 2\n",
        "num_layers = 1\n",
        "\n",
        "num_classes = 1\n",
        "\n",
        "lstm = LSTM(num_classes, input_size, hidden_size, num_layers, trainX_b_fin.shape[1])\n",
        "\n",
        "loss_function = torch.nn.MSELoss()    # mean-squared error for regression\n",
        "optimizer = torch.optim.Adam(lstm.parameters(), lr=learning_rate)\n",
        "#optimizer = torch.optim.SGD(lstm.parameters(), lr=learning_rate)\n",
        "\n",
        "# Train the model\n",
        "for epoch in range(num_epochs):\n",
        "    outputs = lstm.forward(trainX_b_fin)\n",
        "    optimizer.zero_grad()\n",
        "    \n",
        "    # obtain the loss function\n",
        "    loss = loss_function(outputs, trainY_b)\n",
        "    \n",
        "    loss.backward()\n",
        "    \n",
        "    optimizer.step()\n",
        "    if epoch % 100 == 0:\n",
        "      print(\"Epoch: %d, loss: %1.5f\" % (epoch, loss.item()))"
      ],
      "metadata": {
        "colab": {
          "base_uri": "https://localhost:8080/"
        },
        "outputId": "96d8c4af-162a-4e04-d13a-0a3803bcf574",
        "id": "9paBLCX5lpVK"
      },
      "execution_count": 116,
      "outputs": [
        {
          "output_type": "stream",
          "name": "stdout",
          "text": [
            "Epoch: 0, loss: 0.65319\n",
            "Epoch: 100, loss: 0.00578\n",
            "Epoch: 200, loss: 0.00479\n",
            "Epoch: 300, loss: 0.00371\n",
            "Epoch: 400, loss: 0.00262\n",
            "Epoch: 500, loss: 0.00163\n",
            "Epoch: 600, loss: 0.00092\n",
            "Epoch: 700, loss: 0.00054\n",
            "Epoch: 800, loss: 0.00043\n",
            "Epoch: 900, loss: 0.00038\n",
            "Epoch: 1000, loss: 0.00035\n",
            "Epoch: 1100, loss: 0.00032\n",
            "Epoch: 1200, loss: 0.00030\n",
            "Epoch: 1300, loss: 0.00028\n",
            "Epoch: 1400, loss: 0.00027\n",
            "Epoch: 1500, loss: 0.00027\n",
            "Epoch: 1600, loss: 0.00026\n",
            "Epoch: 1700, loss: 0.00026\n",
            "Epoch: 1800, loss: 0.00026\n",
            "Epoch: 1900, loss: 0.00026\n"
          ]
        }
      ]
    },
    {
      "cell_type": "markdown",
      "source": [
        "### 모델 평가"
      ],
      "metadata": {
        "id": "loZXGeNNlpVK"
      }
    },
    {
      "cell_type": "code",
      "source": [
        "# 모델 평가하기\n",
        "lstm.eval()\n",
        "\n",
        "# 학습시킨 모델에 전체 데이터를 적용시켜 Y를 추출한 것\n",
        "# 전체 데이터의 2/3인 train 데이터까지는 모델 학습에서 사용했던 데이터이고\n",
        "# 1/3인 test 데이터는 모델이 예측한 값\n",
        "train_predict_b = lstm(dataX_b_fin)\n",
        "\n",
        "# 전체 데이터 예측 값(Y)을 numpy array로 변경\n",
        "data_predict_b = train_predict_b.data.numpy()\n",
        "\n",
        "# 실제 Y데이터 값을 numpy array로 변경\n",
        "dataY_plot_b = dataY_b.data.numpy()\n",
        "\n",
        "# 위에서 모델에 적용하려고 0~1 사이로 정규화했던 값을 다시 inverse\n",
        "data_predict_b = sc.inverse_transform(data_predict_b)\n",
        "dataY_plot_b = sc.inverse_transform(dataY_plot_b)\n",
        "\n",
        "# 학습에 사용됐던 데이터와 예측한 값의 경계를 선으로 표현\n",
        "plt.axvline(x=train_size_b, c='r', linestyle='--')\n",
        "\n",
        "plt.plot(dataY_plot_b)\n",
        "plt.plot(data_predict_b)\n",
        "plt.suptitle('Time-Series Prediction_LSTM')\n",
        "plt.show()"
      ],
      "metadata": {
        "colab": {
          "base_uri": "https://localhost:8080/",
          "height": 294
        },
        "outputId": "68bddc30-cfb0-438b-d0b4-b417d3f5acbe",
        "id": "HvTdEhfLlpVK"
      },
      "execution_count": 117,
      "outputs": [
        {
          "output_type": "display_data",
          "data": {
            "text/plain": [
              "<Figure size 432x288 with 1 Axes>"
            ],
            "image/png": "[encoded data removed]"
          },
          "metadata": {
            "needs_background": "light"
          }
        }
      ]
    },
    {
      "cell_type": "markdown",
      "source": [
        "### 평가지표 구하기"
      ],
      "metadata": {
        "id": "5xL1YjczlpVP"
      }
    },
    {
      "cell_type": "code",
      "source": [
        "from sklearn.metrics import mean_squared_error"
      ],
      "metadata": {
        "id": "2j_fS0o4lpVP"
      },
      "execution_count": 118,
      "outputs": []
    },
    {
      "cell_type": "code",
      "source": [
        "# 예측값: data_predict\n",
        "# 실제값: dataY_plot\n",
        "\n",
        "data_predict_fin_b = list(data_predict_b.flatten())\n",
        "dataY_plot_fin_b = list(dataY_plot_b.flatten())"
      ],
      "metadata": {
        "id": "mzU9FY4NlpVQ"
      },
      "execution_count": 119,
      "outputs": []
    },
    {
      "cell_type": "code",
      "source": [
        "score_table = pd.DataFrame({'True': dataY_plot_fin_b,\n",
        "                            'Pred': data_predict_fin_b})"
      ],
      "metadata": {
        "id": "vjEltZzElpVQ"
      },
      "execution_count": 120,
      "outputs": []
    },
    {
      "cell_type": "code",
      "source": [
        "score_table"
      ],
      "metadata": {
        "colab": {
          "base_uri": "https://localhost:8080/",
          "height": 424
        },
        "outputId": "b1d8f69e-3719-44b0-a3fa-028c9b9c50ec",
        "id": "xzWhAQBFlpVR"
      },
      "execution_count": 121,
      "outputs": [
        {
          "output_type": "execute_result",
          "data": {
            "text/plain": [
              "              True          Pred\n",
              "0     45960.000000  44878.179688\n",
              "1     45940.000000  46083.957031\n",
              "2     45300.000000  46036.917969\n",
              "3     45160.000000  45339.726562\n",
              "4     46100.000000  45287.898438\n",
              "...            ...           ...\n",
              "1229  66800.000000  65733.492188\n",
              "1230  65500.003906  65915.601562\n",
              "1231  65300.003906  64695.554688\n",
              "1232  65200.003906  64582.230469\n",
              "1233  63900.003906  64532.484375\n",
              "\n",
              "[1234 rows x 2 columns]"
            ],
            "text/html": [
              "\n",
              "  <div id=\"df-1048e0c2-e4e2-474e-a9e6-0ab18e71c3eb\">\n",
              "    <div class=\"colab-df-container\">\n",
              "      <div>\n",
              "<style scoped>\n",
              "    .dataframe tbody tr th:only-of-type {\n",
              "        vertical-align: middle;\n",
              "    }\n",
              "\n",
              "    .dataframe tbody tr th {\n",
              "        vertical-align: top;\n",
              "    }\n",
              "\n",
              "    .dataframe thead th {\n",
              "        text-align: right;\n",
              "    }\n",
              "</style>\n",
              "<table border=\"1\" class=\"dataframe\">\n",
              "  <thead>\n",
              "    <tr style=\"text-align: right;\">\n",
              "      <th></th>\n",
              "      <th>True</th>\n",
              "      <th>Pred</th>\n",
              "    </tr>\n",
              "  </thead>\n",
              "  <tbody>\n",
              "    <tr>\n",
              "      <th>0</th>\n",
              "      <td>45960.000000</td>\n",
              "      <td>44878.179688</td>\n",
              "    </tr>\n",
              "    <tr>\n",
              "      <th>1</th>\n",
              "      <td>45940.000000</td>\n",
              "      <td>46083.957031</td>\n",
              "    </tr>\n",
              "    <tr>\n",
              "      <th>2</th>\n",
              "      <td>45300.000000</td>\n",
              "      <td>46036.917969</td>\n",
              "    </tr>\n",
              "    <tr>\n",
              "      <th>3</th>\n",
              "      <td>45160.000000</td>\n",
              "      <td>45339.726562</td>\n",
              "    </tr>\n",
              "    <tr>\n",
              "      <th>4</th>\n",
              "      <td>46100.000000</td>\n",
              "      <td>45287.898438</td>\n",
              "    </tr>\n",
              "    <tr>\n",
              "      <th>...</th>\n",
              "      <td>...</td>\n",
              "      <td>...</td>\n",
              "    </tr>\n",
              "    <tr>\n",
              "      <th>1229</th>\n",
              "      <td>66800.000000</td>\n",
              "      <td>65733.492188</td>\n",
              "    </tr>\n",
              "    <tr>\n",
              "      <th>1230</th>\n",
              "      <td>65500.003906</td>\n",
              "      <td>65915.601562</td>\n",
              "    </tr>\n",
              "    <tr>\n",
              "      <th>1231</th>\n",
              "      <td>65300.003906</td>\n",
              "      <td>64695.554688</td>\n",
              "    </tr>\n",
              "    <tr>\n",
              "      <th>1232</th>\n",
              "      <td>65200.003906</td>\n",
              "      <td>64582.230469</td>\n",
              "    </tr>\n",
              "    <tr>\n",
              "      <th>1233</th>\n",
              "      <td>63900.003906</td>\n",
              "      <td>64532.484375</td>\n",
              "    </tr>\n",
              "  </tbody>\n",
              "</table>\n",
              "<p>1234 rows × 2 columns</p>\n",
              "</div>\n",
              "      <button class=\"colab-df-convert\" onclick=\"convertToInteractive('df-1048e0c2-e4e2-474e-a9e6-0ab18e71c3eb')\"\n",
              "              title=\"Convert this dataframe to an interactive table.\"\n",
              "              style=\"display:none;\">\n",
              "        \n",
              "  <svg xmlns=\"http://www.w3.org/2000/svg\" height=\"24px\"viewBox=\"0 0 24 24\"\n",
              "       width=\"24px\">\n",
              "    <path d=\"M0 0h24v24H0V0z\" fill=\"none\"/>\n",
              "    <path d=\"M18.56 5.44l.94 2.06.94-2.06 2.06-.94-2.06-.94-.94-2.06-.94 2.06-2.06.94zm-11 1L8.5 8.5l.94-2.06 2.06-.94-2.06-.94L8.5 2.5l-.94 2.06-2.06.94zm10 10l.94 2.06.94-2.06 2.06-.94-2.06-.94-.94-2.06-.94 2.06-2.06.94z\"/><path d=\"M17.41 7.96l-1.37-1.37c-.4-.4-.92-.59-1.43-.59-.52 0-1.04.2-1.43.59L10.3 9.45l-7.72 7.72c-.78.78-.78 2.05 0 2.83L4 21.41c.39.39.9.59 1.41.59.51 0 1.02-.2 1.41-.59l7.78-7.78 2.81-2.81c.8-.78.8-2.07 0-2.86zM5.41 20L4 18.59l7.72-7.72 1.47 1.35L5.41 20z\"/>\n",
              "  </svg>\n",
              "      </button>\n",
              "      \n",
              "  <style>\n",
              "    .colab-df-container {\n",
              "      display:flex;\n",
              "      flex-wrap:wrap;\n",
              "      gap: 12px;\n",
              "    }\n",
              "\n",
              "    .colab-df-convert {\n",
              "      background-color: #E8F0FE;\n",
              "      border: none;\n",
              "      border-radius: 50%;\n",
              "      cursor: pointer;\n",
              "      display: none;\n",
              "      fill: #1967D2;\n",
              "      height: 32px;\n",
              "      padding: 0 0 0 0;\n",
              "      width: 32px;\n",
              "    }\n",
              "\n",
              "    .colab-df-convert:hover {\n",
              "      background-color: #E2EBFA;\n",
              "      box-shadow: 0px 1px 2px rgba(60, 64, 67, 0.3), 0px 1px 3px 1px rgba(60, 64, 67, 0.15);\n",
              "      fill: #174EA6;\n",
              "    }\n",
              "\n",
              "    [theme=dark] .colab-df-convert {\n",
              "      background-color: #3B4455;\n",
              "      fill: #D2E3FC;\n",
              "    }\n",
              "\n",
              "    [theme=dark] .colab-df-convert:hover {\n",
              "      background-color: #434B5C;\n",
              "      box-shadow: 0px 1px 3px 1px rgba(0, 0, 0, 0.15);\n",
              "      filter: drop-shadow(0px 1px 2px rgba(0, 0, 0, 0.3));\n",
              "      fill: #FFFFFF;\n",
              "    }\n",
              "  </style>\n",
              "\n",
              "      <script>\n",
              "        const buttonEl =\n",
              "          document.querySelector('#df-1048e0c2-e4e2-474e-a9e6-0ab18e71c3eb button.colab-df-convert');\n",
              "        buttonEl.style.display =\n",
              "          google.colab.kernel.accessAllowed ? 'block' : 'none';\n",
              "\n",
              "        async function convertToInteractive(key) {\n",
              "          const element = document.querySelector('#df-1048e0c2-e4e2-474e-a9e6-0ab18e71c3eb');\n",
              "          const dataTable =\n",
              "            await google.colab.kernel.invokeFunction('convertToInteractive',\n",
              "                                                     [key], {});\n",
              "          if (!dataTable) return;\n",
              "\n",
              "          const docLinkHtml = 'Like what you see? Visit the ' +\n",
              "            '<a target=\"_blank\" href=https://colab.research.google.com/notebooks/data_table.ipynb>data table notebook</a>'\n",
              "            + ' to learn more about interactive tables.';\n",
              "          element.innerHTML = '';\n",
              "          dataTable['output_type'] = 'display_data';\n",
              "          await google.colab.output.renderOutput(dataTable, element);\n",
              "          const docLink = document.createElement('div');\n",
              "          docLink.innerHTML = docLinkHtml;\n",
              "          element.appendChild(docLink);\n",
              "        }\n",
              "      </script>\n",
              "    </div>\n",
              "  </div>\n",
              "  "
            ]
          },
          "metadata": {},
          "execution_count": 121
        }
      ]
    },
    {
      "cell_type": "code",
      "source": [
        "# validation score\n",
        "MSE = mean_squared_error(score_table['True'], score_table['Pred'])\n",
        "RMSE = np.sqrt(MSE)\n",
        "\n",
        "score = 100*(1-(((score_table['Pred']-score_table['True'])**2).sum())/((score_table['True']**2).sum()))"
      ],
      "metadata": {
        "id": "wSgYG1lylpVR"
      },
      "execution_count": 122,
      "outputs": []
    },
    {
      "cell_type": "code",
      "source": [
        "print(\"MSE : {0}, RMSE : {1}, SCORE : {2}\".format(MSE, RMSE, score))"
      ],
      "metadata": {
        "colab": {
          "base_uri": "https://localhost:8080/"
        },
        "outputId": "24a06005-152e-4d0d-c08d-438e94f1397a",
        "id": "HrQ4lrSzlpVS"
      },
      "execution_count": 123,
      "outputs": [
        {
          "output_type": "stream",
          "name": "stdout",
          "text": [
            "MSE : 8077374.0, RMSE : 2842.072021484375, SCORE : 99.77091380860656\n"
          ]
        }
      ]
    },
    {
      "cell_type": "code",
      "source": [
        ""
      ],
      "metadata": {
        "id": "qeAfN1zAlpVT"
      },
      "execution_count": null,
      "outputs": []
    },
    {
      "cell_type": "code",
      "source": [
        ""
      ],
      "metadata": {
        "id": "Ejq_jDbnqCpt"
      },
      "execution_count": null,
      "outputs": []
    },
    {
      "cell_type": "markdown",
      "source": [
        "## 전체 비교"
      ],
      "metadata": {
        "id": "_z46He0xrtJh"
      }
    },
    {
      "cell_type": "markdown",
      "source": [
        "1. base 모델 - MSE :  9,234,411.0, RMSE : 3038.8173828125, SCORE : 99.73809854127467\n",
        "\n",
        "2. 모든 컬럼 추가 - MSE : 18,969,566.0, RMSE : 4355.40673828125, SCORE : 99.4619952980429\n",
        "\n",
        "3. finbert만 추가 - MSE : 8,077,374.0, RMSE : 2842.072021484375, SCORE : 99.77091380860656\n",
        "\n"
      ],
      "metadata": {
        "id": "I-tuIGyqpupU"
      }
    },
    {
      "cell_type": "code",
      "source": [
        ""
      ],
      "metadata": {
        "id": "Qb2D8vmRqUEC"
      },
      "execution_count": null,
      "outputs": []
    }
  ]
}