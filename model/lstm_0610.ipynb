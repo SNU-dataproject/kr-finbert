{
  "nbformat": 4,
  "nbformat_minor": 0,
  "metadata": {
    "colab": {
      "name": "lstm_0610.ipynb",
      "provenance": [],
      "collapsed_sections": []
    },
    "kernelspec": {
      "name": "python3",
      "display_name": "Python 3"
    },
    "language_info": {
      "name": "python"
    },
    "accelerator": "GPU"
  },
  "cells": [
    {
      "cell_type": "markdown",
      "source": [
        "## lstm"
      ],
      "metadata": {
        "id": "3PRttfr1bDEM"
      }
    },
    {
      "cell_type": "markdown",
      "source": [
        "### 라이브러리"
      ],
      "metadata": {
        "id": "r4h1mjDcTlYB"
      }
    },
    {
      "cell_type": "code",
      "source": [
        "import pandas as pd\n",
        "import numpy as np\n",
        "import matplotlib.pyplot as plt\n",
        "import seaborn as sns\n",
        "# sns.set_style('whitegrid')\n",
        "# plt.style.use(\"fivethirtyeight\")\n",
        "# %matplotlib inline\n",
        "\n",
        "import torch\n",
        "import torch.nn as nn\n",
        "from torch.autograd import Variable\n",
        "import torch.optim as optim\n",
        "from torch.utils.data import Dataset, DataLoader\n",
        "from sklearn.preprocessing import MinMaxScaler\n",
        "import datetime"
      ],
      "metadata": {
        "id": "_mSvSsaNATrx"
      },
      "execution_count": 26,
      "outputs": []
    },
    {
      "cell_type": "markdown",
      "source": [
        "### 데이터 로드"
      ],
      "metadata": {
        "id": "inbN9quyTvAL"
      }
    },
    {
      "cell_type": "code",
      "source": [
        "# 현재 경로 표시하기\n",
        "/pwd"
      ],
      "metadata": {
        "colab": {
          "base_uri": "https://localhost:8080/",
          "height": 35
        },
        "id": "aQdYXPjpkpaR",
        "outputId": "5e4d9462-73cc-4865-b09d-ec8599193971"
      },
      "execution_count": 27,
      "outputs": [
        {
          "output_type": "execute_result",
          "data": {
            "text/plain": [
              "'/content/drive/MyDrive/bigdata_project/data'"
            ],
            "application/vnd.google.colaboratory.intrinsic+json": {
              "type": "string"
            }
          },
          "metadata": {},
          "execution_count": 27
        }
      ]
    },
    {
      "cell_type": "code",
      "source": [
        "# 왼쪽 폴더 아이콘 누른 뒤 3번째 아이콘 눌러서 구글 드라이브를 마운트하고 \n",
        "# 다운 받은 엑셀파일이 저장된 경로를 찾아 들어가야 함\n",
        "cd drive/MyDrive/bigdata_project/data"
      ],
      "metadata": {
        "colab": {
          "base_uri": "https://localhost:8080/"
        },
        "id": "dn0_U2u0kqt6",
        "outputId": "e72ef818-d284-4bfa-c8d6-52af15f1d0fb"
      },
      "execution_count": 28,
      "outputs": [
        {
          "output_type": "stream",
          "name": "stdout",
          "text": [
            "[Errno 2] No such file or directory: 'drive/MyDrive/bigdata_project/data'\n",
            "/content/drive/MyDrive/bigdata_project/data\n"
          ]
        }
      ]
    },
    {
      "cell_type": "code",
      "source": [
        "# 현재 경로 파일 리스트\n",
        "ls"
      ],
      "metadata": {
        "colab": {
          "base_uri": "https://localhost:8080/"
        },
        "id": "YcbKCV9LksB6",
        "outputId": "87d82fbe-27c0-4616-e779-25b51628462d"
      },
      "execution_count": 29,
      "outputs": [
        {
          "output_type": "stream",
          "name": "stdout",
          "text": [
            "datareader_finbert_to_num_v2.xlsx\n",
            "datareader_finbert_to_num.xlsx\n",
            "datareader_finbert.xlsx\n",
            "naver_finance_news.xlsx\n",
            "naver_news.xlsx\n",
            "preprocessed_dup_eliminated_dataset_finBERT.xlsx\n",
            "report.xlsx\n"
          ]
        }
      ]
    },
    {
      "cell_type": "code",
      "source": [
        "# 로우 데이터로 엑셀파일 로드\n",
        "# 실행 전에 미리 구글 드라이브 마운트를 해야하고 동일 경로에서 엑셀파일을 읽어들여야 함\n",
        "raw_data = pd.read_excel('datareader_finbert_to_num_v2.xlsx')\n",
        "raw_data = raw_data.set_index(\"Date\")\n",
        "raw_data"
      ],
      "metadata": {
        "colab": {
          "base_uri": "https://localhost:8080/",
          "height": 455
        },
        "id": "eB0KJF-kkuFa",
        "outputId": "d1934fc2-59d8-4f8f-b374-5b6d5afc3045"
      },
      "execution_count": 44,
      "outputs": [
        {
          "output_type": "execute_result",
          "data": {
            "text/plain": [
              "             Open   High    Low  Close    Volume    Change  sentiment  \\\n",
              "Date                                                                    \n",
              "2021-06-01  80500  81300  80100  80600  14058401  0.001242          1   \n",
              "2021-06-02  80400  81400  80300  80800  16414644  0.002481          0   \n",
              "2021-06-03  81300  83000  81100  82800  29546007  0.024752          0   \n",
              "2021-06-04  82700  82700  81500  82200  18112259 -0.007246          0   \n",
              "2021-06-07  82700  82800  81600  81900  16496197 -0.003650          0   \n",
              "...           ...    ...    ...    ...       ...       ...        ...   \n",
              "2022-05-31  67500  67500  66700  67400  24365002 -0.004431          0   \n",
              "2022-06-02  66600  67000  66400  66700  14959443 -0.010386          0   \n",
              "2022-06-03  67200  67300  66800  66800   8222883  0.001499          0   \n",
              "2022-06-07  66200  66400  65400  65500  19355755 -0.019461          0   \n",
              "2022-06-08  65400  65700  65300  65300  12483180 -0.003053          0   \n",
              "\n",
              "            Next_day  \n",
              "Date                  \n",
              "2021-06-01     80800  \n",
              "2021-06-02     82800  \n",
              "2021-06-03     82200  \n",
              "2021-06-04     81900  \n",
              "2021-06-07     81900  \n",
              "...              ...  \n",
              "2022-05-31     66700  \n",
              "2022-06-02     66800  \n",
              "2022-06-03     65500  \n",
              "2022-06-07     65300  \n",
              "2022-06-08     65200  \n",
              "\n",
              "[252 rows x 8 columns]"
            ],
            "text/html": [
              "\n",
              "  <div id=\"df-a28e171f-0e47-4aeb-86ca-56d19bffab0c\">\n",
              "    <div class=\"colab-df-container\">\n",
              "      <div>\n",
              "<style scoped>\n",
              "    .dataframe tbody tr th:only-of-type {\n",
              "        vertical-align: middle;\n",
              "    }\n",
              "\n",
              "    .dataframe tbody tr th {\n",
              "        vertical-align: top;\n",
              "    }\n",
              "\n",
              "    .dataframe thead th {\n",
              "        text-align: right;\n",
              "    }\n",
              "</style>\n",
              "<table border=\"1\" class=\"dataframe\">\n",
              "  <thead>\n",
              "    <tr style=\"text-align: right;\">\n",
              "      <th></th>\n",
              "      <th>Open</th>\n",
              "      <th>High</th>\n",
              "      <th>Low</th>\n",
              "      <th>Close</th>\n",
              "      <th>Volume</th>\n",
              "      <th>Change</th>\n",
              "      <th>sentiment</th>\n",
              "      <th>Next_day</th>\n",
              "    </tr>\n",
              "    <tr>\n",
              "      <th>Date</th>\n",
              "      <th></th>\n",
              "      <th></th>\n",
              "      <th></th>\n",
              "      <th></th>\n",
              "      <th></th>\n",
              "      <th></th>\n",
              "      <th></th>\n",
              "      <th></th>\n",
              "    </tr>\n",
              "  </thead>\n",
              "  <tbody>\n",
              "    <tr>\n",
              "      <th>2021-06-01</th>\n",
              "      <td>80500</td>\n",
              "      <td>81300</td>\n",
              "      <td>80100</td>\n",
              "      <td>80600</td>\n",
              "      <td>14058401</td>\n",
              "      <td>0.001242</td>\n",
              "      <td>1</td>\n",
              "      <td>80800</td>\n",
              "    </tr>\n",
              "    <tr>\n",
              "      <th>2021-06-02</th>\n",
              "      <td>80400</td>\n",
              "      <td>81400</td>\n",
              "      <td>80300</td>\n",
              "      <td>80800</td>\n",
              "      <td>16414644</td>\n",
              "      <td>0.002481</td>\n",
              "      <td>0</td>\n",
              "      <td>82800</td>\n",
              "    </tr>\n",
              "    <tr>\n",
              "      <th>2021-06-03</th>\n",
              "      <td>81300</td>\n",
              "      <td>83000</td>\n",
              "      <td>81100</td>\n",
              "      <td>82800</td>\n",
              "      <td>29546007</td>\n",
              "      <td>0.024752</td>\n",
              "      <td>0</td>\n",
              "      <td>82200</td>\n",
              "    </tr>\n",
              "    <tr>\n",
              "      <th>2021-06-04</th>\n",
              "      <td>82700</td>\n",
              "      <td>82700</td>\n",
              "      <td>81500</td>\n",
              "      <td>82200</td>\n",
              "      <td>18112259</td>\n",
              "      <td>-0.007246</td>\n",
              "      <td>0</td>\n",
              "      <td>81900</td>\n",
              "    </tr>\n",
              "    <tr>\n",
              "      <th>2021-06-07</th>\n",
              "      <td>82700</td>\n",
              "      <td>82800</td>\n",
              "      <td>81600</td>\n",
              "      <td>81900</td>\n",
              "      <td>16496197</td>\n",
              "      <td>-0.003650</td>\n",
              "      <td>0</td>\n",
              "      <td>81900</td>\n",
              "    </tr>\n",
              "    <tr>\n",
              "      <th>...</th>\n",
              "      <td>...</td>\n",
              "      <td>...</td>\n",
              "      <td>...</td>\n",
              "      <td>...</td>\n",
              "      <td>...</td>\n",
              "      <td>...</td>\n",
              "      <td>...</td>\n",
              "      <td>...</td>\n",
              "    </tr>\n",
              "    <tr>\n",
              "      <th>2022-05-31</th>\n",
              "      <td>67500</td>\n",
              "      <td>67500</td>\n",
              "      <td>66700</td>\n",
              "      <td>67400</td>\n",
              "      <td>24365002</td>\n",
              "      <td>-0.004431</td>\n",
              "      <td>0</td>\n",
              "      <td>66700</td>\n",
              "    </tr>\n",
              "    <tr>\n",
              "      <th>2022-06-02</th>\n",
              "      <td>66600</td>\n",
              "      <td>67000</td>\n",
              "      <td>66400</td>\n",
              "      <td>66700</td>\n",
              "      <td>14959443</td>\n",
              "      <td>-0.010386</td>\n",
              "      <td>0</td>\n",
              "      <td>66800</td>\n",
              "    </tr>\n",
              "    <tr>\n",
              "      <th>2022-06-03</th>\n",
              "      <td>67200</td>\n",
              "      <td>67300</td>\n",
              "      <td>66800</td>\n",
              "      <td>66800</td>\n",
              "      <td>8222883</td>\n",
              "      <td>0.001499</td>\n",
              "      <td>0</td>\n",
              "      <td>65500</td>\n",
              "    </tr>\n",
              "    <tr>\n",
              "      <th>2022-06-07</th>\n",
              "      <td>66200</td>\n",
              "      <td>66400</td>\n",
              "      <td>65400</td>\n",
              "      <td>65500</td>\n",
              "      <td>19355755</td>\n",
              "      <td>-0.019461</td>\n",
              "      <td>0</td>\n",
              "      <td>65300</td>\n",
              "    </tr>\n",
              "    <tr>\n",
              "      <th>2022-06-08</th>\n",
              "      <td>65400</td>\n",
              "      <td>65700</td>\n",
              "      <td>65300</td>\n",
              "      <td>65300</td>\n",
              "      <td>12483180</td>\n",
              "      <td>-0.003053</td>\n",
              "      <td>0</td>\n",
              "      <td>65200</td>\n",
              "    </tr>\n",
              "  </tbody>\n",
              "</table>\n",
              "<p>252 rows × 8 columns</p>\n",
              "</div>\n",
              "      <button class=\"colab-df-convert\" onclick=\"convertToInteractive('df-a28e171f-0e47-4aeb-86ca-56d19bffab0c')\"\n",
              "              title=\"Convert this dataframe to an interactive table.\"\n",
              "              style=\"display:none;\">\n",
              "        \n",
              "  <svg xmlns=\"http://www.w3.org/2000/svg\" height=\"24px\"viewBox=\"0 0 24 24\"\n",
              "       width=\"24px\">\n",
              "    <path d=\"M0 0h24v24H0V0z\" fill=\"none\"/>\n",
              "    <path d=\"M18.56 5.44l.94 2.06.94-2.06 2.06-.94-2.06-.94-.94-2.06-.94 2.06-2.06.94zm-11 1L8.5 8.5l.94-2.06 2.06-.94-2.06-.94L8.5 2.5l-.94 2.06-2.06.94zm10 10l.94 2.06.94-2.06 2.06-.94-2.06-.94-.94-2.06-.94 2.06-2.06.94z\"/><path d=\"M17.41 7.96l-1.37-1.37c-.4-.4-.92-.59-1.43-.59-.52 0-1.04.2-1.43.59L10.3 9.45l-7.72 7.72c-.78.78-.78 2.05 0 2.83L4 21.41c.39.39.9.59 1.41.59.51 0 1.02-.2 1.41-.59l7.78-7.78 2.81-2.81c.8-.78.8-2.07 0-2.86zM5.41 20L4 18.59l7.72-7.72 1.47 1.35L5.41 20z\"/>\n",
              "  </svg>\n",
              "      </button>\n",
              "      \n",
              "  <style>\n",
              "    .colab-df-container {\n",
              "      display:flex;\n",
              "      flex-wrap:wrap;\n",
              "      gap: 12px;\n",
              "    }\n",
              "\n",
              "    .colab-df-convert {\n",
              "      background-color: #E8F0FE;\n",
              "      border: none;\n",
              "      border-radius: 50%;\n",
              "      cursor: pointer;\n",
              "      display: none;\n",
              "      fill: #1967D2;\n",
              "      height: 32px;\n",
              "      padding: 0 0 0 0;\n",
              "      width: 32px;\n",
              "    }\n",
              "\n",
              "    .colab-df-convert:hover {\n",
              "      background-color: #E2EBFA;\n",
              "      box-shadow: 0px 1px 2px rgba(60, 64, 67, 0.3), 0px 1px 3px 1px rgba(60, 64, 67, 0.15);\n",
              "      fill: #174EA6;\n",
              "    }\n",
              "\n",
              "    [theme=dark] .colab-df-convert {\n",
              "      background-color: #3B4455;\n",
              "      fill: #D2E3FC;\n",
              "    }\n",
              "\n",
              "    [theme=dark] .colab-df-convert:hover {\n",
              "      background-color: #434B5C;\n",
              "      box-shadow: 0px 1px 3px 1px rgba(0, 0, 0, 0.15);\n",
              "      filter: drop-shadow(0px 1px 2px rgba(0, 0, 0, 0.3));\n",
              "      fill: #FFFFFF;\n",
              "    }\n",
              "  </style>\n",
              "\n",
              "      <script>\n",
              "        const buttonEl =\n",
              "          document.querySelector('#df-a28e171f-0e47-4aeb-86ca-56d19bffab0c button.colab-df-convert');\n",
              "        buttonEl.style.display =\n",
              "          google.colab.kernel.accessAllowed ? 'block' : 'none';\n",
              "\n",
              "        async function convertToInteractive(key) {\n",
              "          const element = document.querySelector('#df-a28e171f-0e47-4aeb-86ca-56d19bffab0c');\n",
              "          const dataTable =\n",
              "            await google.colab.kernel.invokeFunction('convertToInteractive',\n",
              "                                                     [key], {});\n",
              "          if (!dataTable) return;\n",
              "\n",
              "          const docLinkHtml = 'Like what you see? Visit the ' +\n",
              "            '<a target=\"_blank\" href=https://colab.research.google.com/notebooks/data_table.ipynb>data table notebook</a>'\n",
              "            + ' to learn more about interactive tables.';\n",
              "          element.innerHTML = '';\n",
              "          dataTable['output_type'] = 'display_data';\n",
              "          await google.colab.output.renderOutput(dataTable, element);\n",
              "          const docLink = document.createElement('div');\n",
              "          docLink.innerHTML = docLinkHtml;\n",
              "          element.appendChild(docLink);\n",
              "        }\n",
              "      </script>\n",
              "    </div>\n",
              "  </div>\n",
              "  "
            ]
          },
          "metadata": {},
          "execution_count": 44
        }
      ]
    },
    {
      "cell_type": "markdown",
      "source": [
        "### X, y 설정"
      ],
      "metadata": {
        "id": "rLE8R_vaTyVG"
      }
    },
    {
      "cell_type": "code",
      "source": [
        "raw_X = raw_data.iloc[:, :4] # base 모델로 시, 고, 저, 종가만 추가했음\n",
        "raw_y = raw_data.iloc[:, 7:8] # 다음날 종가 데이터가 들어있음\n",
        "# 과거 데이터로 다음날 종가 데이터를 예측하는 lstm 모델을 만들 것임\n",
        "\n",
        "print(raw_X)\n",
        "print(raw_y)\n",
        "\n",
        "plt.plot(raw_y, label = 'samsung')\n",
        "plt.show()"
      ],
      "metadata": {
        "colab": {
          "base_uri": "https://localhost:8080/",
          "height": 816
        },
        "id": "e6kfu-mPkwY9",
        "outputId": "6603dd72-ea58-495a-c4e3-f747808ebf57"
      },
      "execution_count": 45,
      "outputs": [
        {
          "output_type": "stream",
          "name": "stdout",
          "text": [
            "             Open   High    Low  Close\n",
            "Date                                  \n",
            "2021-06-01  80500  81300  80100  80600\n",
            "2021-06-02  80400  81400  80300  80800\n",
            "2021-06-03  81300  83000  81100  82800\n",
            "2021-06-04  82700  82700  81500  82200\n",
            "2021-06-07  82700  82800  81600  81900\n",
            "...           ...    ...    ...    ...\n",
            "2022-05-31  67500  67500  66700  67400\n",
            "2022-06-02  66600  67000  66400  66700\n",
            "2022-06-03  67200  67300  66800  66800\n",
            "2022-06-07  66200  66400  65400  65500\n",
            "2022-06-08  65400  65700  65300  65300\n",
            "\n",
            "[252 rows x 4 columns]\n",
            "            Next_day\n",
            "Date                \n",
            "2021-06-01     80800\n",
            "2021-06-02     82800\n",
            "2021-06-03     82200\n",
            "2021-06-04     81900\n",
            "2021-06-07     81900\n",
            "...              ...\n",
            "2022-05-31     66700\n",
            "2022-06-02     66800\n",
            "2022-06-03     65500\n",
            "2022-06-07     65300\n",
            "2022-06-08     65200\n",
            "\n",
            "[252 rows x 1 columns]\n"
          ]
        },
        {
          "output_type": "display_data",
          "data": {
            "text/plain": [
              "<Figure size 432x288 with 1 Axes>"
            ],
            "image/png": "[encoded data removed]"
          },
          "metadata": {
            "needs_background": "light"
          }
        }
      ]
    },
    {
      "cell_type": "markdown",
      "source": [
        "### 전처리"
      ],
      "metadata": {
        "id": "_BghYaw8T7rV"
      }
    },
    {
      "cell_type": "code",
      "source": [
        "# X, y 데이터를 0~1 사이 값으로 정규화 \n",
        "# 학습이 잘되기 위해 하는 것이고, 이 값은 추후 inverse로 도로 되돌림\n",
        "sc = MinMaxScaler()\n",
        "sc_X = sc.fit_transform(raw_X)\n",
        "sc_y = sc.fit_transform(raw_y)\n",
        "\n",
        "train_size = int(len(sc_y) * 0.67)\n",
        "test_size = len(sc_y) - train_size\n",
        "\n",
        "# 텐서화? 하기\n",
        "dataX = Variable(torch.Tensor(np.array(sc_X)))\n",
        "dataY = Variable(torch.Tensor(np.array(sc_y)))\n",
        "\n",
        "# train 데이터 2/3으로 자르기\n",
        "trainX = Variable(torch.Tensor(np.array(sc_X[0:train_size])))\n",
        "trainY = Variable(torch.Tensor(np.array(sc_y[0:train_size])))\n",
        "\n",
        "# test 데이터 나머지 1/3으로 자르기\n",
        "testX = Variable(torch.Tensor(np.array(sc_X[train_size:len(sc_X)])))\n",
        "testY = Variable(torch.Tensor(np.array(sc_y[train_size:len(sc_y)])))"
      ],
      "metadata": {
        "id": "tNIz-CWxZfwN"
      },
      "execution_count": 32,
      "outputs": []
    },
    {
      "cell_type": "code",
      "source": [
        "print(trainX.shape)\n",
        "print(testX.shape)\n",
        "print(trainY.shape)\n",
        "print(testY.shape)"
      ],
      "metadata": {
        "colab": {
          "base_uri": "https://localhost:8080/"
        },
        "id": "qr8jbfxTZlh_",
        "outputId": "10635519-b204-4b1a-ea09-6f221411c3b9"
      },
      "execution_count": 33,
      "outputs": [
        {
          "output_type": "stream",
          "name": "stdout",
          "text": [
            "torch.Size([168, 4])\n",
            "torch.Size([84, 4])\n",
            "torch.Size([168, 1])\n",
            "torch.Size([84, 1])\n"
          ]
        }
      ]
    },
    {
      "cell_type": "code",
      "source": [
        "# lstm 모델에 적용할 때 shape을 변경해줘야 함 \n",
        "# reshape(a, (b,1,c)) 형태로 모델에 돌리기 위해 2차원으로 바꿔주는 것임\n",
        "\n",
        "trainX_fin = torch.reshape(trainX, (trainX.shape[0], 1, trainX.shape[1]))\n",
        "testX_fin = torch.reshape(testX, (testX.shape[0], 1, testX.shape[1])) \n",
        "\n",
        "dataX_fin = torch.reshape(dataX, (dataX.shape[0], 1, dataX.shape[1]))\n",
        "print(\"Training Shape\", trainX_fin.shape, trainY.shape)\n",
        "print(\"Testing Shape\", testX_fin.shape, testY.shape) \n",
        "print(dataX_fin.shape, dataY.shape)"
      ],
      "metadata": {
        "colab": {
          "base_uri": "https://localhost:8080/"
        },
        "id": "ZEcuqECCFVDG",
        "outputId": "c42cfbef-a17c-428c-fff7-66cc5e6d2689"
      },
      "execution_count": 34,
      "outputs": [
        {
          "output_type": "stream",
          "name": "stdout",
          "text": [
            "Training Shape torch.Size([168, 1, 4]) torch.Size([168, 1])\n",
            "Testing Shape torch.Size([84, 1, 4]) torch.Size([84, 1])\n",
            "torch.Size([252, 1, 4]) torch.Size([252, 1])\n"
          ]
        }
      ]
    },
    {
      "cell_type": "markdown",
      "source": [
        "### 모델 정의"
      ],
      "metadata": {
        "id": "OLwSoxOfWkoj"
      }
    },
    {
      "cell_type": "code",
      "source": [
        "# 모델 정의하기\n",
        "\n",
        "class LSTM(nn.Module):\n",
        "    # Long Short Term Memory\n",
        "    def __init__(self, num_classes, input_size, hidden_size, num_layers, seq_length):\n",
        "        super(LSTM, self).__init__()\n",
        "        \n",
        "        self.num_classes = num_classes\n",
        "        self.num_layers = num_layers\n",
        "        self.input_size = input_size\n",
        "        self.hidden_size = hidden_size\n",
        "        self.seq_length = seq_length\n",
        "        \n",
        "        self.lstm = nn.LSTM(input_size=input_size, hidden_size=hidden_size,\n",
        "                            num_layers=num_layers, batch_first=True)\n",
        "        \n",
        "        self.fc = nn.Linear(hidden_size, num_classes)\n",
        "\n",
        "    def forward(self, x):\n",
        "        h_0 = Variable(torch.zeros(\n",
        "            self.num_layers, x.size(0), self.hidden_size))\n",
        "        \n",
        "        c_0 = Variable(torch.zeros(\n",
        "            self.num_layers, x.size(0), self.hidden_size))\n",
        "        \n",
        "        # Propagate input through LSTM\n",
        "        ula, (h_out, _) = self.lstm(x, (h_0, c_0))\n",
        "        \n",
        "        h_out = h_out.view(-1, self.hidden_size)\n",
        "        \n",
        "        out = self.fc(h_out)\n",
        "        \n",
        "        return out\n",
        "\n",
        "# 레이어 추가 예시\n",
        "\n",
        "# # 모델 만들기\n",
        "\n",
        "# class LSTM(nn.Module):\n",
        "#   def __init__(self, num_classes, input_size, hidden_size, num_layers, seq_length):\n",
        "#     super(LSTM, self).__init__()\n",
        "#     self.num_classes = num_classes #number of classes\n",
        "#     self.num_layers = num_layers #number of layers\n",
        "#     self.input_size = input_size #input size\n",
        "#     self.hidden_size = hidden_size #hidden state\n",
        "#     self.seq_length = seq_length #sequence length\n",
        " \n",
        "#     self.lstm = nn.LSTM(input_size=input_size, hidden_size=hidden_size,\n",
        "#                       num_layers=num_layers, batch_first=True) #lstm\n",
        "#     self.fc_1 =  nn.Linear(hidden_size, 128) #fully connected 1\n",
        "#     self.fc = nn.Linear(128, num_classes) #fully connected last layer\n",
        "\n",
        "#     self.relu = nn.ReLU() \n",
        "\n",
        "#   def forward(self,x):\n",
        "#     h_0 = Variable(torch.zeros(self.num_layers, x.size(0), self.hidden_size)) #hidden state\n",
        "#     c_0 = Variable(torch.zeros(self.num_layers, x.size(0), self.hidden_size)) #internal state   \n",
        "#     # Propagate input through LSTM\n",
        "\n",
        "#     output, (hn, cn) = self.lstm(x, (h_0, c_0)) #lstm with input, hidden, and internal state\n",
        "   \n",
        "#     hn = hn.view(-1, self.hidden_size) #reshaping the data for Dense layer next\n",
        "#     out = self.relu(hn)\n",
        "#     out = self.fc_1(out) #first Dense\n",
        "#     out = self.relu(out) #relu\n",
        "#     out = self.fc(out) #Final Output\n",
        "   \n",
        "#     return out \n",
        "\n",
        "\n",
        "# print()"
      ],
      "metadata": {
        "id": "G-Mul-XcZ3GV"
      },
      "execution_count": 35,
      "outputs": []
    },
    {
      "cell_type": "code",
      "source": [
        "num_epochs = 2000\n",
        "learning_rate = 0.01\n",
        "\n",
        "input_size = 4 # 컬럼 개수\n",
        "hidden_size = 2\n",
        "num_layers = 1\n",
        "\n",
        "num_classes = 1\n",
        "\n",
        "lstm = LSTM(num_classes, input_size, hidden_size, num_layers, trainX_fin.shape[1])\n",
        "\n",
        "loss_function = torch.nn.MSELoss()    # mean-squared error for regression\n",
        "optimizer = torch.optim.Adam(lstm.parameters(), lr=learning_rate)\n",
        "#optimizer = torch.optim.SGD(lstm.parameters(), lr=learning_rate)\n",
        "\n",
        "# Train the model\n",
        "for epoch in range(num_epochs):\n",
        "    outputs = lstm.forward(trainX_fin)\n",
        "    optimizer.zero_grad()\n",
        "    \n",
        "    # obtain the loss function\n",
        "    loss = loss_function(outputs, trainY)\n",
        "    \n",
        "    loss.backward()\n",
        "    \n",
        "    optimizer.step()\n",
        "    if epoch % 100 == 0:\n",
        "      print(\"Epoch: %d, loss: %1.5f\" % (epoch, loss.item()))"
      ],
      "metadata": {
        "colab": {
          "base_uri": "https://localhost:8080/"
        },
        "id": "-bOmhg-lZ7i3",
        "outputId": "1ec0ffb2-ef12-47b2-930c-2340c8db87d9"
      },
      "execution_count": 36,
      "outputs": [
        {
          "output_type": "stream",
          "name": "stdout",
          "text": [
            "Epoch: 0, loss: 0.48286\n",
            "Epoch: 100, loss: 0.01456\n",
            "Epoch: 200, loss: 0.00340\n",
            "Epoch: 300, loss: 0.00328\n",
            "Epoch: 400, loss: 0.00318\n",
            "Epoch: 500, loss: 0.00308\n",
            "Epoch: 600, loss: 0.00299\n",
            "Epoch: 700, loss: 0.00291\n",
            "Epoch: 800, loss: 0.00284\n",
            "Epoch: 900, loss: 0.00278\n",
            "Epoch: 1000, loss: 0.00273\n",
            "Epoch: 1100, loss: 0.00270\n",
            "Epoch: 1200, loss: 0.00267\n",
            "Epoch: 1300, loss: 0.00265\n",
            "Epoch: 1400, loss: 0.00263\n",
            "Epoch: 1500, loss: 0.00262\n",
            "Epoch: 1600, loss: 0.00261\n",
            "Epoch: 1700, loss: 0.00259\n",
            "Epoch: 1800, loss: 0.00258\n",
            "Epoch: 1900, loss: 0.00257\n"
          ]
        }
      ]
    },
    {
      "cell_type": "markdown",
      "source": [
        "### 모델 평가"
      ],
      "metadata": {
        "id": "5-6FTVL3WqkK"
      }
    },
    {
      "cell_type": "code",
      "source": [
        "# 모델 평가하기\n",
        "lstm.eval()\n",
        "\n",
        "# 학습시킨 모델에 전체 데이터를 적용시켜 Y를 추출한 것\n",
        "# 전체 데이터의 2/3인 train 데이터까지는 모델 학습에서 사용했던 데이터이고\n",
        "# 1/3인 test 데이터는 모델이 예측한 값\n",
        "train_predict = lstm(dataX_fin)\n",
        "\n",
        "# 전체 데이터 예측 값(Y)을 numpy array로 변경\n",
        "data_predict = train_predict.data.numpy()\n",
        "\n",
        "# 실제 Y데이터 값을 numpy array로 변경\n",
        "dataY_plot = dataY.data.numpy()\n",
        "\n",
        "# 위에서 모델에 적용하려고 0~1 사이로 정규화했던 값을 다시 inverse\n",
        "data_predict = sc.inverse_transform(data_predict)\n",
        "dataY_plot = sc.inverse_transform(dataY_plot)\n",
        "\n",
        "# 학습에 사용됐던 데이터와 예측한 값의 경계를 선으로 표현\n",
        "plt.axvline(x=train_size, c='r', linestyle='--')\n",
        "\n",
        "plt.plot(dataY_plot)\n",
        "plt.plot(data_predict)\n",
        "plt.suptitle('Time-Series Prediction_LSTM')\n",
        "plt.show()"
      ],
      "metadata": {
        "colab": {
          "base_uri": "https://localhost:8080/",
          "height": 294
        },
        "id": "D3xBV3bxZ93E",
        "outputId": "e1521725-5c58-471a-b1f3-eca4f8ce67d3"
      },
      "execution_count": 37,
      "outputs": [
        {
          "output_type": "display_data",
          "data": {
            "text/plain": [
              "<Figure size 432x288 with 1 Axes>"
            ],
            "image/png": "[encoded data removed]"
          },
          "metadata": {
            "needs_background": "light"
          }
        }
      ]
    },
    {
      "cell_type": "markdown",
      "source": [
        "### 평가지표 구하기"
      ],
      "metadata": {
        "id": "zagX3bvicidi"
      }
    },
    {
      "cell_type": "code",
      "source": [
        "from sklearn.metrics import mean_squared_error"
      ],
      "metadata": {
        "id": "IjWDctfARr2s"
      },
      "execution_count": 38,
      "outputs": []
    },
    {
      "cell_type": "code",
      "source": [
        "# 예측값: data_predict\n",
        "# 실제값: dataY_plot\n",
        "\n",
        "data_predict_fin = list(data_predict.flatten())\n",
        "dataY_plot_fin = list(dataY_plot.flatten())"
      ],
      "metadata": {
        "id": "ATJCBRkwcwdg"
      },
      "execution_count": 39,
      "outputs": []
    },
    {
      "cell_type": "code",
      "source": [
        "score_table = pd.DataFrame({'True': dataY_plot_fin,\n",
        "                            'Pred': data_predict_fin})"
      ],
      "metadata": {
        "id": "LI0KlnjBIQCP"
      },
      "execution_count": 40,
      "outputs": []
    },
    {
      "cell_type": "code",
      "source": [
        "score_table"
      ],
      "metadata": {
        "colab": {
          "base_uri": "https://localhost:8080/",
          "height": 424
        },
        "id": "xwh2aUEEdu8X",
        "outputId": "b6553463-7c21-48f3-eb14-58121aecdda5"
      },
      "execution_count": 41,
      "outputs": [
        {
          "output_type": "execute_result",
          "data": {
            "text/plain": [
              "             True          Pred\n",
              "0    80800.000000  80581.476562\n",
              "1    82800.000000  80872.804688\n",
              "2    82200.000000  82713.843750\n",
              "3    81900.000000  81600.492188\n",
              "4    81900.000000  81427.835938\n",
              "..            ...           ...\n",
              "247  66700.000000  68295.640625\n",
              "248  66800.000000  67961.281250\n",
              "249  65500.000000  67993.960938\n",
              "250  65300.003906  67330.437500\n",
              "251  65200.000000  67286.039062\n",
              "\n",
              "[252 rows x 2 columns]"
            ],
            "text/html": [
              "\n",
              "  <div id=\"df-6a1cd811-3388-43b3-8128-45735dd36329\">\n",
              "    <div class=\"colab-df-container\">\n",
              "      <div>\n",
              "<style scoped>\n",
              "    .dataframe tbody tr th:only-of-type {\n",
              "        vertical-align: middle;\n",
              "    }\n",
              "\n",
              "    .dataframe tbody tr th {\n",
              "        vertical-align: top;\n",
              "    }\n",
              "\n",
              "    .dataframe thead th {\n",
              "        text-align: right;\n",
              "    }\n",
              "</style>\n",
              "<table border=\"1\" class=\"dataframe\">\n",
              "  <thead>\n",
              "    <tr style=\"text-align: right;\">\n",
              "      <th></th>\n",
              "      <th>True</th>\n",
              "      <th>Pred</th>\n",
              "    </tr>\n",
              "  </thead>\n",
              "  <tbody>\n",
              "    <tr>\n",
              "      <th>0</th>\n",
              "      <td>80800.000000</td>\n",
              "      <td>80581.476562</td>\n",
              "    </tr>\n",
              "    <tr>\n",
              "      <th>1</th>\n",
              "      <td>82800.000000</td>\n",
              "      <td>80872.804688</td>\n",
              "    </tr>\n",
              "    <tr>\n",
              "      <th>2</th>\n",
              "      <td>82200.000000</td>\n",
              "      <td>82713.843750</td>\n",
              "    </tr>\n",
              "    <tr>\n",
              "      <th>3</th>\n",
              "      <td>81900.000000</td>\n",
              "      <td>81600.492188</td>\n",
              "    </tr>\n",
              "    <tr>\n",
              "      <th>4</th>\n",
              "      <td>81900.000000</td>\n",
              "      <td>81427.835938</td>\n",
              "    </tr>\n",
              "    <tr>\n",
              "      <th>...</th>\n",
              "      <td>...</td>\n",
              "      <td>...</td>\n",
              "    </tr>\n",
              "    <tr>\n",
              "      <th>247</th>\n",
              "      <td>66700.000000</td>\n",
              "      <td>68295.640625</td>\n",
              "    </tr>\n",
              "    <tr>\n",
              "      <th>248</th>\n",
              "      <td>66800.000000</td>\n",
              "      <td>67961.281250</td>\n",
              "    </tr>\n",
              "    <tr>\n",
              "      <th>249</th>\n",
              "      <td>65500.000000</td>\n",
              "      <td>67993.960938</td>\n",
              "    </tr>\n",
              "    <tr>\n",
              "      <th>250</th>\n",
              "      <td>65300.003906</td>\n",
              "      <td>67330.437500</td>\n",
              "    </tr>\n",
              "    <tr>\n",
              "      <th>251</th>\n",
              "      <td>65200.000000</td>\n",
              "      <td>67286.039062</td>\n",
              "    </tr>\n",
              "  </tbody>\n",
              "</table>\n",
              "<p>252 rows × 2 columns</p>\n",
              "</div>\n",
              "      <button class=\"colab-df-convert\" onclick=\"convertToInteractive('df-6a1cd811-3388-43b3-8128-45735dd36329')\"\n",
              "              title=\"Convert this dataframe to an interactive table.\"\n",
              "              style=\"display:none;\">\n",
              "        \n",
              "  <svg xmlns=\"http://www.w3.org/2000/svg\" height=\"24px\"viewBox=\"0 0 24 24\"\n",
              "       width=\"24px\">\n",
              "    <path d=\"M0 0h24v24H0V0z\" fill=\"none\"/>\n",
              "    <path d=\"M18.56 5.44l.94 2.06.94-2.06 2.06-.94-2.06-.94-.94-2.06-.94 2.06-2.06.94zm-11 1L8.5 8.5l.94-2.06 2.06-.94-2.06-.94L8.5 2.5l-.94 2.06-2.06.94zm10 10l.94 2.06.94-2.06 2.06-.94-2.06-.94-.94-2.06-.94 2.06-2.06.94z\"/><path d=\"M17.41 7.96l-1.37-1.37c-.4-.4-.92-.59-1.43-.59-.52 0-1.04.2-1.43.59L10.3 9.45l-7.72 7.72c-.78.78-.78 2.05 0 2.83L4 21.41c.39.39.9.59 1.41.59.51 0 1.02-.2 1.41-.59l7.78-7.78 2.81-2.81c.8-.78.8-2.07 0-2.86zM5.41 20L4 18.59l7.72-7.72 1.47 1.35L5.41 20z\"/>\n",
              "  </svg>\n",
              "      </button>\n",
              "      \n",
              "  <style>\n",
              "    .colab-df-container {\n",
              "      display:flex;\n",
              "      flex-wrap:wrap;\n",
              "      gap: 12px;\n",
              "    }\n",
              "\n",
              "    .colab-df-convert {\n",
              "      background-color: #E8F0FE;\n",
              "      border: none;\n",
              "      border-radius: 50%;\n",
              "      cursor: pointer;\n",
              "      display: none;\n",
              "      fill: #1967D2;\n",
              "      height: 32px;\n",
              "      padding: 0 0 0 0;\n",
              "      width: 32px;\n",
              "    }\n",
              "\n",
              "    .colab-df-convert:hover {\n",
              "      background-color: #E2EBFA;\n",
              "      box-shadow: 0px 1px 2px rgba(60, 64, 67, 0.3), 0px 1px 3px 1px rgba(60, 64, 67, 0.15);\n",
              "      fill: #174EA6;\n",
              "    }\n",
              "\n",
              "    [theme=dark] .colab-df-convert {\n",
              "      background-color: #3B4455;\n",
              "      fill: #D2E3FC;\n",
              "    }\n",
              "\n",
              "    [theme=dark] .colab-df-convert:hover {\n",
              "      background-color: #434B5C;\n",
              "      box-shadow: 0px 1px 3px 1px rgba(0, 0, 0, 0.15);\n",
              "      filter: drop-shadow(0px 1px 2px rgba(0, 0, 0, 0.3));\n",
              "      fill: #FFFFFF;\n",
              "    }\n",
              "  </style>\n",
              "\n",
              "      <script>\n",
              "        const buttonEl =\n",
              "          document.querySelector('#df-6a1cd811-3388-43b3-8128-45735dd36329 button.colab-df-convert');\n",
              "        buttonEl.style.display =\n",
              "          google.colab.kernel.accessAllowed ? 'block' : 'none';\n",
              "\n",
              "        async function convertToInteractive(key) {\n",
              "          const element = document.querySelector('#df-6a1cd811-3388-43b3-8128-45735dd36329');\n",
              "          const dataTable =\n",
              "            await google.colab.kernel.invokeFunction('convertToInteractive',\n",
              "                                                     [key], {});\n",
              "          if (!dataTable) return;\n",
              "\n",
              "          const docLinkHtml = 'Like what you see? Visit the ' +\n",
              "            '<a target=\"_blank\" href=https://colab.research.google.com/notebooks/data_table.ipynb>data table notebook</a>'\n",
              "            + ' to learn more about interactive tables.';\n",
              "          element.innerHTML = '';\n",
              "          dataTable['output_type'] = 'display_data';\n",
              "          await google.colab.output.renderOutput(dataTable, element);\n",
              "          const docLink = document.createElement('div');\n",
              "          docLink.innerHTML = docLinkHtml;\n",
              "          element.appendChild(docLink);\n",
              "        }\n",
              "      </script>\n",
              "    </div>\n",
              "  </div>\n",
              "  "
            ]
          },
          "metadata": {},
          "execution_count": 41
        }
      ]
    },
    {
      "cell_type": "code",
      "source": [
        "# validation score\n",
        "MSE = mean_squared_error(score_table['True'], score_table['Pred'])\n",
        "RMSE = np.sqrt(MSE)\n",
        "\n",
        "score = 100*(1-(((score_table['Pred']-score_table['True'])**2).sum())/((score_table['True']**2).sum()))"
      ],
      "metadata": {
        "id": "eJ5qSnqhdyPJ"
      },
      "execution_count": 42,
      "outputs": []
    },
    {
      "cell_type": "code",
      "source": [
        "print(\"MSE : {0}, RMSE : {1}, SCORE : {2}\".format(MSE, RMSE, score))"
      ],
      "metadata": {
        "colab": {
          "base_uri": "https://localhost:8080/"
        },
        "id": "MX2XBGTYd05t",
        "outputId": "f5345d51-4838-49a5-d9bb-dd8b22d36115"
      },
      "execution_count": 43,
      "outputs": [
        {
          "output_type": "stream",
          "name": "stdout",
          "text": [
            "MSE : 1044863.375, RMSE : 1022.1856079101562, SCORE : 99.98097061616136\n"
          ]
        }
      ]
    },
    {
      "cell_type": "code",
      "source": [
        ""
      ],
      "metadata": {
        "id": "TM6h7l52d10y"
      },
      "execution_count": 43,
      "outputs": []
    }
  ]
}